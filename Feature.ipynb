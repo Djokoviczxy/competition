{
 "cells": [
  {
   "cell_type": "code",
   "execution_count": 1,
   "id": "9edcafe0",
   "metadata": {
    "ExecuteTime": {
     "end_time": "2023-08-08T08:40:56.554736900Z",
     "start_time": "2023-08-08T08:40:56.348285300Z"
    }
   },
   "outputs": [],
   "source": [
    "import os\n",
    "import gc\n",
    "import time\n",
    "import math\n",
    "import warnings\n",
    "\n",
    "import pandas as pd\n",
    "import numpy as np\n",
    "import matplotlib.pyplot as plt\n",
    "import seaborn as sns\n",
    "from tqdm import tqdm\n",
    "from joblib import delayed, Parallel\n",
    "\n",
    "warnings.filterwarnings('ignore')"
   ]
  },
  {
   "cell_type": "markdown",
   "id": "e96f8732",
   "metadata": {},
   "source": [
    "# 计算特征的函数"
   ]
  },
  {
   "cell_type": "code",
   "execution_count": 2,
   "id": "35e837bc",
   "metadata": {
    "ExecuteTime": {
     "end_time": "2023-07-31T01:43:08.555983Z",
     "start_time": "2023-07-31T01:43:08.541760Z"
    }
   },
   "outputs": [],
   "source": [
    "def cal_bollingerBands(data):\n",
    "    \"\"\"\n",
    "    计算每个tick的布林带，布林带上下轨与移动平均线的标准差倍数默认为2，窗口[5, 10, 20, 40]\n",
    "    Input:\n",
    "        data: 一只股票一天的snapshot数据\n",
    "    Output:\n",
    "        ret: 单只股票每个tick的布林带上轨、中轨、下轨的numpy数组\n",
    "                        (4个窗口分别对应上轨、中轨、下轨，总共12列)\n",
    "        time: 时间戳数组\n",
    "    \"\"\"\n",
    "    time = pd.to_datetime(data['time'])\n",
    "    tick_prices = data['n_close']\n",
    "    \n",
    "    windows=[5, 10, 20, 40]\n",
    "    ret = np.zeros((tick_prices.shape[0], 3*len(windows)))\n",
    "    ret[:] = np.nan\n",
    "    \n",
    "    num_std=2\n",
    "\n",
    "    for idx, window in enumerate(windows):\n",
    "        rolling_mean = tick_prices.rolling(window=window, min_periods=window).mean()\n",
    "        rolling_std = tick_prices.rolling(window=window, min_periods=window).std()\n",
    "\n",
    "        # 计算布林带上下轨\n",
    "        upper_band = rolling_mean + num_std * rolling_std\n",
    "        lower_band = rolling_mean - num_std * rolling_std\n",
    "\n",
    "        # 将布林带上轨、中轨、下轨加入结果数组\n",
    "        ret[:, idx*3] = upper_band.values\n",
    "        ret[:, idx*3 + 1] = rolling_mean.values\n",
    "        ret[:, idx*3 + 2] = lower_band.values\n",
    "\n",
    "    return ret, time"
   ]
  },
  {
   "cell_type": "code",
   "execution_count": 3,
   "id": "09c29865",
   "metadata": {
    "ExecuteTime": {
     "end_time": "2023-07-31T01:43:08.568865Z",
     "start_time": "2023-07-31T01:43:08.557275Z"
    }
   },
   "outputs": [],
   "source": [
    "# data = pd.read_csv('./data/train/snapshot_sym0_date0_am.csv', index_col=0)\n",
    "# ret, time1 = cal_bollingerBands(data)"
   ]
  },
  {
   "cell_type": "code",
   "execution_count": 4,
   "id": "ce08ebef",
   "metadata": {
    "ExecuteTime": {
     "end_time": "2023-07-31T01:43:08.583080Z",
     "start_time": "2023-07-31T01:43:08.568865Z"
    }
   },
   "outputs": [],
   "source": [
    "def cal_cmo(data):\n",
    "    \"\"\"\n",
    "    计算Chande Momentum Oscillator (CMO)因子\n",
    "    输入：\n",
    "        data: 一只股票一天的snapshot数据\n",
    "    输出：\n",
    "        ret：包含5、10、20、40窗口大小的CMO因子值的numpy数组\n",
    "    \"\"\"\n",
    "    close_prices = data['n_close'].values\n",
    "    windows = [5, 10, 20, 40]\n",
    "    ret = np.zeros((len(close_prices), len(windows)))\n",
    "    ret[:] = np.nan\n",
    "    \n",
    "    for idx, window in enumerate(windows):\n",
    "        up_changes = np.zeros(len(close_prices))\n",
    "        down_changes = np.zeros(len(close_prices))\n",
    "\n",
    "        for i in range(window, len(close_prices)):\n",
    "            up_sum = np.sum(close_prices[i-window+1:i+1][close_prices[i-window+1:i+1] > close_prices[i-window+1]])\n",
    "            down_sum = np.sum(close_prices[i-window+1:i+1][close_prices[i-window+1:i+1] < close_prices[i-window+1]])\n",
    "            up_changes[i-1] = up_sum\n",
    "            down_changes[i-1] = down_sum\n",
    "            \n",
    "        ret[:window-1, idx] = np.nan\n",
    "        ret[window-1:, idx] = ((up_changes[window-1:]-down_changes[window-1:]) / (up_changes[window-1:]+down_changes[window-1:]))\n",
    "\n",
    "    return ret"
   ]
  },
  {
   "cell_type": "code",
   "execution_count": 5,
   "id": "3d5761fd",
   "metadata": {
    "ExecuteTime": {
     "end_time": "2023-07-31T01:43:08.599098Z",
     "start_time": "2023-07-31T01:43:08.583935Z"
    }
   },
   "outputs": [],
   "source": [
    "def cal_mom(data):\n",
    "    \"\"\"\n",
    "    计算窗口内的Momentum值，窗口选1、5、10、20、40\n",
    "    Input:\n",
    "        data: 一只股票一天的snapshot数据\n",
    "    Output:\n",
    "        ret: 单只股票每个tick的Momentum因子，包含1、5、10、20、40窗口\n",
    "    \"\"\"\n",
    "    close_prices = data['n_close'].values\n",
    "\n",
    "    windows = [1, 5, 10, 20, 40]\n",
    "    ret = np.zeros((close_prices.shape[0], len(windows)))\n",
    "    ret[:] = np.nan\n",
    "\n",
    "    for i, window in enumerate(windows):\n",
    "        ret[window:, i] = close_prices[window:] - close_prices[:-window]\n",
    "\n",
    "    return ret"
   ]
  },
  {
   "cell_type": "code",
   "execution_count": 6,
   "id": "602a890f",
   "metadata": {
    "ExecuteTime": {
     "end_time": "2023-07-31T01:43:08.615086Z",
     "start_time": "2023-07-31T01:43:08.599098Z"
    }
   },
   "outputs": [],
   "source": [
    "def cal_roc(data):\n",
    "    \"\"\"\n",
    "    计算ROC (Rate of Change)因子,收盘价相对前window期价格的相对变化率，窗口选1, 5, 10, 20, 40\n",
    "    Input:\n",
    "        data: 一只股票一天的snapshot数据\n",
    "    Output:\n",
    "        ret: 收盘价的ROC因子，包含1、5、10、20、40窗口的结果\n",
    "    \"\"\"\n",
    "    close_prices = data['n_close'].values\n",
    "    windows = [1, 5, 10, 20, 40]\n",
    "    ret = np.zeros((close_prices.shape[0], len(windows)))\n",
    "    ret[:] = np.nan\n",
    "    \n",
    "    for i, window in enumerate(windows):\n",
    "        roc_values = close_prices[window:] / close_prices[:-window] - 1\n",
    "        ret[window:, i] = roc_values\n",
    "\n",
    "    return ret"
   ]
  },
  {
   "cell_type": "code",
   "execution_count": 7,
   "id": "efd77650",
   "metadata": {
    "ExecuteTime": {
     "end_time": "2023-07-31T01:43:08.628659Z",
     "start_time": "2023-07-31T01:43:08.625147Z"
    }
   },
   "outputs": [],
   "source": [
    "def cal_rsi(data):\n",
    "    \"\"\"\n",
    "    计算相对强弱指数（RSI）\n",
    "    Input:\n",
    "        data: 一只股票一天的snapshot数据\n",
    "    Output:\n",
    "        ret : RSI指标数组，包含RSI值\n",
    "    \"\"\"\n",
    "    windows = [5, 10, 20, 40]\n",
    "    close_prices = data['n_close']\n",
    "    ret = np.zeros((close_prices.shape[0], len(windows)))\n",
    "    ret[:] = np.nan\n",
    "    \n",
    "    price_change = close_prices.diff()\n",
    "\n",
    "    positive_change = price_change.where(price_change > 0, 0)\n",
    "    negative_change = -price_change.where(price_change < 0, 0)\n",
    "\n",
    "    for i, window in enumerate(windows):\n",
    "        avg_gain = positive_change.rolling(window=window, min_periods=window).mean()\n",
    "        avg_loss = negative_change.rolling(window=window, min_periods=window).mean()\n",
    "        relative_strength = avg_gain / avg_loss\n",
    "        rsi = 100 - (100 / (1 + relative_strength))\n",
    "        ret[:, i] = rsi\n",
    "        \n",
    "    return ret"
   ]
  },
  {
   "cell_type": "code",
   "execution_count": 8,
   "id": "4970538d",
   "metadata": {
    "ExecuteTime": {
     "end_time": "2023-07-31T01:43:08.865453Z",
     "start_time": "2023-07-31T01:43:08.859614Z"
    }
   },
   "outputs": [],
   "source": [
    "def cal_mktIntensity(data):\n",
    "    \"\"\"\n",
    "    计算市场紧密度因子，2*5\n",
    "    报价差因子：qs = (n_ask{i} - n_bid{i}) / (0.5 * (n_ask{i} + n_bid{i}))\n",
    "    有效价差因子：es = 2 * (n_close - 0.5 * (n_ask{i} + n_bid{i})) / (0.5 * (n_ask{i} + n_bid{i}))\n",
    "    Input:\n",
    "        data: 一只股票一天的snapshot数据\n",
    "    Output:\n",
    "        ret: 单只股票一天的因子值 (qs和es)\n",
    "    \"\"\"\n",
    "    ret = np.zeros((data.shape[0], 10))\n",
    "    time = data['time'].values\n",
    "    \n",
    "    n_ask = data[['n_ask1', 'n_ask2', 'n_ask3', 'n_ask4', 'n_ask5']].values\n",
    "    n_bid = data[['n_bid1', 'n_bid2', 'n_bid3', 'n_bid4', 'n_bid5']].values\n",
    "    n_close = data['n_close'].values\n",
    "\n",
    "    qs = (n_ask - n_bid) / (0.5 * (n_ask + n_bid))\n",
    "    es = 2 * (n_close[:, np.newaxis] - 0.5 * (n_ask + n_bid)) / (0.5 * (n_ask + n_bid))\n",
    "\n",
    "    ret[:, :5] = qs\n",
    "    ret[:, 5:] = es\n",
    "\n",
    "    return ret"
   ]
  },
  {
   "cell_type": "code",
   "execution_count": 9,
   "id": "bd26b846",
   "metadata": {
    "ExecuteTime": {
     "end_time": "2023-07-31T01:43:09.114942Z",
     "start_time": "2023-07-31T01:43:09.102046Z"
    }
   },
   "outputs": [],
   "source": [
    "def cal_elatricityTrading(data):\n",
    "    \"\"\"\n",
    "    计算elatricityTrading交易弹性因子，elatricityTrading = 成交量变化率 / 收盘价变化率\n",
    "    Input:\n",
    "        data: 一只股票一天的snapshot数据\n",
    "    Output:\n",
    "        ret: 单只股票一天的因子值 (elatricityTrading)\n",
    "    \"\"\"\n",
    "    ret = np.zeros((data.shape[0], 1))\n",
    "    time = data['time'].values\n",
    "    \n",
    "    amount = data['amount_delta'].values\n",
    "    n_close = data['n_close'].values\n",
    "\n",
    "    amount_delta = amount[1:] / amount[:-1] - 1  # 成交量变化率\n",
    "    close_delta = n_close[1:] / n_close[:-1] - 1  # 收盘价变化率\n",
    "\n",
    "    elatricityTrading = amount_delta / close_delta\n",
    "\n",
    "    ret[1:, 0] = elatricityTrading\n",
    "    ret[0, 0] = np.nan\n",
    "\n",
    "    return ret"
   ]
  },
  {
   "cell_type": "code",
   "execution_count": 10,
   "id": "be36f410",
   "metadata": {
    "ExecuteTime": {
     "end_time": "2023-07-31T01:43:09.356798Z",
     "start_time": "2023-07-31T01:43:09.346617Z"
    }
   },
   "outputs": [],
   "source": [
    "def cal_volatility(data):\n",
    "    \"\"\"\n",
    "    计算窗口内的波动率，窗口选5, 10, 20, 40\n",
    "    Input:\n",
    "        data: 一只股票一天的snapshot数据\n",
    "    Output:\n",
    "        ret: 单只股票每个tick的波动率，包含5、10、20、40窗口的结果\n",
    "    \"\"\"\n",
    "    time = data['time'].values\n",
    "    tick_prices = data['n_close']\n",
    "\n",
    "    # 计算收益率\n",
    "    returns = (tick_prices / tick_prices.shift(1)) - 1\n",
    "\n",
    "    windows = [5, 10, 20, 40]\n",
    "    ret = np.zeros((tick_prices.shape[0], len(windows)))\n",
    "\n",
    "    for idx, window in enumerate(windows):\n",
    "        # 使用rolling计算波动率，std()默认自动考虑NaN值\n",
    "        volatility = returns.rolling(window).std() * np.sqrt(252)\n",
    "        ret[:, idx] = volatility.values\n",
    "        \n",
    "    return ret"
   ]
  },
  {
   "cell_type": "code",
   "execution_count": 11,
   "id": "a8d89e65",
   "metadata": {
    "ExecuteTime": {
     "end_time": "2023-07-31T01:43:09.623213Z",
     "start_time": "2023-07-31T01:43:09.601069Z"
    }
   },
   "outputs": [],
   "source": [
    "def cal_mpc(data):\n",
    "    \"\"\"\n",
    "    计算MPC（Midpoint Price Change）因子，mid-price在一个窗口内的变化率，窗口选5, 10, 20, 40\n",
    "    Input:\n",
    "        data: 一只股票一天的snapshot数据\n",
    "    Output:\n",
    "        ret: 单只股票一天的因子值\n",
    "    \"\"\"\n",
    "    time = data['time'].values\n",
    "    \n",
    "    n_midprice = data['n_midprice'].values\n",
    "\n",
    "    windows = [5, 10, 20, 40]\n",
    "    ret = np.zeros((data.shape[0], len(windows)))\n",
    "    \n",
    "    for idx, window in enumerate(windows):\n",
    "        mpc_values = (n_midprice[window:] - n_midprice[:-window]) / n_midprice[:-window]\n",
    "        # 对于窗口大小之前的数据，填NaN\n",
    "        mpc_values = np.concatenate((np.full(window, np.nan), mpc_values))\n",
    "        \n",
    "        ret[:, idx] = mpc_values\n",
    "    \n",
    "    return ret"
   ]
  },
  {
   "cell_type": "code",
   "execution_count": 12,
   "id": "ed2a4e64",
   "metadata": {
    "ExecuteTime": {
     "end_time": "2023-07-31T01:43:09.872804Z",
     "start_time": "2023-07-31T01:43:09.859515Z"
    }
   },
   "outputs": [],
   "source": [
    "def cal_timeEncoding(data):\n",
    "    \"\"\"\n",
    "    构造时、分、秒以及特定时间段的encoding特征\n",
    "    Input:\n",
    "        data: 一只股票一天的snapshot数据\n",
    "    Output:\n",
    "        ret: 包含时、分、秒和特定时间段的encoding特征的numpy数组\n",
    "    \"\"\"\n",
    "    time = pd.to_datetime(data['time'])\n",
    "    \n",
    "    # 提取时、分、秒\n",
    "    hour = time.dt.hour\n",
    "    minute = time.dt.minute\n",
    "    second = time.dt.second\n",
    "    \n",
    "    # 创建特定时间段的编码特征\n",
    "    trading_time_intervals = [\n",
    "        (pd.to_datetime('09:30:00').time(), pd.to_datetime('10:00:00').time()),\n",
    "        (pd.to_datetime('10:00:00').time(), pd.to_datetime('10:30:00').time()),\n",
    "        (pd.to_datetime('10:30:00').time(), pd.to_datetime('11:00:00').time()),\n",
    "        (pd.to_datetime('11:00:00').time(), pd.to_datetime('11:30:00').time()),\n",
    "        (pd.to_datetime('13:00:00').time(), pd.to_datetime('13:30:00').time()),\n",
    "        (pd.to_datetime('13:30:00').time(), pd.to_datetime('14:00:00').time()),\n",
    "        (pd.to_datetime('14:00:00').time(), pd.to_datetime('14:30:00').time()),\n",
    "        (pd.to_datetime('14:30:00').time(), pd.to_datetime('15:00:00').time())\n",
    "    ]\n",
    "    \n",
    "    trading_intervals_encoding = np.zeros((len(data),), dtype=int)\n",
    "    for idx, (start_time, end_time) in enumerate(trading_time_intervals):\n",
    "        mask = (time.dt.time >= start_time) & (time.dt.time < end_time)\n",
    "        trading_intervals_encoding[mask] = idx\n",
    "    \n",
    "    # 将编码后的时、分、秒和特定时间段的特征组合成一个numpy数组\n",
    "    ret = trading_intervals_encoding.reshape(-1,1)\n",
    "    hour_array = hour.values.reshape(-1, 1)\n",
    "    minute_array = minute.values.reshape(-1, 1)\n",
    "    second_array = second.values.reshape(-1, 1)\n",
    "    ret = np.concatenate((ret, hour_array, minute_array, second_array), axis=1)\n",
    "    \n",
    "    return ret"
   ]
  },
  {
   "cell_type": "code",
   "execution_count": null,
   "id": "382fd08c",
   "metadata": {},
   "outputs": [],
   "source": []
  },
  {
   "cell_type": "markdown",
   "id": "081777db",
   "metadata": {},
   "source": [
    "# 扩充特征"
   ]
  },
  {
   "cell_type": "code",
   "execution_count": 13,
   "id": "5cd20f90",
   "metadata": {
    "ExecuteTime": {
     "end_time": "2023-07-31T01:43:10.619739Z",
     "start_time": "2023-07-31T01:43:10.609284Z"
    }
   },
   "outputs": [],
   "source": [
    "def cal_extra_fea(df_original_fea, window, fac_to_remain=None, stadardize=False):\n",
    "    '''\n",
    "    df_original_fea: pd.Series, index为date_id和security_id, name为因子名称\n",
    "    window: list\n",
    "    fac_to_remain: list, 指保留的因子名称\n",
    "     '''\n",
    "    f = df_original_fea.name\n",
    "    fea_wide = df_original_fea.unstack()\n",
    "    feature = pd.DataFrame(index=df_original_fea.index)\n",
    "    # 是否进行量纲处理\n",
    "    if stadardize:\n",
    "        df_stadardize = df_original_fea\n",
    "    else:\n",
    "        df_stadardize = 1\n",
    "    for w in window:            \n",
    "        # mom\n",
    "        fname = f'{f}_mom{w}'\n",
    "        if fac_to_remain is None or fname in fac_to_remain:\n",
    "            shifted_fea_wide = fea_wide.shift(w)\n",
    "            divisor = np.where(shifted_fea_wide != 0, shifted_fea_wide, np.nan)\n",
    "            fea_tmp = (fea_wide - shifted_fea_wide) / divisor\n",
    "            feature[fname] = fea_tmp.stack(dropna=False)\n",
    "\n",
    "        # mean\n",
    "        fname = f'{f}_mean{w}'\n",
    "        if fac_to_remain is None or fname in fac_to_remain:\n",
    "            fea_tmp = fea_wide.rolling(w, min_periods=w).mean()\n",
    "            feature[fname] = fea_tmp.stack(dropna=False)\n",
    "        # std\n",
    "        fname = f'{f}_std{w}'\n",
    "        if fac_to_remain is None or fname in fac_to_remain:\n",
    "            fea_tmp = fea_wide.rolling(w, min_periods=w).std()\n",
    "            feature[fname] = fea_tmp.stack(dropna=False)\n",
    "        # max\n",
    "        fname = f'{f}_max{w}'\n",
    "        if fac_to_remain is None or fname in fac_to_remain:\n",
    "            fea_tmp = fea_wide.rolling(w, min_periods=w).max()\n",
    "            feature[fname] = fea_tmp.stack(dropna=False) / df_stadardize\n",
    "        # min\n",
    "        fname = f'{f}_min{w}'\n",
    "        if fac_to_remain is None or fname in fac_to_remain:\n",
    "            fea_tmp = fea_wide.rolling(w, min_periods=w).min()\n",
    "            feature[fname] = fea_tmp.stack(dropna=False) / df_stadardize\n",
    "        # skew\n",
    "        fname = f'{f}_skew{w}'\n",
    "        if fac_to_remain is None or fname in fac_to_remain:\n",
    "            fea_tmp = fea_wide.rolling(w, min_periods=w).skew()\n",
    "            feature[fname] = fea_tmp.stack(dropna=False) / df_stadardize\n",
    "        # kurt\n",
    "        fname = f'{f}_kurt{w}'\n",
    "        if fac_to_remain is None or fname in fac_to_remain:\n",
    "            fea_tmp = fea_wide.rolling(w, min_periods=w).kurt()\n",
    "            feature[fname] = fea_tmp.stack(dropna=False) / df_stadardize\n",
    "        # qtlu\n",
    "        fname = f'{f}_qtlu{w}'\n",
    "        if fac_to_remain is None or fname in fac_to_remain:\n",
    "            fea_tmp = fea_wide.rolling(w, min_periods=w).quantile(0.8)\n",
    "            feature[fname] = fea_tmp.stack(dropna=False) / df_stadardize\n",
    "        # qtld\n",
    "        fname = f'{f}_qtld{w}'\n",
    "        if fac_to_remain is None or fname in fac_to_remain:\n",
    "            fea_tmp = fea_wide.rolling(w, min_periods=w).quantile(0.2)\n",
    "            feature[fname] = fea_tmp.stack(dropna=False) / df_stadardize\n",
    "        # rank\n",
    "        fname = f'{f}_rank{w}'\n",
    "        if fac_to_remain is None or fname in fac_to_remain:\n",
    "            fea_tmp = fea_wide.rolling(w, min_periods=w).rank(pct=True)\n",
    "            feature[fname] = fea_tmp.stack(dropna=False)\n",
    "        # IMAX\n",
    "        fname = f'{f}_imax{w}'\n",
    "        findMaxIdx  = lambda series: series.shape[0] - series.reset_index(drop=True).idxmax()\n",
    "        if fac_to_remain is None or fname in fac_to_remain:\n",
    "            fea_tmp = fea_wide.rolling(w, min_periods=w).apply(findMaxIdx) / w\n",
    "            feature[fname] = fea_tmp.stack(dropna=False)\n",
    "        # IMIN\n",
    "        fname = f'{f}_imin{w}'\n",
    "        findMinIdx  = lambda series: series.shape[0] - series.reset_index(drop=True).idxmin()\n",
    "        if fac_to_remain is None or fname in fac_to_remain:\n",
    "            fea_tmp = fea_wide.rolling(w, min_periods=w).apply(findMinIdx) / w\n",
    "            feature[fname] = fea_tmp.stack(dropna=False)\n",
    "        \n",
    "    return feature"
   ]
  },
  {
   "cell_type": "code",
   "execution_count": null,
   "id": "d16bdf78",
   "metadata": {},
   "outputs": [],
   "source": []
  },
  {
   "cell_type": "markdown",
   "id": "ffa2d0bc",
   "metadata": {},
   "source": [
    "# 生成train的特征"
   ]
  },
  {
   "cell_type": "code",
   "execution_count": 14,
   "id": "19094271",
   "metadata": {
    "ExecuteTime": {
     "end_time": "2023-07-30T15:41:44.344045Z",
     "start_time": "2023-07-30T15:41:44.279595Z"
    }
   },
   "outputs": [
    {
     "data": {
      "text/plain": [
       "23"
      ]
     },
     "execution_count": 14,
     "metadata": {},
     "output_type": "execute_result"
    }
   ],
   "source": [
    "col_org = pd.read_csv(f'./data/train/snapshot_sym0_date0_am.csv', index_col=0).columns.to_list()\n",
    "len(col_org[3:-5])"
   ]
  },
  {
   "cell_type": "code",
   "execution_count": 15,
   "id": "355f1871",
   "metadata": {
    "ExecuteTime": {
     "end_time": "2023-07-30T15:41:44.670098Z",
     "start_time": "2023-07-30T15:41:44.660500Z"
    }
   },
   "outputs": [
    {
     "data": {
      "text/plain": [
       "3540"
      ]
     },
     "execution_count": 15,
     "metadata": {},
     "output_type": "execute_result"
    }
   ],
   "source": [
    "29 + 23*12*4 + 53 + 49*12*4 + 2\n",
    "# timeEncoding_fea 没扩充特征\n",
    "# +2是把index reset了"
   ]
  },
  {
   "cell_type": "code",
   "execution_count": 14,
   "id": "d92ebc3f",
   "metadata": {
    "ExecuteTime": {
     "end_time": "2023-07-31T01:43:14.856021Z",
     "start_time": "2023-07-31T01:43:14.840017Z"
    }
   },
   "outputs": [],
   "source": [
    "def gen_factor_train(date, code):\n",
    "    # 原始特征\n",
    "    col_org = pd.read_csv(f'./data/train/snapshot_sym0_date0_am.csv', index_col=0).columns.to_list()\n",
    "    # 生成的特征\n",
    "    bollinger_fea = [f'{label}Bollinger{i}' for i in [5, 10, 20, 40] for label in ['upper', 'middle', 'lower']]\n",
    "    cmo_fea = [f'com{i}' for i in [5, 10, 20, 40]]\n",
    "    mom_fea = [f'mom{i}' for i in [1, 5, 10, 20, 40]]\n",
    "    roc_fea = [f'roc{i}' for i in [1, 5, 10, 20, 40]]\n",
    "    rsi_fea = [f'rsi{i}' for i in [5, 10, 20, 40]]\n",
    "    mktIntensity_fea = [f'qs{i}' for i in range(1,6)] + [f'es{i}' for i in range(1,6)]\n",
    "    elatricityTrading_fea = ['elatricityTrading']\n",
    "    volatility_fea = [f'volatility{i}' for i in [5, 10, 20, 40]]\n",
    "    mpc_fea = [f'mpc{i}' for i in [5, 10, 20, 40]]\n",
    "    timeEncoding_fea = ['timeEncoding','hour','minute','second']\n",
    "    # 需要被扩充的 生成的特征\n",
    "    col_gen = bollinger_fea + cmo_fea + mom_fea + roc_fea + rsi_fea + mktIntensity_fea + elatricityTrading_fea + volatility_fea + mpc_fea\n",
    "    # 算子\n",
    "    operators = ['mom', 'mean', 'std', 'max', 'min', 'skew', 'kurt', 'qtlu', 'qtld', 'rank', 'imax', 'imin']\n",
    "    # 扩充特征——原始的特征（不含sym,date,time,label）\n",
    "    fea_org_expanded = [f'{f}_{op}{w}' for f in col_org[3:-5] for op in operators for w in [5, 10, 20, 40]]\n",
    "    # 扩充特征——生成的特征    \n",
    "    fea_gen_expanded = [f'{f}_{op}{w}' for f in col_gen for op in operators for w in [5, 10, 20, 40]]\n",
    "    # 所有被扩充的特征\n",
    "    fac_to_remain = fea_org_expanded + fea_gen_expanded\n",
    "    \n",
    "    window = [5,10,20,40]\n",
    "    \n",
    "    # 处理csv不存在的情况\n",
    "    df_am_all = pd.DataFrame()\n",
    "    df_pm_all = pd.DataFrame()\n",
    "    \n",
    "    am_file = f'./data/train/snapshot_sym{code}_date{date}_am.csv'\n",
    "    isExists = os.path.exists(am_file)\n",
    "    if isExists:\n",
    "        data_am = pd.read_csv(am_file, index_col = 0)\n",
    "        factor_am0, time_am = cal_bollingerBands(data_am)\n",
    "        factor_am1 = cal_cmo(data_am)\n",
    "        factor_am2 = cal_mom(data_am)\n",
    "        factor_am3 = cal_roc(data_am)\n",
    "        factor_am4 = cal_rsi(data_am)\n",
    "        factor_am5 = cal_mktIntensity(data_am)\n",
    "        factor_am6 = cal_elatricityTrading(data_am)\n",
    "        factor_am7  = cal_volatility(data_am)\n",
    "        factor_am8  = cal_mpc(data_am)\n",
    "        factor_am9 = cal_timeEncoding(data_am)\n",
    "        \n",
    "        factor_am = np.concatenate([factor_am0, factor_am1, factor_am2, factor_am3, factor_am4, factor_am5, factor_am6, factor_am7, factor_am8, factor_am9], axis = 1)\n",
    "        factor_am = np.concatenate([data_am.values, factor_am],axis=1)\n",
    "        \n",
    "        df_am = pd.DataFrame(factor_am, columns=col_org+col_gen+timeEncoding_fea)\n",
    "        df_am = df_am.set_index(['time','sym'])\n",
    "        \n",
    "        df_am_expanded = pd.DataFrame(index=df_am.index)\n",
    "        for fea in df_am.columns:\n",
    "            tmp = cal_extra_fea(df_am[fea], window=window, fac_to_remain=fac_to_remain)\n",
    "            df_am_expanded = pd.concat([df_am_expanded,tmp], axis=1)\n",
    "        df_am_all = pd.concat([df_am, df_am_expanded], axis=1)\n",
    "        \n",
    "        # 释放内存\n",
    "        del data_am, factor_am, factor_am0, factor_am1, factor_am2, factor_am3, factor_am4, factor_am5, factor_am6, factor_am7, factor_am8, factor_am9\n",
    "        gc.collect()\n",
    "        \n",
    "    pm_file = f'./data/train/snapshot_sym{code}_date{date}_pm.csv'\n",
    "    isExists = os.path.exists(pm_file)\n",
    "    if isExists:\n",
    "        data_pm = pd.read_csv(pm_file, index_col=0)\n",
    "        factor_pm0, time_pm = cal_bollingerBands(data_pm)\n",
    "        factor_pm1 = cal_cmo(data_pm)\n",
    "        factor_pm2 = cal_mom(data_pm)\n",
    "        factor_pm3 = cal_roc(data_pm)\n",
    "        factor_pm4 = cal_rsi(data_pm)\n",
    "        factor_pm5 = cal_mktIntensity(data_pm)\n",
    "        factor_pm6 = cal_elatricityTrading(data_pm)\n",
    "        factor_pm7  = cal_volatility(data_pm)\n",
    "        factor_pm8  = cal_mpc(data_pm)\n",
    "        factor_pm9 = cal_timeEncoding(data_pm)\n",
    "        \n",
    "        factor_pm = np.concatenate([factor_pm0, factor_pm1, factor_pm2, factor_pm3, factor_pm4, factor_pm5, factor_pm6, factor_pm7, factor_pm8, factor_pm9], axis = 1)\n",
    "        factor_pm = np.concatenate([data_pm.values, factor_pm],axis=1)\n",
    "        \n",
    "        df_pm = pd.DataFrame(factor_pm, columns=col_org+col_gen+timeEncoding_fea)\n",
    "        df_pm = df_pm.set_index(['time','sym'])\n",
    "        \n",
    "        df_pm_expanded = pd.DataFrame(index=df_pm.index)\n",
    "        for fea in df_pm.columns:\n",
    "            tmp = cal_extra_fea(df_pm[fea], window=window, fac_to_remain=fac_to_remain)\n",
    "            df_pm_expanded = pd.concat([df_pm_expanded,tmp], axis=1)\n",
    "        df_pm_all = pd.concat([df_pm, df_pm_expanded], axis=1)\n",
    "        \n",
    "        # 释放内存\n",
    "        del data_pm, factor_pm, factor_pm0, factor_pm1, factor_pm2, factor_pm3, factor_pm4, factor_pm5, factor_pm6, factor_pm7, factor_pm8, factor_pm9\n",
    "        gc.collect()\n",
    "\n",
    "    factor = pd.concat([df_am_all, df_pm_all])\n",
    "\n",
    "    return factor.reset_index()"
   ]
  },
  {
   "cell_type": "code",
   "execution_count": 17,
   "id": "b9047f23",
   "metadata": {
    "ExecuteTime": {
     "end_time": "2023-07-30T15:40:50.817036Z",
     "start_time": "2023-07-30T15:19:56.669008Z"
    }
   },
   "outputs": [
    {
     "name": "stderr",
     "output_type": "stream",
     "text": [
      "100%|██████████████████████████████████████████████████████████████████████████████████| 64/64 [08:14<00:00,  7.73s/it]\n"
     ]
    }
   ],
   "source": [
    "num = 64\n",
    "results_train_1 = Parallel(n_jobs=-1)(delayed(gen_factor_train)(i, 8) for i in tqdm(range(num), position=0))\n",
    "df_train_1 = pd.concat(results_train_1, axis=0)\n",
    "df_train_1 = df_train_1.sort_values(['sym','date','time'])\n",
    "df_train_1.to_parquet('./feature_data/df_train_8.parquet')"
   ]
  },
  {
   "cell_type": "code",
   "execution_count": 18,
   "id": "719eefae",
   "metadata": {
    "ExecuteTime": {
     "end_time": "2023-07-30T15:40:54.550040Z",
     "start_time": "2023-07-30T15:40:50.842434Z"
    }
   },
   "outputs": [
    {
     "data": {
      "text/plain": [
       "0"
      ]
     },
     "execution_count": 18,
     "metadata": {},
     "output_type": "execute_result"
    }
   ],
   "source": [
    "del results_train_1, df_train_1\n",
    "gc.collect()"
   ]
  },
  {
   "cell_type": "code",
   "execution_count": 17,
   "id": "ab92ab8a",
   "metadata": {
    "ExecuteTime": {
     "end_time": "2023-07-30T16:03:29.460724Z",
     "start_time": "2023-07-30T15:41:59.478856Z"
    }
   },
   "outputs": [
    {
     "name": "stderr",
     "output_type": "stream",
     "text": [
      "100%|██████████████████████████████████████████████████████████████████████████████████| 64/64 [10:57<00:00, 10.28s/it]\n"
     ]
    }
   ],
   "source": [
    "num = 64\n",
    "results_train_1 = Parallel(n_jobs=-1)(delayed(gen_factor_train)(i, 9) for i in tqdm(range(num), position=0))\n",
    "df_train_1 = pd.concat(results_train_1, axis=0)\n",
    "df_train_1 = df_train_1.sort_values(['sym','date','time'])\n",
    "df_train_1.to_parquet('./feature_data/df_train_9.parquet')"
   ]
  },
  {
   "cell_type": "code",
   "execution_count": 18,
   "id": "df20ad9a",
   "metadata": {
    "ExecuteTime": {
     "end_time": "2023-07-30T16:03:33.264968Z",
     "start_time": "2023-07-30T16:03:29.476351Z"
    }
   },
   "outputs": [
    {
     "data": {
      "text/plain": [
       "0"
      ]
     },
     "execution_count": 18,
     "metadata": {},
     "output_type": "execute_result"
    }
   ],
   "source": [
    "del results_train_1, df_train_1\n",
    "gc.collect()"
   ]
  },
  {
   "cell_type": "code",
   "execution_count": null,
   "id": "631c48d9",
   "metadata": {},
   "outputs": [],
   "source": []
  },
  {
   "cell_type": "code",
   "execution_count": null,
   "id": "a2e16bef",
   "metadata": {},
   "outputs": [],
   "source": []
  },
  {
   "cell_type": "markdown",
   "id": "2804076d",
   "metadata": {},
   "source": [
    "# 生成test的特征"
   ]
  },
  {
   "cell_type": "code",
   "execution_count": 15,
   "id": "683b0df6",
   "metadata": {
    "ExecuteTime": {
     "end_time": "2023-07-31T01:43:18.667324Z",
     "start_time": "2023-07-31T01:43:18.644620Z"
    }
   },
   "outputs": [],
   "source": [
    "def gen_factor_test(date, code):\n",
    "    # 原始特征\n",
    "    col_org = pd.read_csv(f'./data/test/snapshot_sym0_date64_am.csv', index_col=0).columns.to_list()\n",
    "    # 生成的特征\n",
    "    bollinger_fea = [f'{label}Bollinger{i}' for i in [5, 10, 20, 40] for label in ['upper', 'middle', 'lower']]\n",
    "    cmo_fea = [f'com{i}' for i in [5, 10, 20, 40]]\n",
    "    mom_fea = [f'mom{i}' for i in [1, 5, 10, 20, 40]]\n",
    "    roc_fea = [f'roc{i}' for i in [1, 5, 10, 20, 40]]\n",
    "    rsi_fea = [f'rsi{i}' for i in [5, 10, 20, 40]]\n",
    "    mktIntensity_fea = [f'qs{i}' for i in range(1,6)] + [f'es{i}' for i in range(1,6)]\n",
    "    elatricityTrading_fea = ['elatricityTrading']\n",
    "    volatility_fea = [f'volatility{i}' for i in [5, 10, 20, 40]]\n",
    "    mpc_fea = [f'mpc{i}' for i in [5, 10, 20, 40]]\n",
    "    timeEncoding_fea = ['timeEncoding','hour','minute','second']\n",
    "    # 需要被扩充的 生成的特征\n",
    "    col_gen = bollinger_fea + cmo_fea + mom_fea + roc_fea + rsi_fea + mktIntensity_fea + elatricityTrading_fea + volatility_fea + mpc_fea\n",
    "    # 算子\n",
    "    operators = ['mom', 'mean', 'std', 'max', 'min', 'skew', 'kurt', 'qtlu', 'qtld', 'rank', 'imax', 'imin']\n",
    "    # 扩充特征——原始的特征（不含sym,date,time）\n",
    "    fea_org_expanded = [f'{f}_{op}{w}' for f in col_org[3:] for op in operators for w in [5, 10, 20, 40]]\n",
    "    # 扩充特征——生成的特征\n",
    "    fea_gen_expanded = [f'{f}_{op}{w}' for f in col_gen for op in operators for w in [5, 10, 20, 40]]\n",
    "    # 所有被扩充的特征\n",
    "    fac_to_remain = fea_org_expanded + fea_gen_expanded\n",
    "    \n",
    "    window = [5,10,20,40]\n",
    "    \n",
    "    # 处理csv不存在的情况\n",
    "    df_am_all = pd.DataFrame()\n",
    "    df_pm_all = pd.DataFrame()\n",
    "    \n",
    "    am_file = f'./data/test/snapshot_sym{code}_date{date}_am.csv'\n",
    "    isExists = os.path.exists(am_file)\n",
    "    if isExists:\n",
    "        data_am = pd.read_csv(am_file, index_col = 0)\n",
    "        factor_am0, time_am = cal_bollingerBands(data_am)\n",
    "        factor_am1 = cal_cmo(data_am)\n",
    "        factor_am2 = cal_mom(data_am)\n",
    "        factor_am3 = cal_roc(data_am)\n",
    "        factor_am4 = cal_rsi(data_am)\n",
    "        factor_am5 = cal_mktIntensity(data_am)\n",
    "        factor_am6 = cal_elatricityTrading(data_am)\n",
    "        factor_am7  = cal_volatility(data_am)\n",
    "        factor_am8  = cal_mpc(data_am)\n",
    "        factor_am9 = cal_timeEncoding(data_am)\n",
    "        \n",
    "        factor_am = np.concatenate([factor_am0, factor_am1, factor_am2, factor_am3, factor_am4, factor_am5, factor_am6, factor_am7, factor_am8, factor_am9], axis = 1)\n",
    "        factor_am = np.concatenate([data_am.values, factor_am],axis=1)\n",
    "        \n",
    "        df_am = pd.DataFrame(factor_am, columns=col_org+col_gen+timeEncoding_fea)\n",
    "        df_am = df_am.set_index(['time','sym'])\n",
    "        \n",
    "        df_am_expanded = pd.DataFrame(index=df_am.index)\n",
    "        for fea in df_am.columns:\n",
    "            tmp = cal_extra_fea(df_am[fea], window=window, fac_to_remain=fac_to_remain)\n",
    "            df_am_expanded = pd.concat([df_am_expanded,tmp], axis=1)\n",
    "        df_am_all = pd.concat([df_am, df_am_expanded], axis=1)\n",
    "        \n",
    "        # 释放内存\n",
    "        del data_am, factor_am, factor_am0, factor_am1, factor_am2, factor_am3, factor_am4, factor_am5, factor_am6, factor_am7, factor_am8, factor_am9\n",
    "        gc.collect()\n",
    "        \n",
    "    pm_file = f'./data/test/snapshot_sym{code}_date{date}_pm.csv'\n",
    "    isExists = os.path.exists(pm_file)\n",
    "    if isExists:\n",
    "        data_pm = pd.read_csv(pm_file, index_col=0)\n",
    "        factor_pm0, time_pm = cal_bollingerBands(data_pm)\n",
    "        factor_pm1 = cal_cmo(data_pm)\n",
    "        factor_pm2 = cal_mom(data_pm)\n",
    "        factor_pm3 = cal_roc(data_pm)\n",
    "        factor_pm4 = cal_rsi(data_pm)\n",
    "        factor_pm5 = cal_mktIntensity(data_pm)\n",
    "        factor_pm6 = cal_elatricityTrading(data_pm)\n",
    "        factor_pm7  = cal_volatility(data_pm)\n",
    "        factor_pm8  = cal_mpc(data_pm)\n",
    "        factor_pm9 = cal_timeEncoding(data_pm)\n",
    "        \n",
    "        factor_pm = np.concatenate([factor_pm0, factor_pm1, factor_pm2, factor_pm3, factor_pm4, factor_pm5, factor_pm6, factor_pm7, factor_pm8, factor_pm9], axis = 1)\n",
    "        factor_pm = np.concatenate([data_pm.values, factor_pm],axis=1)\n",
    "        \n",
    "        df_pm = pd.DataFrame(factor_pm, columns=col_org+col_gen+timeEncoding_fea)\n",
    "        df_pm = df_pm.set_index(['time','sym'])\n",
    "        \n",
    "        df_pm_expanded = pd.DataFrame(index=df_pm.index)\n",
    "        for fea in df_pm.columns:\n",
    "            tmp = cal_extra_fea(df_pm[fea], window=window, fac_to_remain=fac_to_remain)\n",
    "            df_pm_expanded = pd.concat([df_pm_expanded,tmp], axis=1)\n",
    "        df_pm_all = pd.concat([df_pm, df_pm_expanded], axis=1)\n",
    "        \n",
    "        # 释放内存\n",
    "        del data_pm, factor_pm, factor_pm0, factor_pm1, factor_pm2, factor_pm3, factor_pm4, factor_pm5, factor_pm6, factor_pm7, factor_pm8, factor_pm9\n",
    "        gc.collect()\n",
    "\n",
    "    factor = pd.concat([df_am_all, df_pm_all])\n",
    "\n",
    "    return factor.reset_index()"
   ]
  },
  {
   "cell_type": "code",
   "execution_count": 20,
   "id": "0bf6b1c4",
   "metadata": {
    "ExecuteTime": {
     "end_time": "2023-07-30T16:12:54.200758Z",
     "start_time": "2023-07-30T16:03:33.299307Z"
    }
   },
   "outputs": [
    {
     "name": "stderr",
     "output_type": "stream",
     "text": [
      "100%|████████████████████████████████████████████████████████████████████████████████| 15/15 [00:00<00:00, 4619.96it/s]\n"
     ]
    }
   ],
   "source": [
    "num = range(64, 79)\n",
    "results_test_1 = Parallel(n_jobs=-1)(delayed(gen_factor_test)(i, j) for i in tqdm(num, position=0) for j in range(0,2))\n",
    "df_test_1 = pd.concat(results_test_1, axis=0)\n",
    "df_test_1 = df_test_1.sort_values(['sym','date','time'])\n",
    "df_test_1.to_parquet('./feature_data/df_test_1.parquet')"
   ]
  },
  {
   "cell_type": "code",
   "execution_count": 21,
   "id": "ae9564e1",
   "metadata": {
    "ExecuteTime": {
     "end_time": "2023-07-30T16:12:55.324765Z",
     "start_time": "2023-07-30T16:12:54.200758Z"
    }
   },
   "outputs": [
    {
     "data": {
      "text/plain": [
       "0"
      ]
     },
     "execution_count": 21,
     "metadata": {},
     "output_type": "execute_result"
    }
   ],
   "source": [
    "del results_test_1, df_test_1\n",
    "gc.collect()"
   ]
  },
  {
   "cell_type": "code",
   "execution_count": 22,
   "id": "149bbcee",
   "metadata": {
    "ExecuteTime": {
     "end_time": "2023-07-30T16:22:12.489464Z",
     "start_time": "2023-07-30T16:12:55.324765Z"
    }
   },
   "outputs": [
    {
     "name": "stderr",
     "output_type": "stream",
     "text": [
      "100%|██████████████████████████████████████████████████████████████████████████████████████████| 15/15 [00:00<?, ?it/s]\n"
     ]
    }
   ],
   "source": [
    "num = range(64, 79)\n",
    "results_test_1 = Parallel(n_jobs=-1)(delayed(gen_factor_test)(i, j) for i in tqdm(num, position=0) for j in range(2,4))\n",
    "df_test_1 = pd.concat(results_test_1, axis=0)\n",
    "df_test_1 = df_test_1.sort_values(['sym','date','time'])\n",
    "df_test_1.to_parquet('./feature_data/df_test_2.parquet')"
   ]
  },
  {
   "cell_type": "code",
   "execution_count": 23,
   "id": "ecaee701",
   "metadata": {
    "ExecuteTime": {
     "end_time": "2023-07-30T16:22:13.602945Z",
     "start_time": "2023-07-30T16:22:12.489464Z"
    }
   },
   "outputs": [
    {
     "data": {
      "text/plain": [
       "0"
      ]
     },
     "execution_count": 23,
     "metadata": {},
     "output_type": "execute_result"
    }
   ],
   "source": [
    "del results_test_1, df_test_1\n",
    "gc.collect()"
   ]
  },
  {
   "cell_type": "code",
   "execution_count": 16,
   "id": "d6ad046d",
   "metadata": {
    "ExecuteTime": {
     "end_time": "2023-07-31T01:52:10.254040Z",
     "start_time": "2023-07-31T01:43:27.971661Z"
    }
   },
   "outputs": [
    {
     "name": "stderr",
     "output_type": "stream",
     "text": [
      "100%|█████████████████████████████████████████████████████████████████████████████████| 15/15 [00:00<00:00, 151.75it/s]\n"
     ]
    }
   ],
   "source": [
    "num = range(64, 79)\n",
    "results_test_1 = Parallel(n_jobs=-1)(delayed(gen_factor_test)(i, j) for i in tqdm(num, position=0) for j in range(4,6))\n",
    "df_test_1 = pd.concat(results_test_1, axis=0)\n",
    "df_test_1 = df_test_1.sort_values(['sym','date','time'])\n",
    "df_test_1.to_parquet('./feature_data/df_test_3.parquet')"
   ]
  },
  {
   "cell_type": "code",
   "execution_count": 25,
   "id": "a466473a",
   "metadata": {
    "ExecuteTime": {
     "end_time": "2023-07-30T16:31:01.824266Z",
     "start_time": "2023-07-30T16:31:00.643157Z"
    }
   },
   "outputs": [
    {
     "data": {
      "text/plain": [
       "0"
      ]
     },
     "execution_count": 25,
     "metadata": {},
     "output_type": "execute_result"
    }
   ],
   "source": [
    "del results_test_1, df_test_1\n",
    "gc.collect()"
   ]
  },
  {
   "cell_type": "code",
   "execution_count": 26,
   "id": "20184385",
   "metadata": {
    "ExecuteTime": {
     "end_time": "2023-07-30T16:40:26.753212Z",
     "start_time": "2023-07-30T16:31:01.825304Z"
    }
   },
   "outputs": [
    {
     "name": "stderr",
     "output_type": "stream",
     "text": [
      "100%|██████████████████████████████████████████████████████████████████████████████████████████| 15/15 [00:00<?, ?it/s]\n"
     ]
    }
   ],
   "source": [
    "num = range(64, 79)\n",
    "results_test_1 = Parallel(n_jobs=-1)(delayed(gen_factor_test)(i, j) for i in tqdm(num, position=0) for j in range(6,8))\n",
    "df_test_1 = pd.concat(results_test_1, axis=0)\n",
    "df_test_1 = df_test_1.sort_values(['sym','date','time'])\n",
    "df_test_1.to_parquet('./feature_data/df_test_4.parquet')"
   ]
  },
  {
   "cell_type": "code",
   "execution_count": 27,
   "id": "0cdf5b79",
   "metadata": {
    "ExecuteTime": {
     "end_time": "2023-07-30T16:40:27.964324Z",
     "start_time": "2023-07-30T16:40:26.754485Z"
    }
   },
   "outputs": [
    {
     "data": {
      "text/plain": [
       "0"
      ]
     },
     "execution_count": 27,
     "metadata": {},
     "output_type": "execute_result"
    }
   ],
   "source": [
    "del results_test_1, df_test_1\n",
    "gc.collect()"
   ]
  },
  {
   "cell_type": "code",
   "execution_count": 28,
   "id": "2835256e",
   "metadata": {
    "ExecuteTime": {
     "end_time": "2023-07-30T16:50:04.335766Z",
     "start_time": "2023-07-30T16:40:27.964324Z"
    }
   },
   "outputs": [
    {
     "name": "stderr",
     "output_type": "stream",
     "text": [
      "100%|██████████████████████████████████████████████████████████████████████████████████████████| 15/15 [00:00<?, ?it/s]\n"
     ]
    }
   ],
   "source": [
    "num = range(64, 79)\n",
    "results_test_1 = Parallel(n_jobs=-1)(delayed(gen_factor_test)(i, j) for i in tqdm(num, position=0) for j in range(8,10))\n",
    "df_test_1 = pd.concat(results_test_1, axis=0)\n",
    "df_test_1 = df_test_1.sort_values(['sym','date','time'])\n",
    "df_test_1.to_parquet('./feature_data/df_test_5.parquet')"
   ]
  },
  {
   "cell_type": "code",
   "execution_count": 29,
   "id": "973be8fd",
   "metadata": {
    "ExecuteTime": {
     "end_time": "2023-07-30T16:50:05.517044Z",
     "start_time": "2023-07-30T16:50:04.335766Z"
    }
   },
   "outputs": [
    {
     "data": {
      "text/plain": [
       "0"
      ]
     },
     "execution_count": 29,
     "metadata": {},
     "output_type": "execute_result"
    }
   ],
   "source": [
    "del results_test_1, df_test_1\n",
    "gc.collect()"
   ]
  },
  {
   "cell_type": "code",
   "execution_count": null,
   "id": "dad95c47",
   "metadata": {},
   "outputs": [],
   "source": []
  },
  {
   "cell_type": "markdown",
   "id": "995af977",
   "metadata": {},
   "source": [
    "# 处理原始train"
   ]
  },
  {
   "cell_type": "markdown",
   "id": "fa2a217b",
   "metadata": {},
   "source": [
    "## sort; int; encoding"
   ]
  },
  {
   "cell_type": "code",
   "execution_count": 2,
   "id": "c453af35",
   "metadata": {
    "ExecuteTime": {
     "end_time": "2023-07-31T07:47:11.419082Z",
     "start_time": "2023-07-31T07:46:56.817635Z"
    }
   },
   "outputs": [],
   "source": [
    "df_train_6 = pd.read_parquet('./feature_data/df_train_9.parquet')"
   ]
  },
  {
   "cell_type": "code",
   "execution_count": 3,
   "id": "5ebb5ef4",
   "metadata": {
    "ExecuteTime": {
     "end_time": "2023-07-31T06:50:57.336521Z",
     "start_time": "2023-07-31T06:50:57.297698Z"
    }
   },
   "outputs": [
    {
     "name": "stdout",
     "output_type": "stream",
     "text": [
      "(483758, 3540)\n"
     ]
    }
   ],
   "source": [
    "print(df_train_1.shape)"
   ]
  },
  {
   "cell_type": "code",
   "execution_count": 15,
   "id": "e7a737c0",
   "metadata": {
    "ExecuteTime": {
     "end_time": "2023-07-31T07:03:48.009210Z",
     "start_time": "2023-07-31T07:03:47.938157Z"
    }
   },
   "outputs": [
    {
     "name": "stdout",
     "output_type": "stream",
     "text": [
      "(503748, 3540)\n"
     ]
    }
   ],
   "source": [
    "print(df_train_2.shape)"
   ]
  },
  {
   "cell_type": "code",
   "execution_count": 24,
   "id": "475a3f0c",
   "metadata": {
    "ExecuteTime": {
     "end_time": "2023-07-31T07:13:03.796584Z",
     "start_time": "2023-07-31T07:13:03.775114Z"
    }
   },
   "outputs": [
    {
     "name": "stdout",
     "output_type": "stream",
     "text": [
      "(465767, 3540)\n"
     ]
    }
   ],
   "source": [
    "print(df_train_3.shape)"
   ]
  },
  {
   "cell_type": "code",
   "execution_count": 3,
   "id": "bce8fee4",
   "metadata": {
    "ExecuteTime": {
     "end_time": "2023-07-31T07:26:55.602368Z",
     "start_time": "2023-07-31T07:26:55.558799Z"
    }
   },
   "outputs": [
    {
     "name": "stdout",
     "output_type": "stream",
     "text": [
      "(487756, 3541)\n"
     ]
    }
   ],
   "source": [
    "print(df_train_4.shape)"
   ]
  },
  {
   "cell_type": "code",
   "execution_count": 4,
   "id": "951273f2",
   "metadata": {
    "ExecuteTime": {
     "end_time": "2023-07-31T07:42:54.422365Z",
     "start_time": "2023-07-31T07:42:54.381512Z"
    }
   },
   "outputs": [
    {
     "name": "stdout",
     "output_type": "stream",
     "text": [
      "(251874, 3540)\n"
     ]
    }
   ],
   "source": [
    "print(df_train_5.shape)"
   ]
  },
  {
   "cell_type": "code",
   "execution_count": 3,
   "id": "79e38d5e",
   "metadata": {
    "ExecuteTime": {
     "end_time": "2023-07-31T07:47:11.495703Z",
     "start_time": "2023-07-31T07:47:11.451507Z"
    }
   },
   "outputs": [
    {
     "name": "stdout",
     "output_type": "stream",
     "text": [
      "(255872, 3540)\n"
     ]
    }
   ],
   "source": [
    "print(df_train_6.shape)"
   ]
  },
  {
   "cell_type": "code",
   "execution_count": 10,
   "id": "94c8a54d",
   "metadata": {
    "ExecuteTime": {
     "end_time": "2023-07-31T07:48:33.192267Z",
     "start_time": "2023-07-31T07:48:33.144387Z"
    }
   },
   "outputs": [
    {
     "data": {
      "text/html": [
       "<div>\n",
       "<style scoped>\n",
       "    .dataframe tbody tr th:only-of-type {\n",
       "        vertical-align: middle;\n",
       "    }\n",
       "\n",
       "    .dataframe tbody tr th {\n",
       "        vertical-align: top;\n",
       "    }\n",
       "\n",
       "    .dataframe thead th {\n",
       "        text-align: right;\n",
       "    }\n",
       "</style>\n",
       "<table border=\"1\" class=\"dataframe\">\n",
       "  <thead>\n",
       "    <tr style=\"text-align: right;\">\n",
       "      <th></th>\n",
       "      <th>timeEncoding</th>\n",
       "      <th>hour</th>\n",
       "      <th>minute</th>\n",
       "      <th>second</th>\n",
       "      <th>sym</th>\n",
       "      <th>date</th>\n",
       "    </tr>\n",
       "  </thead>\n",
       "  <tbody>\n",
       "    <tr>\n",
       "      <th>0</th>\n",
       "      <td>0</td>\n",
       "      <td>9</td>\n",
       "      <td>40</td>\n",
       "      <td>3</td>\n",
       "      <td>9</td>\n",
       "      <td>0</td>\n",
       "    </tr>\n",
       "    <tr>\n",
       "      <th>1</th>\n",
       "      <td>0</td>\n",
       "      <td>9</td>\n",
       "      <td>40</td>\n",
       "      <td>6</td>\n",
       "      <td>9</td>\n",
       "      <td>0</td>\n",
       "    </tr>\n",
       "    <tr>\n",
       "      <th>2</th>\n",
       "      <td>0</td>\n",
       "      <td>9</td>\n",
       "      <td>40</td>\n",
       "      <td>9</td>\n",
       "      <td>9</td>\n",
       "      <td>0</td>\n",
       "    </tr>\n",
       "    <tr>\n",
       "      <th>3</th>\n",
       "      <td>0</td>\n",
       "      <td>9</td>\n",
       "      <td>40</td>\n",
       "      <td>12</td>\n",
       "      <td>9</td>\n",
       "      <td>0</td>\n",
       "    </tr>\n",
       "    <tr>\n",
       "      <th>4</th>\n",
       "      <td>0</td>\n",
       "      <td>9</td>\n",
       "      <td>40</td>\n",
       "      <td>15</td>\n",
       "      <td>9</td>\n",
       "      <td>0</td>\n",
       "    </tr>\n",
       "    <tr>\n",
       "      <th>...</th>\n",
       "      <td>...</td>\n",
       "      <td>...</td>\n",
       "      <td>...</td>\n",
       "      <td>...</td>\n",
       "      <td>...</td>\n",
       "      <td>...</td>\n",
       "    </tr>\n",
       "    <tr>\n",
       "      <th>255867</th>\n",
       "      <td>7</td>\n",
       "      <td>14</td>\n",
       "      <td>49</td>\n",
       "      <td>45</td>\n",
       "      <td>9</td>\n",
       "      <td>63</td>\n",
       "    </tr>\n",
       "    <tr>\n",
       "      <th>255868</th>\n",
       "      <td>7</td>\n",
       "      <td>14</td>\n",
       "      <td>49</td>\n",
       "      <td>48</td>\n",
       "      <td>9</td>\n",
       "      <td>63</td>\n",
       "    </tr>\n",
       "    <tr>\n",
       "      <th>255869</th>\n",
       "      <td>7</td>\n",
       "      <td>14</td>\n",
       "      <td>49</td>\n",
       "      <td>51</td>\n",
       "      <td>9</td>\n",
       "      <td>63</td>\n",
       "    </tr>\n",
       "    <tr>\n",
       "      <th>255870</th>\n",
       "      <td>7</td>\n",
       "      <td>14</td>\n",
       "      <td>49</td>\n",
       "      <td>54</td>\n",
       "      <td>9</td>\n",
       "      <td>63</td>\n",
       "    </tr>\n",
       "    <tr>\n",
       "      <th>255871</th>\n",
       "      <td>7</td>\n",
       "      <td>14</td>\n",
       "      <td>49</td>\n",
       "      <td>57</td>\n",
       "      <td>9</td>\n",
       "      <td>63</td>\n",
       "    </tr>\n",
       "  </tbody>\n",
       "</table>\n",
       "<p>255872 rows × 6 columns</p>\n",
       "</div>"
      ],
      "text/plain": [
       "        timeEncoding  hour  minute  second  sym  date\n",
       "0                  0     9      40       3    9     0\n",
       "1                  0     9      40       6    9     0\n",
       "2                  0     9      40       9    9     0\n",
       "3                  0     9      40      12    9     0\n",
       "4                  0     9      40      15    9     0\n",
       "...              ...   ...     ...     ...  ...   ...\n",
       "255867             7    14      49      45    9    63\n",
       "255868             7    14      49      48    9    63\n",
       "255869             7    14      49      51    9    63\n",
       "255870             7    14      49      54    9    63\n",
       "255871             7    14      49      57    9    63\n",
       "\n",
       "[255872 rows x 6 columns]"
      ]
     },
     "execution_count": 10,
     "metadata": {},
     "output_type": "execute_result"
    }
   ],
   "source": [
    "df_train_6[['timeEncoding','hour','minute','second','sym','date']]"
   ]
  },
  {
   "cell_type": "code",
   "execution_count": 5,
   "id": "468fe314",
   "metadata": {
    "ExecuteTime": {
     "end_time": "2023-07-31T07:48:01.333061Z",
     "start_time": "2023-07-31T07:47:22.087144Z"
    }
   },
   "outputs": [],
   "source": [
    "df_train_6[['hour','minute','second']] = df_train_6[['hour','minute','second']].astype('int')"
   ]
  },
  {
   "cell_type": "code",
   "execution_count": 6,
   "id": "b9bf9afb",
   "metadata": {
    "ExecuteTime": {
     "end_time": "2023-07-31T07:48:15.925899Z",
     "start_time": "2023-07-31T07:48:01.413562Z"
    }
   },
   "outputs": [],
   "source": [
    "time = pd.to_datetime(df_train_6['time'])\n",
    "trading_time_intervals = [\n",
    "    (pd.to_datetime('09:30:00').time(), pd.to_datetime('10:00:00').time()),\n",
    "    (pd.to_datetime('10:00:00').time(), pd.to_datetime('10:30:00').time()),\n",
    "    (pd.to_datetime('10:30:00').time(), pd.to_datetime('11:00:00').time()),\n",
    "    (pd.to_datetime('11:00:00').time(), pd.to_datetime('11:30:00').time()),\n",
    "    (pd.to_datetime('13:00:00').time(), pd.to_datetime('13:30:00').time()),\n",
    "    (pd.to_datetime('13:30:00').time(), pd.to_datetime('14:00:00').time()),\n",
    "    (pd.to_datetime('14:00:00').time(), pd.to_datetime('14:30:00').time()),\n",
    "    (pd.to_datetime('14:30:00').time(), pd.to_datetime('15:00:00').time())\n",
    "]\n",
    "trading_intervals_encoding = np.zeros((len(df_train_6),), dtype=int)\n",
    "for idx, (start_time, end_time) in enumerate(trading_time_intervals):\n",
    "    mask = (time.dt.time >= start_time) & (time.dt.time < end_time)\n",
    "    trading_intervals_encoding[mask] = idx\n",
    "    \n",
    "df_train_6['timeEncoding'] = trading_intervals_encoding.reshape(-1,1)"
   ]
  },
  {
   "cell_type": "code",
   "execution_count": 7,
   "id": "7ebc3c0d",
   "metadata": {
    "ExecuteTime": {
     "end_time": "2023-07-31T07:48:16.093473Z",
     "start_time": "2023-07-31T07:48:15.980716Z"
    }
   },
   "outputs": [
    {
     "data": {
      "text/plain": [
       "time             object\n",
       "sym               int64\n",
       "date              int64\n",
       "n_close         float64\n",
       "amount_delta    float64\n",
       "                 ...   \n",
       "mpc40_qtlu40    float64\n",
       "mpc40_qtld40    float64\n",
       "mpc40_rank40    float64\n",
       "mpc40_imax40    float64\n",
       "mpc40_imin40    float64\n",
       "Length: 3540, dtype: object"
      ]
     },
     "execution_count": 7,
     "metadata": {},
     "output_type": "execute_result"
    }
   ],
   "source": [
    "df_train_6.dtypes"
   ]
  },
  {
   "cell_type": "code",
   "execution_count": 8,
   "id": "f52d77a7",
   "metadata": {
    "ExecuteTime": {
     "end_time": "2023-07-31T07:48:26.097219Z",
     "start_time": "2023-07-31T07:48:16.100500Z"
    }
   },
   "outputs": [],
   "source": [
    "df_train_6 = df_train_6.sort_values(['sym','date','time'])\n",
    "df_train_6.reset_index(drop=True, inplace=True)"
   ]
  },
  {
   "cell_type": "code",
   "execution_count": 9,
   "id": "b48e18a6",
   "metadata": {
    "ExecuteTime": {
     "end_time": "2023-07-31T07:48:26.298484Z",
     "start_time": "2023-07-31T07:48:26.216253Z"
    }
   },
   "outputs": [
    {
     "name": "stdout",
     "output_type": "stream",
     "text": [
      "(255872, 3540)\n"
     ]
    }
   ],
   "source": [
    "print(df_train_6.shape)"
   ]
  },
  {
   "cell_type": "code",
   "execution_count": 11,
   "id": "7b9cb41b",
   "metadata": {
    "ExecuteTime": {
     "end_time": "2023-07-31T07:48:49.514349Z",
     "start_time": "2023-07-31T07:48:49.415075Z"
    }
   },
   "outputs": [
    {
     "data": {
      "text/html": [
       "<div>\n",
       "<style scoped>\n",
       "    .dataframe tbody tr th:only-of-type {\n",
       "        vertical-align: middle;\n",
       "    }\n",
       "\n",
       "    .dataframe tbody tr th {\n",
       "        vertical-align: top;\n",
       "    }\n",
       "\n",
       "    .dataframe thead th {\n",
       "        text-align: right;\n",
       "    }\n",
       "</style>\n",
       "<table border=\"1\" class=\"dataframe\">\n",
       "  <thead>\n",
       "    <tr style=\"text-align: right;\">\n",
       "      <th></th>\n",
       "      <th>time</th>\n",
       "      <th>sym</th>\n",
       "      <th>date</th>\n",
       "      <th>n_close</th>\n",
       "      <th>amount_delta</th>\n",
       "      <th>n_midprice</th>\n",
       "      <th>n_bid1</th>\n",
       "      <th>n_bsize1</th>\n",
       "      <th>n_bid2</th>\n",
       "      <th>n_bsize2</th>\n",
       "      <th>...</th>\n",
       "      <th>mpc40_std40</th>\n",
       "      <th>mpc40_max40</th>\n",
       "      <th>mpc40_min40</th>\n",
       "      <th>mpc40_skew40</th>\n",
       "      <th>mpc40_kurt40</th>\n",
       "      <th>mpc40_qtlu40</th>\n",
       "      <th>mpc40_qtld40</th>\n",
       "      <th>mpc40_rank40</th>\n",
       "      <th>mpc40_imax40</th>\n",
       "      <th>mpc40_imin40</th>\n",
       "    </tr>\n",
       "  </thead>\n",
       "  <tbody>\n",
       "    <tr>\n",
       "      <th>0</th>\n",
       "      <td>09:40:03</td>\n",
       "      <td>9</td>\n",
       "      <td>0</td>\n",
       "      <td>-0.000535</td>\n",
       "      <td>442953.0</td>\n",
       "      <td>-0.000446</td>\n",
       "      <td>-0.000535</td>\n",
       "      <td>6.564465e-08</td>\n",
       "      <td>-0.000713</td>\n",
       "      <td>3.200177e-06</td>\n",
       "      <td>...</td>\n",
       "      <td>NaN</td>\n",
       "      <td>NaN</td>\n",
       "      <td>NaN</td>\n",
       "      <td>NaN</td>\n",
       "      <td>NaN</td>\n",
       "      <td>NaN</td>\n",
       "      <td>NaN</td>\n",
       "      <td>NaN</td>\n",
       "      <td>NaN</td>\n",
       "      <td>NaN</td>\n",
       "    </tr>\n",
       "    <tr>\n",
       "      <th>1</th>\n",
       "      <td>09:40:06</td>\n",
       "      <td>9</td>\n",
       "      <td>0</td>\n",
       "      <td>-0.000178</td>\n",
       "      <td>3257370.0</td>\n",
       "      <td>-0.000267</td>\n",
       "      <td>-0.000357</td>\n",
       "      <td>1.641116e-08</td>\n",
       "      <td>-0.000713</td>\n",
       "      <td>9.299658e-07</td>\n",
       "      <td>...</td>\n",
       "      <td>NaN</td>\n",
       "      <td>NaN</td>\n",
       "      <td>NaN</td>\n",
       "      <td>NaN</td>\n",
       "      <td>NaN</td>\n",
       "      <td>NaN</td>\n",
       "      <td>NaN</td>\n",
       "      <td>NaN</td>\n",
       "      <td>NaN</td>\n",
       "      <td>NaN</td>\n",
       "    </tr>\n",
       "    <tr>\n",
       "      <th>2</th>\n",
       "      <td>09:40:09</td>\n",
       "      <td>9</td>\n",
       "      <td>0</td>\n",
       "      <td>-0.000713</td>\n",
       "      <td>2107543.0</td>\n",
       "      <td>-0.000980</td>\n",
       "      <td>-0.001248</td>\n",
       "      <td>3.282232e-07</td>\n",
       "      <td>-0.001426</td>\n",
       "      <td>1.914636e-07</td>\n",
       "      <td>...</td>\n",
       "      <td>NaN</td>\n",
       "      <td>NaN</td>\n",
       "      <td>NaN</td>\n",
       "      <td>NaN</td>\n",
       "      <td>NaN</td>\n",
       "      <td>NaN</td>\n",
       "      <td>NaN</td>\n",
       "      <td>NaN</td>\n",
       "      <td>NaN</td>\n",
       "      <td>NaN</td>\n",
       "    </tr>\n",
       "    <tr>\n",
       "      <th>3</th>\n",
       "      <td>09:40:12</td>\n",
       "      <td>9</td>\n",
       "      <td>0</td>\n",
       "      <td>-0.000357</td>\n",
       "      <td>1469514.0</td>\n",
       "      <td>-0.000267</td>\n",
       "      <td>-0.000357</td>\n",
       "      <td>9.846697e-08</td>\n",
       "      <td>-0.001248</td>\n",
       "      <td>5.087460e-07</td>\n",
       "      <td>...</td>\n",
       "      <td>NaN</td>\n",
       "      <td>NaN</td>\n",
       "      <td>NaN</td>\n",
       "      <td>NaN</td>\n",
       "      <td>NaN</td>\n",
       "      <td>NaN</td>\n",
       "      <td>NaN</td>\n",
       "      <td>NaN</td>\n",
       "      <td>NaN</td>\n",
       "      <td>NaN</td>\n",
       "    </tr>\n",
       "    <tr>\n",
       "      <th>4</th>\n",
       "      <td>09:40:15</td>\n",
       "      <td>9</td>\n",
       "      <td>0</td>\n",
       "      <td>-0.000357</td>\n",
       "      <td>3254794.0</td>\n",
       "      <td>-0.000446</td>\n",
       "      <td>-0.000535</td>\n",
       "      <td>1.094077e-07</td>\n",
       "      <td>-0.000713</td>\n",
       "      <td>8.752620e-08</td>\n",
       "      <td>...</td>\n",
       "      <td>NaN</td>\n",
       "      <td>NaN</td>\n",
       "      <td>NaN</td>\n",
       "      <td>NaN</td>\n",
       "      <td>NaN</td>\n",
       "      <td>NaN</td>\n",
       "      <td>NaN</td>\n",
       "      <td>NaN</td>\n",
       "      <td>NaN</td>\n",
       "      <td>NaN</td>\n",
       "    </tr>\n",
       "    <tr>\n",
       "      <th>...</th>\n",
       "      <td>...</td>\n",
       "      <td>...</td>\n",
       "      <td>...</td>\n",
       "      <td>...</td>\n",
       "      <td>...</td>\n",
       "      <td>...</td>\n",
       "      <td>...</td>\n",
       "      <td>...</td>\n",
       "      <td>...</td>\n",
       "      <td>...</td>\n",
       "      <td>...</td>\n",
       "      <td>...</td>\n",
       "      <td>...</td>\n",
       "      <td>...</td>\n",
       "      <td>...</td>\n",
       "      <td>...</td>\n",
       "      <td>...</td>\n",
       "      <td>...</td>\n",
       "      <td>...</td>\n",
       "      <td>...</td>\n",
       "      <td>...</td>\n",
       "    </tr>\n",
       "    <tr>\n",
       "      <th>255867</th>\n",
       "      <td>14:49:45</td>\n",
       "      <td>9</td>\n",
       "      <td>63</td>\n",
       "      <td>0.007817</td>\n",
       "      <td>89343.0</td>\n",
       "      <td>0.007879</td>\n",
       "      <td>0.007817</td>\n",
       "      <td>2.406970e-07</td>\n",
       "      <td>0.007693</td>\n",
       "      <td>1.196264e-06</td>\n",
       "      <td>...</td>\n",
       "      <td>0.046088</td>\n",
       "      <td>0.194175</td>\n",
       "      <td>0.034783</td>\n",
       "      <td>-0.213406</td>\n",
       "      <td>-0.849698</td>\n",
       "      <td>0.154228</td>\n",
       "      <td>0.069565</td>\n",
       "      <td>0.3500</td>\n",
       "      <td>0.775</td>\n",
       "      <td>0.225</td>\n",
       "    </tr>\n",
       "    <tr>\n",
       "      <th>255868</th>\n",
       "      <td>14:49:48</td>\n",
       "      <td>9</td>\n",
       "      <td>63</td>\n",
       "      <td>0.007941</td>\n",
       "      <td>706651.0</td>\n",
       "      <td>0.007879</td>\n",
       "      <td>0.007817</td>\n",
       "      <td>5.470387e-09</td>\n",
       "      <td>0.007693</td>\n",
       "      <td>1.157972e-06</td>\n",
       "      <td>...</td>\n",
       "      <td>0.045641</td>\n",
       "      <td>0.194175</td>\n",
       "      <td>0.034783</td>\n",
       "      <td>-0.142536</td>\n",
       "      <td>-0.801970</td>\n",
       "      <td>0.150476</td>\n",
       "      <td>0.069565</td>\n",
       "      <td>0.3625</td>\n",
       "      <td>0.800</td>\n",
       "      <td>0.250</td>\n",
       "    </tr>\n",
       "    <tr>\n",
       "      <th>255869</th>\n",
       "      <td>14:49:51</td>\n",
       "      <td>9</td>\n",
       "      <td>63</td>\n",
       "      <td>0.008066</td>\n",
       "      <td>1555556.0</td>\n",
       "      <td>0.008003</td>\n",
       "      <td>0.007941</td>\n",
       "      <td>1.903695e-08</td>\n",
       "      <td>0.007817</td>\n",
       "      <td>3.501048e-07</td>\n",
       "      <td>...</td>\n",
       "      <td>0.045355</td>\n",
       "      <td>0.194175</td>\n",
       "      <td>0.034783</td>\n",
       "      <td>-0.105250</td>\n",
       "      <td>-0.755982</td>\n",
       "      <td>0.148123</td>\n",
       "      <td>0.069565</td>\n",
       "      <td>0.4500</td>\n",
       "      <td>0.825</td>\n",
       "      <td>0.275</td>\n",
       "    </tr>\n",
       "    <tr>\n",
       "      <th>255870</th>\n",
       "      <td>14:49:54</td>\n",
       "      <td>9</td>\n",
       "      <td>63</td>\n",
       "      <td>0.008066</td>\n",
       "      <td>227459.0</td>\n",
       "      <td>0.007941</td>\n",
       "      <td>0.007817</td>\n",
       "      <td>4.566679e-07</td>\n",
       "      <td>0.007693</td>\n",
       "      <td>5.743907e-07</td>\n",
       "      <td>...</td>\n",
       "      <td>0.045232</td>\n",
       "      <td>0.194175</td>\n",
       "      <td>0.034783</td>\n",
       "      <td>-0.064218</td>\n",
       "      <td>-0.735427</td>\n",
       "      <td>0.148123</td>\n",
       "      <td>0.069565</td>\n",
       "      <td>0.4500</td>\n",
       "      <td>0.850</td>\n",
       "      <td>0.300</td>\n",
       "    </tr>\n",
       "    <tr>\n",
       "      <th>255871</th>\n",
       "      <td>14:49:57</td>\n",
       "      <td>9</td>\n",
       "      <td>63</td>\n",
       "      <td>0.007941</td>\n",
       "      <td>162483.0</td>\n",
       "      <td>0.008003</td>\n",
       "      <td>0.007941</td>\n",
       "      <td>3.501048e-07</td>\n",
       "      <td>0.007817</td>\n",
       "      <td>4.676087e-07</td>\n",
       "      <td>...</td>\n",
       "      <td>0.044454</td>\n",
       "      <td>0.194175</td>\n",
       "      <td>0.034783</td>\n",
       "      <td>0.005403</td>\n",
       "      <td>-0.624586</td>\n",
       "      <td>0.138150</td>\n",
       "      <td>0.069565</td>\n",
       "      <td>0.3500</td>\n",
       "      <td>0.875</td>\n",
       "      <td>0.325</td>\n",
       "    </tr>\n",
       "  </tbody>\n",
       "</table>\n",
       "<p>255872 rows × 3540 columns</p>\n",
       "</div>"
      ],
      "text/plain": [
       "            time  sym  date   n_close  amount_delta  n_midprice    n_bid1  \\\n",
       "0       09:40:03    9     0 -0.000535      442953.0   -0.000446 -0.000535   \n",
       "1       09:40:06    9     0 -0.000178     3257370.0   -0.000267 -0.000357   \n",
       "2       09:40:09    9     0 -0.000713     2107543.0   -0.000980 -0.001248   \n",
       "3       09:40:12    9     0 -0.000357     1469514.0   -0.000267 -0.000357   \n",
       "4       09:40:15    9     0 -0.000357     3254794.0   -0.000446 -0.000535   \n",
       "...          ...  ...   ...       ...           ...         ...       ...   \n",
       "255867  14:49:45    9    63  0.007817       89343.0    0.007879  0.007817   \n",
       "255868  14:49:48    9    63  0.007941      706651.0    0.007879  0.007817   \n",
       "255869  14:49:51    9    63  0.008066     1555556.0    0.008003  0.007941   \n",
       "255870  14:49:54    9    63  0.008066      227459.0    0.007941  0.007817   \n",
       "255871  14:49:57    9    63  0.007941      162483.0    0.008003  0.007941   \n",
       "\n",
       "            n_bsize1    n_bid2      n_bsize2  ...  mpc40_std40  mpc40_max40  \\\n",
       "0       6.564465e-08 -0.000713  3.200177e-06  ...          NaN          NaN   \n",
       "1       1.641116e-08 -0.000713  9.299658e-07  ...          NaN          NaN   \n",
       "2       3.282232e-07 -0.001426  1.914636e-07  ...          NaN          NaN   \n",
       "3       9.846697e-08 -0.001248  5.087460e-07  ...          NaN          NaN   \n",
       "4       1.094077e-07 -0.000713  8.752620e-08  ...          NaN          NaN   \n",
       "...              ...       ...           ...  ...          ...          ...   \n",
       "255867  2.406970e-07  0.007693  1.196264e-06  ...     0.046088     0.194175   \n",
       "255868  5.470387e-09  0.007693  1.157972e-06  ...     0.045641     0.194175   \n",
       "255869  1.903695e-08  0.007817  3.501048e-07  ...     0.045355     0.194175   \n",
       "255870  4.566679e-07  0.007693  5.743907e-07  ...     0.045232     0.194175   \n",
       "255871  3.501048e-07  0.007817  4.676087e-07  ...     0.044454     0.194175   \n",
       "\n",
       "        mpc40_min40  mpc40_skew40  mpc40_kurt40  mpc40_qtlu40  mpc40_qtld40  \\\n",
       "0               NaN           NaN           NaN           NaN           NaN   \n",
       "1               NaN           NaN           NaN           NaN           NaN   \n",
       "2               NaN           NaN           NaN           NaN           NaN   \n",
       "3               NaN           NaN           NaN           NaN           NaN   \n",
       "4               NaN           NaN           NaN           NaN           NaN   \n",
       "...             ...           ...           ...           ...           ...   \n",
       "255867     0.034783     -0.213406     -0.849698      0.154228      0.069565   \n",
       "255868     0.034783     -0.142536     -0.801970      0.150476      0.069565   \n",
       "255869     0.034783     -0.105250     -0.755982      0.148123      0.069565   \n",
       "255870     0.034783     -0.064218     -0.735427      0.148123      0.069565   \n",
       "255871     0.034783      0.005403     -0.624586      0.138150      0.069565   \n",
       "\n",
       "        mpc40_rank40  mpc40_imax40  mpc40_imin40  \n",
       "0                NaN           NaN           NaN  \n",
       "1                NaN           NaN           NaN  \n",
       "2                NaN           NaN           NaN  \n",
       "3                NaN           NaN           NaN  \n",
       "4                NaN           NaN           NaN  \n",
       "...              ...           ...           ...  \n",
       "255867        0.3500         0.775         0.225  \n",
       "255868        0.3625         0.800         0.250  \n",
       "255869        0.4500         0.825         0.275  \n",
       "255870        0.4500         0.850         0.300  \n",
       "255871        0.3500         0.875         0.325  \n",
       "\n",
       "[255872 rows x 3540 columns]"
      ]
     },
     "execution_count": 11,
     "metadata": {},
     "output_type": "execute_result"
    }
   ],
   "source": [
    "df_train_6"
   ]
  },
  {
   "cell_type": "code",
   "execution_count": 12,
   "id": "d3be91a9",
   "metadata": {
    "ExecuteTime": {
     "end_time": "2023-07-31T07:49:44.110852Z",
     "start_time": "2023-07-31T07:48:52.624035Z"
    }
   },
   "outputs": [],
   "source": [
    "df_train_6.to_parquet('./feature_data/df_train_6.parquet')"
   ]
  },
  {
   "cell_type": "code",
   "execution_count": null,
   "id": "3d1f9c88",
   "metadata": {},
   "outputs": [],
   "source": []
  },
  {
   "cell_type": "markdown",
   "id": "d5e8c64f",
   "metadata": {},
   "source": [
    "## 转float32"
   ]
  },
  {
   "cell_type": "code",
   "execution_count": 2,
   "id": "b8ff1bb7",
   "metadata": {
    "ExecuteTime": {
     "end_time": "2023-07-31T15:53:17.560937Z",
     "start_time": "2023-07-31T15:50:51.530930Z"
    }
   },
   "outputs": [],
   "source": [
    "df_train_1 = pd.read_parquet('./feature_data/df_train_1.parquet')"
   ]
  },
  {
   "cell_type": "code",
   "execution_count": 3,
   "id": "02dfe941",
   "metadata": {
    "ExecuteTime": {
     "end_time": "2023-07-31T15:31:31.254128Z",
     "start_time": "2023-07-31T15:31:31.193650Z"
    }
   },
   "outputs": [
    {
     "data": {
      "text/plain": [
       "(483758, 3540)"
      ]
     },
     "execution_count": 3,
     "metadata": {},
     "output_type": "execute_result"
    }
   ],
   "source": [
    "df_train_1.shape"
   ]
  },
  {
   "cell_type": "code",
   "execution_count": 4,
   "id": "3cd36f97",
   "metadata": {
    "ExecuteTime": {
     "end_time": "2023-07-31T15:31:31.372739Z",
     "start_time": "2023-07-31T15:31:31.256603Z"
    }
   },
   "outputs": [
    {
     "data": {
      "text/plain": [
       "label_5     int64\n",
       "label_10    int64\n",
       "label_20    int64\n",
       "label_40    int64\n",
       "label_60    int64\n",
       "dtype: object"
      ]
     },
     "execution_count": 4,
     "metadata": {},
     "output_type": "execute_result"
    }
   ],
   "source": [
    "df_train_1[['label_5','label_10','label_20','label_40','label_60']].dtypes"
   ]
  },
  {
   "cell_type": "code",
   "execution_count": 3,
   "id": "2ae0c97f",
   "metadata": {
    "ExecuteTime": {
     "end_time": "2023-07-31T15:53:17.628620Z",
     "start_time": "2023-07-31T15:53:17.589278Z"
    }
   },
   "outputs": [],
   "source": [
    "cols_to_remove = ['timeEncoding','hour','minute','second','sym','date','time','label_5','label_10','label_20','label_40','label_60']\n",
    "col_to_f32 = [col for col in df_train_1.columns.to_list() if col not in cols_to_remove]"
   ]
  },
  {
   "cell_type": "code",
   "execution_count": 9,
   "id": "3acc2ebb",
   "metadata": {
    "ExecuteTime": {
     "end_time": "2023-07-31T15:34:35.930996Z",
     "start_time": "2023-07-31T15:34:35.918379Z"
    }
   },
   "outputs": [
    {
     "data": {
      "text/plain": [
       "3540"
      ]
     },
     "execution_count": 9,
     "metadata": {},
     "output_type": "execute_result"
    }
   ],
   "source": [
    "df_train_1.shape[1]"
   ]
  },
  {
   "cell_type": "code",
   "execution_count": 14,
   "id": "79463758",
   "metadata": {
    "ExecuteTime": {
     "end_time": "2023-07-31T15:43:23.133127Z",
     "start_time": "2023-07-31T15:40:59.921100Z"
    }
   },
   "outputs": [
    {
     "name": "stderr",
     "output_type": "stream",
     "text": [
      "100%|████████████████████████████████████████████████████████████████████████████████████| 8/8 [02:23<00:00, 17.90s/it]\n"
     ]
    }
   ],
   "source": [
    "for i in tqdm(range(8)):\n",
    "    col = col_to_f32[i*500:(i+1)*500]\n",
    "    df_train_1[col].astype(np.float32).to_parquet(f'./feature_data_f32/df_train_1_{i}.parquet')"
   ]
  },
  {
   "cell_type": "code",
   "execution_count": 4,
   "id": "a64468c9",
   "metadata": {
    "ExecuteTime": {
     "end_time": "2023-07-31T15:53:19.055695Z",
     "start_time": "2023-07-31T15:53:17.628620Z"
    }
   },
   "outputs": [
    {
     "data": {
      "text/plain": [
       "0"
      ]
     },
     "execution_count": 4,
     "metadata": {},
     "output_type": "execute_result"
    }
   ],
   "source": [
    "del df_train_1\n",
    "gc.collect()"
   ]
  },
  {
   "cell_type": "code",
   "execution_count": null,
   "id": "3040c450",
   "metadata": {},
   "outputs": [],
   "source": []
  },
  {
   "cell_type": "code",
   "execution_count": 17,
   "id": "3868cc36",
   "metadata": {
    "ExecuteTime": {
     "end_time": "2023-07-31T15:46:10.734356Z",
     "start_time": "2023-07-31T15:43:24.409937Z"
    }
   },
   "outputs": [],
   "source": [
    "df_train_2 = pd.read_parquet('./feature_data/df_train_2.parquet')"
   ]
  },
  {
   "cell_type": "code",
   "execution_count": 18,
   "id": "d9cb44d0",
   "metadata": {
    "ExecuteTime": {
     "end_time": "2023-07-31T15:46:10.794310Z",
     "start_time": "2023-07-31T15:46:10.763544Z"
    }
   },
   "outputs": [
    {
     "data": {
      "text/plain": [
       "3540"
      ]
     },
     "execution_count": 18,
     "metadata": {},
     "output_type": "execute_result"
    }
   ],
   "source": [
    "df_train_2.shape[1]"
   ]
  },
  {
   "cell_type": "code",
   "execution_count": 19,
   "id": "b92e2faf",
   "metadata": {
    "ExecuteTime": {
     "end_time": "2023-07-31T15:48:35.259365Z",
     "start_time": "2023-07-31T15:46:10.795737Z"
    }
   },
   "outputs": [
    {
     "name": "stderr",
     "output_type": "stream",
     "text": [
      "100%|████████████████████████████████████████████████████████████████████████████████████| 8/8 [02:24<00:00, 18.05s/it]\n"
     ]
    }
   ],
   "source": [
    "for i in tqdm(range(8)):\n",
    "    col = col_to_f32[i*500:(i+1)*500]\n",
    "    df_train_2[col].astype(np.float32).to_parquet(f'./feature_data_f32/df_train_2_{i}.parquet')"
   ]
  },
  {
   "cell_type": "code",
   "execution_count": 21,
   "id": "5c0ec693",
   "metadata": {
    "ExecuteTime": {
     "end_time": "2023-07-31T15:48:37.108002Z",
     "start_time": "2023-07-31T15:48:35.360576Z"
    }
   },
   "outputs": [
    {
     "data": {
      "text/plain": [
       "0"
      ]
     },
     "execution_count": 21,
     "metadata": {},
     "output_type": "execute_result"
    }
   ],
   "source": [
    "del df_train_2\n",
    "gc.collect()"
   ]
  },
  {
   "cell_type": "code",
   "execution_count": null,
   "id": "6c91f480",
   "metadata": {},
   "outputs": [],
   "source": []
  },
  {
   "cell_type": "code",
   "execution_count": 5,
   "id": "2a8284d8",
   "metadata": {
    "ExecuteTime": {
     "end_time": "2023-07-31T15:55:43.934507Z",
     "start_time": "2023-07-31T15:53:19.060175Z"
    }
   },
   "outputs": [],
   "source": [
    "df_train_3 = pd.read_parquet('./feature_data/df_train_3.parquet')"
   ]
  },
  {
   "cell_type": "code",
   "execution_count": 6,
   "id": "86d47bac",
   "metadata": {
    "ExecuteTime": {
     "end_time": "2023-07-31T15:55:44.140657Z",
     "start_time": "2023-07-31T15:55:44.045040Z"
    }
   },
   "outputs": [
    {
     "data": {
      "text/plain": [
       "3540"
      ]
     },
     "execution_count": 6,
     "metadata": {},
     "output_type": "execute_result"
    }
   ],
   "source": [
    "df_train_3.shape[1]"
   ]
  },
  {
   "cell_type": "code",
   "execution_count": 7,
   "id": "b06d89c9",
   "metadata": {
    "ExecuteTime": {
     "end_time": "2023-07-31T15:58:10.155524Z",
     "start_time": "2023-07-31T15:55:44.145927Z"
    }
   },
   "outputs": [
    {
     "name": "stderr",
     "output_type": "stream",
     "text": [
      "100%|████████████████████████████████████████████████████████████████████████████████████| 8/8 [02:25<00:00, 18.24s/it]\n"
     ]
    }
   ],
   "source": [
    "for i in tqdm(range(8)):\n",
    "    col = col_to_f32[i*500:(i+1)*500]\n",
    "    df_train_3[col].astype(np.float32).to_parquet(f'./feature_data_f32/df_train_3_{i}.parquet')"
   ]
  },
  {
   "cell_type": "code",
   "execution_count": 8,
   "id": "7a78b23d",
   "metadata": {
    "ExecuteTime": {
     "end_time": "2023-07-31T15:58:11.168957Z",
     "start_time": "2023-07-31T15:58:10.164848Z"
    }
   },
   "outputs": [
    {
     "data": {
      "text/plain": [
       "0"
      ]
     },
     "execution_count": 8,
     "metadata": {},
     "output_type": "execute_result"
    }
   ],
   "source": [
    "del df_train_3\n",
    "gc.collect()"
   ]
  },
  {
   "cell_type": "code",
   "execution_count": null,
   "id": "8e5715a2",
   "metadata": {},
   "outputs": [],
   "source": []
  },
  {
   "cell_type": "code",
   "execution_count": 9,
   "id": "7379c41a",
   "metadata": {
    "ExecuteTime": {
     "end_time": "2023-07-31T16:01:03.933269Z",
     "start_time": "2023-07-31T15:58:11.172833Z"
    }
   },
   "outputs": [],
   "source": [
    "df_train_4 = pd.read_parquet('./feature_data/df_train_4.parquet')"
   ]
  },
  {
   "cell_type": "code",
   "execution_count": 10,
   "id": "12ac8311",
   "metadata": {
    "ExecuteTime": {
     "end_time": "2023-07-31T16:01:04.074353Z",
     "start_time": "2023-07-31T16:01:03.995762Z"
    }
   },
   "outputs": [
    {
     "data": {
      "text/plain": [
       "3540"
      ]
     },
     "execution_count": 10,
     "metadata": {},
     "output_type": "execute_result"
    }
   ],
   "source": [
    "df_train_4.shape[1]"
   ]
  },
  {
   "cell_type": "code",
   "execution_count": 11,
   "id": "ab5bbc03",
   "metadata": {
    "ExecuteTime": {
     "end_time": "2023-07-31T16:03:42.803057Z",
     "start_time": "2023-07-31T16:01:04.089302Z"
    }
   },
   "outputs": [
    {
     "name": "stderr",
     "output_type": "stream",
     "text": [
      "100%|████████████████████████████████████████████████████████████████████████████████████| 8/8 [02:38<00:00, 19.83s/it]\n"
     ]
    }
   ],
   "source": [
    "for i in tqdm(range(8)):\n",
    "    col = col_to_f32[i*500:(i+1)*500]\n",
    "    df_train_4[col].astype(np.float32).to_parquet(f'./feature_data_f32/df_train_4_{i}.parquet')"
   ]
  },
  {
   "cell_type": "code",
   "execution_count": 12,
   "id": "c2439a6c",
   "metadata": {
    "ExecuteTime": {
     "end_time": "2023-07-31T16:03:43.942826Z",
     "start_time": "2023-07-31T16:03:42.807054Z"
    }
   },
   "outputs": [
    {
     "data": {
      "text/plain": [
       "0"
      ]
     },
     "execution_count": 12,
     "metadata": {},
     "output_type": "execute_result"
    }
   ],
   "source": [
    "del df_train_4\n",
    "gc.collect()"
   ]
  },
  {
   "cell_type": "code",
   "execution_count": null,
   "id": "a5130e15",
   "metadata": {},
   "outputs": [],
   "source": []
  },
  {
   "cell_type": "code",
   "execution_count": 13,
   "id": "cb8a2041",
   "metadata": {
    "ExecuteTime": {
     "end_time": "2023-07-31T16:03:54.796327Z",
     "start_time": "2023-07-31T16:03:43.943813Z"
    }
   },
   "outputs": [],
   "source": [
    "df_train_5 = pd.read_parquet('./feature_data/df_train_5.parquet')"
   ]
  },
  {
   "cell_type": "code",
   "execution_count": 14,
   "id": "e2025005",
   "metadata": {
    "ExecuteTime": {
     "end_time": "2023-07-31T16:03:54.859700Z",
     "start_time": "2023-07-31T16:03:54.812189Z"
    }
   },
   "outputs": [
    {
     "data": {
      "text/plain": [
       "3540"
      ]
     },
     "execution_count": 14,
     "metadata": {},
     "output_type": "execute_result"
    }
   ],
   "source": [
    "df_train_5.shape[1]"
   ]
  },
  {
   "cell_type": "code",
   "execution_count": 15,
   "id": "4862d4fe",
   "metadata": {
    "ExecuteTime": {
     "end_time": "2023-07-31T16:04:56.380907Z",
     "start_time": "2023-07-31T16:03:54.860906Z"
    }
   },
   "outputs": [
    {
     "name": "stderr",
     "output_type": "stream",
     "text": [
      "100%|████████████████████████████████████████████████████████████████████████████████████| 8/8 [01:01<00:00,  7.69s/it]\n"
     ]
    }
   ],
   "source": [
    "for i in tqdm(range(8)):\n",
    "    col = col_to_f32[i*500:(i+1)*500]\n",
    "    df_train_5[col].astype(np.float32).to_parquet(f'./feature_data_f32/df_train_5_{i}.parquet')"
   ]
  },
  {
   "cell_type": "code",
   "execution_count": 16,
   "id": "3844c7ec",
   "metadata": {
    "ExecuteTime": {
     "end_time": "2023-07-31T16:04:57.119256Z",
     "start_time": "2023-07-31T16:04:56.383896Z"
    }
   },
   "outputs": [
    {
     "data": {
      "text/plain": [
       "0"
      ]
     },
     "execution_count": 16,
     "metadata": {},
     "output_type": "execute_result"
    }
   ],
   "source": [
    "del df_train_5\n",
    "gc.collect()"
   ]
  },
  {
   "cell_type": "code",
   "execution_count": null,
   "id": "4973798c",
   "metadata": {},
   "outputs": [],
   "source": []
  },
  {
   "cell_type": "code",
   "execution_count": 17,
   "id": "27420bf8",
   "metadata": {
    "ExecuteTime": {
     "end_time": "2023-07-31T16:05:12.877278Z",
     "start_time": "2023-07-31T16:04:57.121692Z"
    }
   },
   "outputs": [],
   "source": [
    "df_train_6 = pd.read_parquet('./feature_data/df_train_6.parquet')"
   ]
  },
  {
   "cell_type": "code",
   "execution_count": 18,
   "id": "dd8a8f71",
   "metadata": {
    "ExecuteTime": {
     "end_time": "2023-07-31T16:05:12.924141Z",
     "start_time": "2023-07-31T16:05:12.892902Z"
    }
   },
   "outputs": [
    {
     "data": {
      "text/plain": [
       "3540"
      ]
     },
     "execution_count": 18,
     "metadata": {},
     "output_type": "execute_result"
    }
   ],
   "source": [
    "df_train_6.shape[1]"
   ]
  },
  {
   "cell_type": "code",
   "execution_count": 19,
   "id": "a7072a4d",
   "metadata": {
    "ExecuteTime": {
     "end_time": "2023-07-31T16:06:34.354146Z",
     "start_time": "2023-07-31T16:05:12.924141Z"
    }
   },
   "outputs": [
    {
     "name": "stderr",
     "output_type": "stream",
     "text": [
      "100%|████████████████████████████████████████████████████████████████████████████████████| 8/8 [01:21<00:00, 10.18s/it]\n"
     ]
    }
   ],
   "source": [
    "for i in tqdm(range(8)):\n",
    "    col = col_to_f32[i*500:(i+1)*500]\n",
    "    df_train_6[col].astype(np.float32).to_parquet(f'./feature_data_f32/df_train_6_{i}.parquet')"
   ]
  },
  {
   "cell_type": "code",
   "execution_count": 20,
   "id": "6a4b1c97",
   "metadata": {
    "ExecuteTime": {
     "end_time": "2023-07-31T16:06:35.100937Z",
     "start_time": "2023-07-31T16:06:34.358097Z"
    }
   },
   "outputs": [
    {
     "data": {
      "text/plain": [
       "0"
      ]
     },
     "execution_count": 20,
     "metadata": {},
     "output_type": "execute_result"
    }
   ],
   "source": [
    "del df_train_6\n",
    "gc.collect()"
   ]
  },
  {
   "cell_type": "code",
   "execution_count": null,
   "id": "270a92fd",
   "metadata": {},
   "outputs": [],
   "source": []
  },
  {
   "cell_type": "markdown",
   "id": "13634e76",
   "metadata": {},
   "source": [
    "## 拼接"
   ]
  },
  {
   "cell_type": "code",
   "execution_count": 7,
   "id": "9479e681",
   "metadata": {
    "ExecuteTime": {
     "end_time": "2023-08-01T01:34:30.079869Z",
     "start_time": "2023-08-01T01:08:20.120869Z"
    }
   },
   "outputs": [
    {
     "name": "stderr",
     "output_type": "stream",
     "text": [
      "100%|███████████████████████████████████████████████████████████████████████████████████| 6/6 [26:09<00:00, 261.66s/it]\n"
     ]
    }
   ],
   "source": [
    "for i in tqdm(range(1,7)):\n",
    "    tmp = pd.read_parquet(f'./feature_data/df_train_{i}.parquet')\n",
    "    df_train = tmp[['sym','date','time','label_5','label_10','label_20','label_40','label_60','timeEncoding','hour','minute','second']]\n",
    "    del tmp\n",
    "    gc.collect()\n",
    "    for j in range(8):\n",
    "        tmp1 = pd.read_parquet(f'./feature_data_f32/df_train_{i}_{j}.parquet')\n",
    "        df_train = pd.concat([df_train, tmp1], axis=1)\n",
    "        del tmp1\n",
    "        gc.collect()\n",
    "    df_train.to_parquet(f'./feature_data_f32/df_train_{i}.parquet')\n",
    "    del df_train\n",
    "    gc.collect()"
   ]
  },
  {
   "cell_type": "code",
   "execution_count": 2,
   "id": "32272ef2",
   "metadata": {
    "ExecuteTime": {
     "end_time": "2023-08-01T01:56:40.986137Z",
     "start_time": "2023-08-01T01:55:41.718233Z"
    }
   },
   "outputs": [],
   "source": [
    "df_train_1 = pd.read_parquet('./feature_data_f32/df_train_1.parquet')\n",
    "df_train_2 = pd.read_parquet('./feature_data_f32/df_train_2.parquet')"
   ]
  },
  {
   "cell_type": "code",
   "execution_count": 3,
   "id": "57dc32ec",
   "metadata": {
    "ExecuteTime": {
     "end_time": "2023-08-01T01:57:50.286033Z",
     "start_time": "2023-08-01T01:56:41.041724Z"
    }
   },
   "outputs": [],
   "source": [
    "df_train_tmp_1 = pd.concat([df_train_1, df_train_2], axis=0)"
   ]
  },
  {
   "cell_type": "code",
   "execution_count": 4,
   "id": "df7a145e",
   "metadata": {
    "ExecuteTime": {
     "end_time": "2023-08-01T01:57:50.408869Z",
     "start_time": "2023-08-01T01:57:50.317898Z"
    }
   },
   "outputs": [
    {
     "data": {
      "text/plain": [
       "(987506, 3540)"
      ]
     },
     "execution_count": 4,
     "metadata": {},
     "output_type": "execute_result"
    }
   ],
   "source": [
    "df_train_tmp_1.shape"
   ]
  },
  {
   "cell_type": "code",
   "execution_count": 5,
   "id": "ecc54528",
   "metadata": {
    "ExecuteTime": {
     "end_time": "2023-08-01T02:03:46.488904Z",
     "start_time": "2023-08-01T01:58:39.275622Z"
    }
   },
   "outputs": [],
   "source": [
    "df_train_tmp_1.to_parquet(f'./feature_data_f32/df_train_tmp_1.parquet')"
   ]
  },
  {
   "cell_type": "code",
   "execution_count": 2,
   "id": "9ed79c7d",
   "metadata": {
    "ExecuteTime": {
     "end_time": "2023-08-01T02:05:12.734125Z",
     "start_time": "2023-08-01T02:04:20.676655Z"
    }
   },
   "outputs": [],
   "source": [
    "df_train_3 = pd.read_parquet('./feature_data_f32/df_train_3.parquet')\n",
    "df_train_4 = pd.read_parquet('./feature_data_f32/df_train_4.parquet')"
   ]
  },
  {
   "cell_type": "code",
   "execution_count": 3,
   "id": "7b7cabd5",
   "metadata": {
    "ExecuteTime": {
     "end_time": "2023-08-01T02:06:20.808933Z",
     "start_time": "2023-08-01T02:05:12.764248Z"
    }
   },
   "outputs": [],
   "source": [
    "df_train_tmp_2 = pd.concat([df_train_3, df_train_4], axis=0)"
   ]
  },
  {
   "cell_type": "code",
   "execution_count": 4,
   "id": "80763791",
   "metadata": {
    "ExecuteTime": {
     "end_time": "2023-08-01T02:06:20.919840Z",
     "start_time": "2023-08-01T02:06:20.841203Z"
    }
   },
   "outputs": [
    {
     "data": {
      "text/plain": [
       "(953523, 3540)"
      ]
     },
     "execution_count": 4,
     "metadata": {},
     "output_type": "execute_result"
    }
   ],
   "source": [
    "df_train_tmp_2.shape"
   ]
  },
  {
   "cell_type": "code",
   "execution_count": 5,
   "id": "d0106a28",
   "metadata": {
    "ExecuteTime": {
     "end_time": "2023-08-01T02:14:52.033727Z",
     "start_time": "2023-08-01T02:09:59.356792Z"
    }
   },
   "outputs": [],
   "source": [
    "df_train_tmp_2.to_parquet(f'./feature_data_f32/df_train_tmp_2.parquet')"
   ]
  },
  {
   "cell_type": "code",
   "execution_count": 2,
   "id": "a5dce670",
   "metadata": {
    "ExecuteTime": {
     "end_time": "2023-08-01T02:15:35.915463Z",
     "start_time": "2023-08-01T02:15:27.168939Z"
    }
   },
   "outputs": [],
   "source": [
    "df_train_5 = pd.read_parquet('./feature_data_f32/df_train_5.parquet')\n",
    "df_train_6 = pd.read_parquet('./feature_data_f32/df_train_6.parquet')"
   ]
  },
  {
   "cell_type": "code",
   "execution_count": 3,
   "id": "412ac24c",
   "metadata": {
    "ExecuteTime": {
     "end_time": "2023-08-01T02:15:52.303942Z",
     "start_time": "2023-08-01T02:15:35.916458Z"
    }
   },
   "outputs": [],
   "source": [
    "df_train_tmp_3 = pd.concat([df_train_5, df_train_6], axis=0)"
   ]
  },
  {
   "cell_type": "code",
   "execution_count": 4,
   "id": "870688d8",
   "metadata": {
    "ExecuteTime": {
     "end_time": "2023-08-01T02:15:52.420247Z",
     "start_time": "2023-08-01T02:15:52.330293Z"
    }
   },
   "outputs": [
    {
     "data": {
      "text/plain": [
       "(507746, 3540)"
      ]
     },
     "execution_count": 4,
     "metadata": {},
     "output_type": "execute_result"
    }
   ],
   "source": [
    "df_train_tmp_3.shape"
   ]
  },
  {
   "cell_type": "code",
   "execution_count": 5,
   "id": "8890c015",
   "metadata": {
    "ExecuteTime": {
     "end_time": "2023-08-01T02:18:29.551821Z",
     "start_time": "2023-08-01T02:15:52.446868Z"
    }
   },
   "outputs": [],
   "source": [
    "df_train_tmp_3.to_parquet(f'./feature_data_f32/df_train_tmp_3.parquet')"
   ]
  },
  {
   "cell_type": "code",
   "execution_count": null,
   "id": "f8e68adc",
   "metadata": {},
   "outputs": [],
   "source": []
  },
  {
   "cell_type": "markdown",
   "id": "31d0fc33",
   "metadata": {},
   "source": [
    "## 划分拆分"
   ]
  },
  {
   "cell_type": "code",
   "execution_count": 56,
   "id": "4f513fe0",
   "metadata": {
    "ExecuteTime": {
     "end_time": "2023-08-01T05:28:42.663999Z",
     "start_time": "2023-08-01T05:28:06.964015Z"
    }
   },
   "outputs": [],
   "source": [
    "df_train_tmp_1 = pd.read_parquet(f'./feature_data_f32/df_train_tmp_3.parquet')"
   ]
  },
  {
   "cell_type": "code",
   "execution_count": 70,
   "id": "0ace5923",
   "metadata": {
    "ExecuteTime": {
     "end_time": "2023-08-01T05:29:55.425825Z",
     "start_time": "2023-08-01T05:29:54.880121Z"
    }
   },
   "outputs": [],
   "source": [
    "sym0_date0_20 = df_train_tmp_1[(df_train_tmp_1['sym']==9) & (df_train_tmp_1['date']<=20)]"
   ]
  },
  {
   "cell_type": "code",
   "execution_count": 71,
   "id": "d1ff4bcb",
   "metadata": {
    "ExecuteTime": {
     "end_time": "2023-08-01T05:29:55.431018Z",
     "start_time": "2023-08-01T05:29:55.426573Z"
    }
   },
   "outputs": [],
   "source": [
    "sym0_date0_20.reset_index(drop=True, inplace=True)"
   ]
  },
  {
   "cell_type": "code",
   "execution_count": 72,
   "id": "6b3a4df8",
   "metadata": {
    "ExecuteTime": {
     "end_time": "2023-08-01T05:29:56.075679Z",
     "start_time": "2023-08-01T05:29:56.059616Z"
    }
   },
   "outputs": [
    {
     "data": {
      "text/plain": [
       "sym               int64\n",
       "date              int64\n",
       "time             object\n",
       "label_5           int64\n",
       "label_10          int64\n",
       "                 ...   \n",
       "mpc40_qtlu40    float32\n",
       "mpc40_qtld40    float32\n",
       "mpc40_rank40    float32\n",
       "mpc40_imax40    float32\n",
       "mpc40_imin40    float32\n",
       "Length: 3540, dtype: object"
      ]
     },
     "execution_count": 72,
     "metadata": {},
     "output_type": "execute_result"
    }
   ],
   "source": [
    "sym0_date0_20.dtypes"
   ]
  },
  {
   "cell_type": "code",
   "execution_count": 74,
   "id": "f5315a64",
   "metadata": {
    "ExecuteTime": {
     "end_time": "2023-08-01T05:30:14.743247Z",
     "start_time": "2023-08-01T05:30:04.957278Z"
    }
   },
   "outputs": [],
   "source": [
    "sym0_date0_20.to_parquet(f'./feature_data_f32/20/sym9_date0_20.parquet')"
   ]
  },
  {
   "cell_type": "code",
   "execution_count": 73,
   "id": "1b4e5579",
   "metadata": {
    "ExecuteTime": {
     "end_time": "2023-08-01T05:29:58.917142Z",
     "start_time": "2023-08-01T05:29:58.886968Z"
    }
   },
   "outputs": [
    {
     "data": {
      "text/html": [
       "<div>\n",
       "<style scoped>\n",
       "    .dataframe tbody tr th:only-of-type {\n",
       "        vertical-align: middle;\n",
       "    }\n",
       "\n",
       "    .dataframe tbody tr th {\n",
       "        vertical-align: top;\n",
       "    }\n",
       "\n",
       "    .dataframe thead th {\n",
       "        text-align: right;\n",
       "    }\n",
       "</style>\n",
       "<table border=\"1\" class=\"dataframe\">\n",
       "  <thead>\n",
       "    <tr style=\"text-align: right;\">\n",
       "      <th></th>\n",
       "      <th>sym</th>\n",
       "      <th>date</th>\n",
       "      <th>time</th>\n",
       "      <th>label_5</th>\n",
       "      <th>label_10</th>\n",
       "      <th>label_20</th>\n",
       "      <th>label_40</th>\n",
       "      <th>label_60</th>\n",
       "      <th>timeEncoding</th>\n",
       "      <th>hour</th>\n",
       "      <th>...</th>\n",
       "      <th>mpc40_std40</th>\n",
       "      <th>mpc40_max40</th>\n",
       "      <th>mpc40_min40</th>\n",
       "      <th>mpc40_skew40</th>\n",
       "      <th>mpc40_kurt40</th>\n",
       "      <th>mpc40_qtlu40</th>\n",
       "      <th>mpc40_qtld40</th>\n",
       "      <th>mpc40_rank40</th>\n",
       "      <th>mpc40_imax40</th>\n",
       "      <th>mpc40_imin40</th>\n",
       "    </tr>\n",
       "  </thead>\n",
       "  <tbody>\n",
       "    <tr>\n",
       "      <th>0</th>\n",
       "      <td>9</td>\n",
       "      <td>0</td>\n",
       "      <td>09:40:03</td>\n",
       "      <td>1</td>\n",
       "      <td>1</td>\n",
       "      <td>1</td>\n",
       "      <td>1</td>\n",
       "      <td>1</td>\n",
       "      <td>0</td>\n",
       "      <td>9</td>\n",
       "      <td>...</td>\n",
       "      <td>NaN</td>\n",
       "      <td>NaN</td>\n",
       "      <td>NaN</td>\n",
       "      <td>NaN</td>\n",
       "      <td>NaN</td>\n",
       "      <td>NaN</td>\n",
       "      <td>NaN</td>\n",
       "      <td>NaN</td>\n",
       "      <td>NaN</td>\n",
       "      <td>NaN</td>\n",
       "    </tr>\n",
       "    <tr>\n",
       "      <th>1</th>\n",
       "      <td>9</td>\n",
       "      <td>0</td>\n",
       "      <td>09:40:06</td>\n",
       "      <td>1</td>\n",
       "      <td>1</td>\n",
       "      <td>1</td>\n",
       "      <td>1</td>\n",
       "      <td>1</td>\n",
       "      <td>0</td>\n",
       "      <td>9</td>\n",
       "      <td>...</td>\n",
       "      <td>NaN</td>\n",
       "      <td>NaN</td>\n",
       "      <td>NaN</td>\n",
       "      <td>NaN</td>\n",
       "      <td>NaN</td>\n",
       "      <td>NaN</td>\n",
       "      <td>NaN</td>\n",
       "      <td>NaN</td>\n",
       "      <td>NaN</td>\n",
       "      <td>NaN</td>\n",
       "    </tr>\n",
       "    <tr>\n",
       "      <th>2</th>\n",
       "      <td>9</td>\n",
       "      <td>0</td>\n",
       "      <td>09:40:09</td>\n",
       "      <td>2</td>\n",
       "      <td>2</td>\n",
       "      <td>1</td>\n",
       "      <td>2</td>\n",
       "      <td>1</td>\n",
       "      <td>0</td>\n",
       "      <td>9</td>\n",
       "      <td>...</td>\n",
       "      <td>NaN</td>\n",
       "      <td>NaN</td>\n",
       "      <td>NaN</td>\n",
       "      <td>NaN</td>\n",
       "      <td>NaN</td>\n",
       "      <td>NaN</td>\n",
       "      <td>NaN</td>\n",
       "      <td>NaN</td>\n",
       "      <td>NaN</td>\n",
       "      <td>NaN</td>\n",
       "    </tr>\n",
       "    <tr>\n",
       "      <th>3</th>\n",
       "      <td>9</td>\n",
       "      <td>0</td>\n",
       "      <td>09:40:12</td>\n",
       "      <td>0</td>\n",
       "      <td>1</td>\n",
       "      <td>1</td>\n",
       "      <td>1</td>\n",
       "      <td>1</td>\n",
       "      <td>0</td>\n",
       "      <td>9</td>\n",
       "      <td>...</td>\n",
       "      <td>NaN</td>\n",
       "      <td>NaN</td>\n",
       "      <td>NaN</td>\n",
       "      <td>NaN</td>\n",
       "      <td>NaN</td>\n",
       "      <td>NaN</td>\n",
       "      <td>NaN</td>\n",
       "      <td>NaN</td>\n",
       "      <td>NaN</td>\n",
       "      <td>NaN</td>\n",
       "    </tr>\n",
       "    <tr>\n",
       "      <th>4</th>\n",
       "      <td>9</td>\n",
       "      <td>0</td>\n",
       "      <td>09:40:15</td>\n",
       "      <td>0</td>\n",
       "      <td>1</td>\n",
       "      <td>1</td>\n",
       "      <td>1</td>\n",
       "      <td>1</td>\n",
       "      <td>0</td>\n",
       "      <td>9</td>\n",
       "      <td>...</td>\n",
       "      <td>NaN</td>\n",
       "      <td>NaN</td>\n",
       "      <td>NaN</td>\n",
       "      <td>NaN</td>\n",
       "      <td>NaN</td>\n",
       "      <td>NaN</td>\n",
       "      <td>NaN</td>\n",
       "      <td>NaN</td>\n",
       "      <td>NaN</td>\n",
       "      <td>NaN</td>\n",
       "    </tr>\n",
       "    <tr>\n",
       "      <th>...</th>\n",
       "      <td>...</td>\n",
       "      <td>...</td>\n",
       "      <td>...</td>\n",
       "      <td>...</td>\n",
       "      <td>...</td>\n",
       "      <td>...</td>\n",
       "      <td>...</td>\n",
       "      <td>...</td>\n",
       "      <td>...</td>\n",
       "      <td>...</td>\n",
       "      <td>...</td>\n",
       "      <td>...</td>\n",
       "      <td>...</td>\n",
       "      <td>...</td>\n",
       "      <td>...</td>\n",
       "      <td>...</td>\n",
       "      <td>...</td>\n",
       "      <td>...</td>\n",
       "      <td>...</td>\n",
       "      <td>...</td>\n",
       "      <td>...</td>\n",
       "    </tr>\n",
       "    <tr>\n",
       "      <th>83953</th>\n",
       "      <td>9</td>\n",
       "      <td>20</td>\n",
       "      <td>14:49:45</td>\n",
       "      <td>1</td>\n",
       "      <td>1</td>\n",
       "      <td>1</td>\n",
       "      <td>1</td>\n",
       "      <td>0</td>\n",
       "      <td>7</td>\n",
       "      <td>14</td>\n",
       "      <td>...</td>\n",
       "      <td>NaN</td>\n",
       "      <td>NaN</td>\n",
       "      <td>NaN</td>\n",
       "      <td>NaN</td>\n",
       "      <td>NaN</td>\n",
       "      <td>NaN</td>\n",
       "      <td>NaN</td>\n",
       "      <td>NaN</td>\n",
       "      <td>NaN</td>\n",
       "      <td>NaN</td>\n",
       "    </tr>\n",
       "    <tr>\n",
       "      <th>83954</th>\n",
       "      <td>9</td>\n",
       "      <td>20</td>\n",
       "      <td>14:49:48</td>\n",
       "      <td>1</td>\n",
       "      <td>1</td>\n",
       "      <td>1</td>\n",
       "      <td>1</td>\n",
       "      <td>0</td>\n",
       "      <td>7</td>\n",
       "      <td>14</td>\n",
       "      <td>...</td>\n",
       "      <td>NaN</td>\n",
       "      <td>NaN</td>\n",
       "      <td>NaN</td>\n",
       "      <td>NaN</td>\n",
       "      <td>NaN</td>\n",
       "      <td>NaN</td>\n",
       "      <td>NaN</td>\n",
       "      <td>NaN</td>\n",
       "      <td>NaN</td>\n",
       "      <td>NaN</td>\n",
       "    </tr>\n",
       "    <tr>\n",
       "      <th>83955</th>\n",
       "      <td>9</td>\n",
       "      <td>20</td>\n",
       "      <td>14:49:51</td>\n",
       "      <td>1</td>\n",
       "      <td>1</td>\n",
       "      <td>1</td>\n",
       "      <td>1</td>\n",
       "      <td>0</td>\n",
       "      <td>7</td>\n",
       "      <td>14</td>\n",
       "      <td>...</td>\n",
       "      <td>NaN</td>\n",
       "      <td>NaN</td>\n",
       "      <td>NaN</td>\n",
       "      <td>NaN</td>\n",
       "      <td>NaN</td>\n",
       "      <td>NaN</td>\n",
       "      <td>NaN</td>\n",
       "      <td>NaN</td>\n",
       "      <td>NaN</td>\n",
       "      <td>NaN</td>\n",
       "    </tr>\n",
       "    <tr>\n",
       "      <th>83956</th>\n",
       "      <td>9</td>\n",
       "      <td>20</td>\n",
       "      <td>14:49:54</td>\n",
       "      <td>1</td>\n",
       "      <td>1</td>\n",
       "      <td>1</td>\n",
       "      <td>1</td>\n",
       "      <td>0</td>\n",
       "      <td>7</td>\n",
       "      <td>14</td>\n",
       "      <td>...</td>\n",
       "      <td>NaN</td>\n",
       "      <td>NaN</td>\n",
       "      <td>NaN</td>\n",
       "      <td>NaN</td>\n",
       "      <td>NaN</td>\n",
       "      <td>NaN</td>\n",
       "      <td>NaN</td>\n",
       "      <td>NaN</td>\n",
       "      <td>NaN</td>\n",
       "      <td>NaN</td>\n",
       "    </tr>\n",
       "    <tr>\n",
       "      <th>83957</th>\n",
       "      <td>9</td>\n",
       "      <td>20</td>\n",
       "      <td>14:49:57</td>\n",
       "      <td>1</td>\n",
       "      <td>1</td>\n",
       "      <td>1</td>\n",
       "      <td>1</td>\n",
       "      <td>0</td>\n",
       "      <td>7</td>\n",
       "      <td>14</td>\n",
       "      <td>...</td>\n",
       "      <td>NaN</td>\n",
       "      <td>NaN</td>\n",
       "      <td>NaN</td>\n",
       "      <td>NaN</td>\n",
       "      <td>NaN</td>\n",
       "      <td>NaN</td>\n",
       "      <td>NaN</td>\n",
       "      <td>NaN</td>\n",
       "      <td>NaN</td>\n",
       "      <td>NaN</td>\n",
       "    </tr>\n",
       "  </tbody>\n",
       "</table>\n",
       "<p>83958 rows × 3540 columns</p>\n",
       "</div>"
      ],
      "text/plain": [
       "       sym  date      time  label_5  label_10  label_20  label_40  label_60  \\\n",
       "0        9     0  09:40:03        1         1         1         1         1   \n",
       "1        9     0  09:40:06        1         1         1         1         1   \n",
       "2        9     0  09:40:09        2         2         1         2         1   \n",
       "3        9     0  09:40:12        0         1         1         1         1   \n",
       "4        9     0  09:40:15        0         1         1         1         1   \n",
       "...    ...   ...       ...      ...       ...       ...       ...       ...   \n",
       "83953    9    20  14:49:45        1         1         1         1         0   \n",
       "83954    9    20  14:49:48        1         1         1         1         0   \n",
       "83955    9    20  14:49:51        1         1         1         1         0   \n",
       "83956    9    20  14:49:54        1         1         1         1         0   \n",
       "83957    9    20  14:49:57        1         1         1         1         0   \n",
       "\n",
       "       timeEncoding  hour  ...  mpc40_std40  mpc40_max40  mpc40_min40  \\\n",
       "0                 0     9  ...          NaN          NaN          NaN   \n",
       "1                 0     9  ...          NaN          NaN          NaN   \n",
       "2                 0     9  ...          NaN          NaN          NaN   \n",
       "3                 0     9  ...          NaN          NaN          NaN   \n",
       "4                 0     9  ...          NaN          NaN          NaN   \n",
       "...             ...   ...  ...          ...          ...          ...   \n",
       "83953             7    14  ...          NaN          NaN          NaN   \n",
       "83954             7    14  ...          NaN          NaN          NaN   \n",
       "83955             7    14  ...          NaN          NaN          NaN   \n",
       "83956             7    14  ...          NaN          NaN          NaN   \n",
       "83957             7    14  ...          NaN          NaN          NaN   \n",
       "\n",
       "       mpc40_skew40  mpc40_kurt40  mpc40_qtlu40  mpc40_qtld40  mpc40_rank40  \\\n",
       "0               NaN           NaN           NaN           NaN           NaN   \n",
       "1               NaN           NaN           NaN           NaN           NaN   \n",
       "2               NaN           NaN           NaN           NaN           NaN   \n",
       "3               NaN           NaN           NaN           NaN           NaN   \n",
       "4               NaN           NaN           NaN           NaN           NaN   \n",
       "...             ...           ...           ...           ...           ...   \n",
       "83953           NaN           NaN           NaN           NaN           NaN   \n",
       "83954           NaN           NaN           NaN           NaN           NaN   \n",
       "83955           NaN           NaN           NaN           NaN           NaN   \n",
       "83956           NaN           NaN           NaN           NaN           NaN   \n",
       "83957           NaN           NaN           NaN           NaN           NaN   \n",
       "\n",
       "       mpc40_imax40  mpc40_imin40  \n",
       "0               NaN           NaN  \n",
       "1               NaN           NaN  \n",
       "2               NaN           NaN  \n",
       "3               NaN           NaN  \n",
       "4               NaN           NaN  \n",
       "...             ...           ...  \n",
       "83953           NaN           NaN  \n",
       "83954           NaN           NaN  \n",
       "83955           NaN           NaN  \n",
       "83956           NaN           NaN  \n",
       "83957           NaN           NaN  \n",
       "\n",
       "[83958 rows x 3540 columns]"
      ]
     },
     "execution_count": 73,
     "metadata": {},
     "output_type": "execute_result"
    }
   ],
   "source": [
    "sym0_date0_20"
   ]
  },
  {
   "cell_type": "code",
   "execution_count": null,
   "id": "96c938e9",
   "metadata": {},
   "outputs": [],
   "source": []
  },
  {
   "cell_type": "code",
   "execution_count": 75,
   "id": "69604ce0",
   "metadata": {
    "ExecuteTime": {
     "end_time": "2023-08-01T05:30:16.477296Z",
     "start_time": "2023-08-01T05:30:14.744000Z"
    }
   },
   "outputs": [],
   "source": [
    "sym0_date21_40 = df_train_tmp_1[(df_train_tmp_1['sym']==9) & (df_train_tmp_1['date']<=40) & (df_train_tmp_1['date']>20)]"
   ]
  },
  {
   "cell_type": "code",
   "execution_count": 76,
   "id": "4e2d5416",
   "metadata": {
    "ExecuteTime": {
     "end_time": "2023-08-01T05:30:16.492971Z",
     "start_time": "2023-08-01T05:30:16.477296Z"
    }
   },
   "outputs": [],
   "source": [
    "sym0_date21_40.reset_index(drop=True, inplace=True)"
   ]
  },
  {
   "cell_type": "code",
   "execution_count": 78,
   "id": "8df7f126",
   "metadata": {
    "ExecuteTime": {
     "end_time": "2023-08-01T05:30:26.591218Z",
     "start_time": "2023-08-01T05:30:16.536498Z"
    }
   },
   "outputs": [],
   "source": [
    "sym0_date21_40.to_parquet(f'./feature_data_f32/40/sym9_date21_40.parquet')"
   ]
  },
  {
   "cell_type": "code",
   "execution_count": 77,
   "id": "6259a735",
   "metadata": {
    "ExecuteTime": {
     "end_time": "2023-08-01T05:30:16.535499Z",
     "start_time": "2023-08-01T05:30:16.492971Z"
    }
   },
   "outputs": [
    {
     "data": {
      "text/html": [
       "<div>\n",
       "<style scoped>\n",
       "    .dataframe tbody tr th:only-of-type {\n",
       "        vertical-align: middle;\n",
       "    }\n",
       "\n",
       "    .dataframe tbody tr th {\n",
       "        vertical-align: top;\n",
       "    }\n",
       "\n",
       "    .dataframe thead th {\n",
       "        text-align: right;\n",
       "    }\n",
       "</style>\n",
       "<table border=\"1\" class=\"dataframe\">\n",
       "  <thead>\n",
       "    <tr style=\"text-align: right;\">\n",
       "      <th></th>\n",
       "      <th>sym</th>\n",
       "      <th>date</th>\n",
       "      <th>time</th>\n",
       "      <th>label_5</th>\n",
       "      <th>label_10</th>\n",
       "      <th>label_20</th>\n",
       "      <th>label_40</th>\n",
       "      <th>label_60</th>\n",
       "      <th>timeEncoding</th>\n",
       "      <th>hour</th>\n",
       "      <th>...</th>\n",
       "      <th>mpc40_std40</th>\n",
       "      <th>mpc40_max40</th>\n",
       "      <th>mpc40_min40</th>\n",
       "      <th>mpc40_skew40</th>\n",
       "      <th>mpc40_kurt40</th>\n",
       "      <th>mpc40_qtlu40</th>\n",
       "      <th>mpc40_qtld40</th>\n",
       "      <th>mpc40_rank40</th>\n",
       "      <th>mpc40_imax40</th>\n",
       "      <th>mpc40_imin40</th>\n",
       "    </tr>\n",
       "  </thead>\n",
       "  <tbody>\n",
       "    <tr>\n",
       "      <th>0</th>\n",
       "      <td>9</td>\n",
       "      <td>21</td>\n",
       "      <td>09:40:03</td>\n",
       "      <td>0</td>\n",
       "      <td>0</td>\n",
       "      <td>0</td>\n",
       "      <td>0</td>\n",
       "      <td>0</td>\n",
       "      <td>0</td>\n",
       "      <td>9</td>\n",
       "      <td>...</td>\n",
       "      <td>NaN</td>\n",
       "      <td>NaN</td>\n",
       "      <td>NaN</td>\n",
       "      <td>NaN</td>\n",
       "      <td>NaN</td>\n",
       "      <td>NaN</td>\n",
       "      <td>NaN</td>\n",
       "      <td>NaN</td>\n",
       "      <td>NaN</td>\n",
       "      <td>NaN</td>\n",
       "    </tr>\n",
       "    <tr>\n",
       "      <th>1</th>\n",
       "      <td>9</td>\n",
       "      <td>21</td>\n",
       "      <td>09:40:06</td>\n",
       "      <td>1</td>\n",
       "      <td>1</td>\n",
       "      <td>1</td>\n",
       "      <td>1</td>\n",
       "      <td>0</td>\n",
       "      <td>0</td>\n",
       "      <td>9</td>\n",
       "      <td>...</td>\n",
       "      <td>NaN</td>\n",
       "      <td>NaN</td>\n",
       "      <td>NaN</td>\n",
       "      <td>NaN</td>\n",
       "      <td>NaN</td>\n",
       "      <td>NaN</td>\n",
       "      <td>NaN</td>\n",
       "      <td>NaN</td>\n",
       "      <td>NaN</td>\n",
       "      <td>NaN</td>\n",
       "    </tr>\n",
       "    <tr>\n",
       "      <th>2</th>\n",
       "      <td>9</td>\n",
       "      <td>21</td>\n",
       "      <td>09:40:09</td>\n",
       "      <td>1</td>\n",
       "      <td>1</td>\n",
       "      <td>1</td>\n",
       "      <td>1</td>\n",
       "      <td>0</td>\n",
       "      <td>0</td>\n",
       "      <td>9</td>\n",
       "      <td>...</td>\n",
       "      <td>NaN</td>\n",
       "      <td>NaN</td>\n",
       "      <td>NaN</td>\n",
       "      <td>NaN</td>\n",
       "      <td>NaN</td>\n",
       "      <td>NaN</td>\n",
       "      <td>NaN</td>\n",
       "      <td>NaN</td>\n",
       "      <td>NaN</td>\n",
       "      <td>NaN</td>\n",
       "    </tr>\n",
       "    <tr>\n",
       "      <th>3</th>\n",
       "      <td>9</td>\n",
       "      <td>21</td>\n",
       "      <td>09:40:12</td>\n",
       "      <td>1</td>\n",
       "      <td>1</td>\n",
       "      <td>1</td>\n",
       "      <td>1</td>\n",
       "      <td>1</td>\n",
       "      <td>0</td>\n",
       "      <td>9</td>\n",
       "      <td>...</td>\n",
       "      <td>NaN</td>\n",
       "      <td>NaN</td>\n",
       "      <td>NaN</td>\n",
       "      <td>NaN</td>\n",
       "      <td>NaN</td>\n",
       "      <td>NaN</td>\n",
       "      <td>NaN</td>\n",
       "      <td>NaN</td>\n",
       "      <td>NaN</td>\n",
       "      <td>NaN</td>\n",
       "    </tr>\n",
       "    <tr>\n",
       "      <th>4</th>\n",
       "      <td>9</td>\n",
       "      <td>21</td>\n",
       "      <td>09:40:15</td>\n",
       "      <td>1</td>\n",
       "      <td>1</td>\n",
       "      <td>1</td>\n",
       "      <td>1</td>\n",
       "      <td>1</td>\n",
       "      <td>0</td>\n",
       "      <td>9</td>\n",
       "      <td>...</td>\n",
       "      <td>NaN</td>\n",
       "      <td>NaN</td>\n",
       "      <td>NaN</td>\n",
       "      <td>NaN</td>\n",
       "      <td>NaN</td>\n",
       "      <td>NaN</td>\n",
       "      <td>NaN</td>\n",
       "      <td>NaN</td>\n",
       "      <td>NaN</td>\n",
       "      <td>NaN</td>\n",
       "    </tr>\n",
       "    <tr>\n",
       "      <th>...</th>\n",
       "      <td>...</td>\n",
       "      <td>...</td>\n",
       "      <td>...</td>\n",
       "      <td>...</td>\n",
       "      <td>...</td>\n",
       "      <td>...</td>\n",
       "      <td>...</td>\n",
       "      <td>...</td>\n",
       "      <td>...</td>\n",
       "      <td>...</td>\n",
       "      <td>...</td>\n",
       "      <td>...</td>\n",
       "      <td>...</td>\n",
       "      <td>...</td>\n",
       "      <td>...</td>\n",
       "      <td>...</td>\n",
       "      <td>...</td>\n",
       "      <td>...</td>\n",
       "      <td>...</td>\n",
       "      <td>...</td>\n",
       "      <td>...</td>\n",
       "    </tr>\n",
       "    <tr>\n",
       "      <th>79955</th>\n",
       "      <td>9</td>\n",
       "      <td>40</td>\n",
       "      <td>14:49:45</td>\n",
       "      <td>1</td>\n",
       "      <td>1</td>\n",
       "      <td>1</td>\n",
       "      <td>1</td>\n",
       "      <td>0</td>\n",
       "      <td>7</td>\n",
       "      <td>14</td>\n",
       "      <td>...</td>\n",
       "      <td>NaN</td>\n",
       "      <td>NaN</td>\n",
       "      <td>NaN</td>\n",
       "      <td>NaN</td>\n",
       "      <td>NaN</td>\n",
       "      <td>NaN</td>\n",
       "      <td>NaN</td>\n",
       "      <td>NaN</td>\n",
       "      <td>NaN</td>\n",
       "      <td>NaN</td>\n",
       "    </tr>\n",
       "    <tr>\n",
       "      <th>79956</th>\n",
       "      <td>9</td>\n",
       "      <td>40</td>\n",
       "      <td>14:49:48</td>\n",
       "      <td>1</td>\n",
       "      <td>1</td>\n",
       "      <td>1</td>\n",
       "      <td>1</td>\n",
       "      <td>0</td>\n",
       "      <td>7</td>\n",
       "      <td>14</td>\n",
       "      <td>...</td>\n",
       "      <td>NaN</td>\n",
       "      <td>NaN</td>\n",
       "      <td>NaN</td>\n",
       "      <td>NaN</td>\n",
       "      <td>NaN</td>\n",
       "      <td>NaN</td>\n",
       "      <td>NaN</td>\n",
       "      <td>NaN</td>\n",
       "      <td>NaN</td>\n",
       "      <td>NaN</td>\n",
       "    </tr>\n",
       "    <tr>\n",
       "      <th>79957</th>\n",
       "      <td>9</td>\n",
       "      <td>40</td>\n",
       "      <td>14:49:51</td>\n",
       "      <td>1</td>\n",
       "      <td>1</td>\n",
       "      <td>1</td>\n",
       "      <td>1</td>\n",
       "      <td>0</td>\n",
       "      <td>7</td>\n",
       "      <td>14</td>\n",
       "      <td>...</td>\n",
       "      <td>NaN</td>\n",
       "      <td>NaN</td>\n",
       "      <td>NaN</td>\n",
       "      <td>NaN</td>\n",
       "      <td>NaN</td>\n",
       "      <td>NaN</td>\n",
       "      <td>NaN</td>\n",
       "      <td>NaN</td>\n",
       "      <td>NaN</td>\n",
       "      <td>NaN</td>\n",
       "    </tr>\n",
       "    <tr>\n",
       "      <th>79958</th>\n",
       "      <td>9</td>\n",
       "      <td>40</td>\n",
       "      <td>14:49:54</td>\n",
       "      <td>1</td>\n",
       "      <td>1</td>\n",
       "      <td>1</td>\n",
       "      <td>1</td>\n",
       "      <td>0</td>\n",
       "      <td>7</td>\n",
       "      <td>14</td>\n",
       "      <td>...</td>\n",
       "      <td>NaN</td>\n",
       "      <td>NaN</td>\n",
       "      <td>NaN</td>\n",
       "      <td>NaN</td>\n",
       "      <td>NaN</td>\n",
       "      <td>NaN</td>\n",
       "      <td>NaN</td>\n",
       "      <td>NaN</td>\n",
       "      <td>NaN</td>\n",
       "      <td>NaN</td>\n",
       "    </tr>\n",
       "    <tr>\n",
       "      <th>79959</th>\n",
       "      <td>9</td>\n",
       "      <td>40</td>\n",
       "      <td>14:49:57</td>\n",
       "      <td>1</td>\n",
       "      <td>1</td>\n",
       "      <td>1</td>\n",
       "      <td>1</td>\n",
       "      <td>0</td>\n",
       "      <td>7</td>\n",
       "      <td>14</td>\n",
       "      <td>...</td>\n",
       "      <td>NaN</td>\n",
       "      <td>NaN</td>\n",
       "      <td>NaN</td>\n",
       "      <td>NaN</td>\n",
       "      <td>NaN</td>\n",
       "      <td>NaN</td>\n",
       "      <td>NaN</td>\n",
       "      <td>NaN</td>\n",
       "      <td>NaN</td>\n",
       "      <td>NaN</td>\n",
       "    </tr>\n",
       "  </tbody>\n",
       "</table>\n",
       "<p>79960 rows × 3540 columns</p>\n",
       "</div>"
      ],
      "text/plain": [
       "       sym  date      time  label_5  label_10  label_20  label_40  label_60  \\\n",
       "0        9    21  09:40:03        0         0         0         0         0   \n",
       "1        9    21  09:40:06        1         1         1         1         0   \n",
       "2        9    21  09:40:09        1         1         1         1         0   \n",
       "3        9    21  09:40:12        1         1         1         1         1   \n",
       "4        9    21  09:40:15        1         1         1         1         1   \n",
       "...    ...   ...       ...      ...       ...       ...       ...       ...   \n",
       "79955    9    40  14:49:45        1         1         1         1         0   \n",
       "79956    9    40  14:49:48        1         1         1         1         0   \n",
       "79957    9    40  14:49:51        1         1         1         1         0   \n",
       "79958    9    40  14:49:54        1         1         1         1         0   \n",
       "79959    9    40  14:49:57        1         1         1         1         0   \n",
       "\n",
       "       timeEncoding  hour  ...  mpc40_std40  mpc40_max40  mpc40_min40  \\\n",
       "0                 0     9  ...          NaN          NaN          NaN   \n",
       "1                 0     9  ...          NaN          NaN          NaN   \n",
       "2                 0     9  ...          NaN          NaN          NaN   \n",
       "3                 0     9  ...          NaN          NaN          NaN   \n",
       "4                 0     9  ...          NaN          NaN          NaN   \n",
       "...             ...   ...  ...          ...          ...          ...   \n",
       "79955             7    14  ...          NaN          NaN          NaN   \n",
       "79956             7    14  ...          NaN          NaN          NaN   \n",
       "79957             7    14  ...          NaN          NaN          NaN   \n",
       "79958             7    14  ...          NaN          NaN          NaN   \n",
       "79959             7    14  ...          NaN          NaN          NaN   \n",
       "\n",
       "       mpc40_skew40  mpc40_kurt40  mpc40_qtlu40  mpc40_qtld40  mpc40_rank40  \\\n",
       "0               NaN           NaN           NaN           NaN           NaN   \n",
       "1               NaN           NaN           NaN           NaN           NaN   \n",
       "2               NaN           NaN           NaN           NaN           NaN   \n",
       "3               NaN           NaN           NaN           NaN           NaN   \n",
       "4               NaN           NaN           NaN           NaN           NaN   \n",
       "...             ...           ...           ...           ...           ...   \n",
       "79955           NaN           NaN           NaN           NaN           NaN   \n",
       "79956           NaN           NaN           NaN           NaN           NaN   \n",
       "79957           NaN           NaN           NaN           NaN           NaN   \n",
       "79958           NaN           NaN           NaN           NaN           NaN   \n",
       "79959           NaN           NaN           NaN           NaN           NaN   \n",
       "\n",
       "       mpc40_imax40  mpc40_imin40  \n",
       "0               NaN           NaN  \n",
       "1               NaN           NaN  \n",
       "2               NaN           NaN  \n",
       "3               NaN           NaN  \n",
       "4               NaN           NaN  \n",
       "...             ...           ...  \n",
       "79955           NaN           NaN  \n",
       "79956           NaN           NaN  \n",
       "79957           NaN           NaN  \n",
       "79958           NaN           NaN  \n",
       "79959           NaN           NaN  \n",
       "\n",
       "[79960 rows x 3540 columns]"
      ]
     },
     "execution_count": 77,
     "metadata": {},
     "output_type": "execute_result"
    }
   ],
   "source": [
    "sym0_date21_40"
   ]
  },
  {
   "cell_type": "code",
   "execution_count": 79,
   "id": "92a29cd7",
   "metadata": {
    "ExecuteTime": {
     "end_time": "2023-08-01T05:30:30.359783Z",
     "start_time": "2023-08-01T05:30:26.591962Z"
    }
   },
   "outputs": [],
   "source": [
    "sym0_date41_63 = df_train_tmp_1[(df_train_tmp_1['sym']==9) & (df_train_tmp_1['date']<=63) & (df_train_tmp_1['date']>40)]"
   ]
  },
  {
   "cell_type": "code",
   "execution_count": 80,
   "id": "e0981993",
   "metadata": {
    "ExecuteTime": {
     "end_time": "2023-08-01T05:30:30.369809Z",
     "start_time": "2023-08-01T05:30:30.360925Z"
    }
   },
   "outputs": [],
   "source": [
    "sym0_date41_63.reset_index(drop=True, inplace=True)"
   ]
  },
  {
   "cell_type": "code",
   "execution_count": 81,
   "id": "0dfc44c2",
   "metadata": {
    "ExecuteTime": {
     "end_time": "2023-08-01T05:30:41.207079Z",
     "start_time": "2023-08-01T05:30:30.369809Z"
    }
   },
   "outputs": [],
   "source": [
    "sym0_date41_63.to_parquet(f'./feature_data_f32/63/sym9_date41_63.parquet')"
   ]
  },
  {
   "cell_type": "code",
   "execution_count": 82,
   "id": "da8ae0b6",
   "metadata": {
    "ExecuteTime": {
     "end_time": "2023-08-01T05:30:41.236964Z",
     "start_time": "2023-08-01T05:30:41.207079Z"
    }
   },
   "outputs": [
    {
     "data": {
      "text/html": [
       "<div>\n",
       "<style scoped>\n",
       "    .dataframe tbody tr th:only-of-type {\n",
       "        vertical-align: middle;\n",
       "    }\n",
       "\n",
       "    .dataframe tbody tr th {\n",
       "        vertical-align: top;\n",
       "    }\n",
       "\n",
       "    .dataframe thead th {\n",
       "        text-align: right;\n",
       "    }\n",
       "</style>\n",
       "<table border=\"1\" class=\"dataframe\">\n",
       "  <thead>\n",
       "    <tr style=\"text-align: right;\">\n",
       "      <th></th>\n",
       "      <th>sym</th>\n",
       "      <th>date</th>\n",
       "      <th>time</th>\n",
       "      <th>label_5</th>\n",
       "      <th>label_10</th>\n",
       "      <th>label_20</th>\n",
       "      <th>label_40</th>\n",
       "      <th>label_60</th>\n",
       "      <th>timeEncoding</th>\n",
       "      <th>hour</th>\n",
       "      <th>...</th>\n",
       "      <th>mpc40_std40</th>\n",
       "      <th>mpc40_max40</th>\n",
       "      <th>mpc40_min40</th>\n",
       "      <th>mpc40_skew40</th>\n",
       "      <th>mpc40_kurt40</th>\n",
       "      <th>mpc40_qtlu40</th>\n",
       "      <th>mpc40_qtld40</th>\n",
       "      <th>mpc40_rank40</th>\n",
       "      <th>mpc40_imax40</th>\n",
       "      <th>mpc40_imin40</th>\n",
       "    </tr>\n",
       "  </thead>\n",
       "  <tbody>\n",
       "    <tr>\n",
       "      <th>0</th>\n",
       "      <td>9</td>\n",
       "      <td>41</td>\n",
       "      <td>09:40:03</td>\n",
       "      <td>0</td>\n",
       "      <td>0</td>\n",
       "      <td>0</td>\n",
       "      <td>0</td>\n",
       "      <td>0</td>\n",
       "      <td>0</td>\n",
       "      <td>9</td>\n",
       "      <td>...</td>\n",
       "      <td>NaN</td>\n",
       "      <td>NaN</td>\n",
       "      <td>NaN</td>\n",
       "      <td>NaN</td>\n",
       "      <td>NaN</td>\n",
       "      <td>NaN</td>\n",
       "      <td>NaN</td>\n",
       "      <td>NaN</td>\n",
       "      <td>NaN</td>\n",
       "      <td>NaN</td>\n",
       "    </tr>\n",
       "    <tr>\n",
       "      <th>1</th>\n",
       "      <td>9</td>\n",
       "      <td>41</td>\n",
       "      <td>09:40:06</td>\n",
       "      <td>1</td>\n",
       "      <td>0</td>\n",
       "      <td>0</td>\n",
       "      <td>0</td>\n",
       "      <td>0</td>\n",
       "      <td>0</td>\n",
       "      <td>9</td>\n",
       "      <td>...</td>\n",
       "      <td>NaN</td>\n",
       "      <td>NaN</td>\n",
       "      <td>NaN</td>\n",
       "      <td>NaN</td>\n",
       "      <td>NaN</td>\n",
       "      <td>NaN</td>\n",
       "      <td>NaN</td>\n",
       "      <td>NaN</td>\n",
       "      <td>NaN</td>\n",
       "      <td>NaN</td>\n",
       "    </tr>\n",
       "    <tr>\n",
       "      <th>2</th>\n",
       "      <td>9</td>\n",
       "      <td>41</td>\n",
       "      <td>09:40:09</td>\n",
       "      <td>1</td>\n",
       "      <td>0</td>\n",
       "      <td>0</td>\n",
       "      <td>0</td>\n",
       "      <td>0</td>\n",
       "      <td>0</td>\n",
       "      <td>9</td>\n",
       "      <td>...</td>\n",
       "      <td>NaN</td>\n",
       "      <td>NaN</td>\n",
       "      <td>NaN</td>\n",
       "      <td>NaN</td>\n",
       "      <td>NaN</td>\n",
       "      <td>NaN</td>\n",
       "      <td>NaN</td>\n",
       "      <td>NaN</td>\n",
       "      <td>NaN</td>\n",
       "      <td>NaN</td>\n",
       "    </tr>\n",
       "    <tr>\n",
       "      <th>3</th>\n",
       "      <td>9</td>\n",
       "      <td>41</td>\n",
       "      <td>09:40:12</td>\n",
       "      <td>0</td>\n",
       "      <td>0</td>\n",
       "      <td>0</td>\n",
       "      <td>0</td>\n",
       "      <td>0</td>\n",
       "      <td>0</td>\n",
       "      <td>9</td>\n",
       "      <td>...</td>\n",
       "      <td>NaN</td>\n",
       "      <td>NaN</td>\n",
       "      <td>NaN</td>\n",
       "      <td>NaN</td>\n",
       "      <td>NaN</td>\n",
       "      <td>NaN</td>\n",
       "      <td>NaN</td>\n",
       "      <td>NaN</td>\n",
       "      <td>NaN</td>\n",
       "      <td>NaN</td>\n",
       "    </tr>\n",
       "    <tr>\n",
       "      <th>4</th>\n",
       "      <td>9</td>\n",
       "      <td>41</td>\n",
       "      <td>09:40:15</td>\n",
       "      <td>1</td>\n",
       "      <td>0</td>\n",
       "      <td>0</td>\n",
       "      <td>0</td>\n",
       "      <td>0</td>\n",
       "      <td>0</td>\n",
       "      <td>9</td>\n",
       "      <td>...</td>\n",
       "      <td>NaN</td>\n",
       "      <td>NaN</td>\n",
       "      <td>NaN</td>\n",
       "      <td>NaN</td>\n",
       "      <td>NaN</td>\n",
       "      <td>NaN</td>\n",
       "      <td>NaN</td>\n",
       "      <td>NaN</td>\n",
       "      <td>NaN</td>\n",
       "      <td>NaN</td>\n",
       "    </tr>\n",
       "    <tr>\n",
       "      <th>...</th>\n",
       "      <td>...</td>\n",
       "      <td>...</td>\n",
       "      <td>...</td>\n",
       "      <td>...</td>\n",
       "      <td>...</td>\n",
       "      <td>...</td>\n",
       "      <td>...</td>\n",
       "      <td>...</td>\n",
       "      <td>...</td>\n",
       "      <td>...</td>\n",
       "      <td>...</td>\n",
       "      <td>...</td>\n",
       "      <td>...</td>\n",
       "      <td>...</td>\n",
       "      <td>...</td>\n",
       "      <td>...</td>\n",
       "      <td>...</td>\n",
       "      <td>...</td>\n",
       "      <td>...</td>\n",
       "      <td>...</td>\n",
       "      <td>...</td>\n",
       "    </tr>\n",
       "    <tr>\n",
       "      <th>91949</th>\n",
       "      <td>9</td>\n",
       "      <td>63</td>\n",
       "      <td>14:49:45</td>\n",
       "      <td>1</td>\n",
       "      <td>1</td>\n",
       "      <td>1</td>\n",
       "      <td>1</td>\n",
       "      <td>1</td>\n",
       "      <td>7</td>\n",
       "      <td>14</td>\n",
       "      <td>...</td>\n",
       "      <td>0.046088</td>\n",
       "      <td>0.194175</td>\n",
       "      <td>0.034783</td>\n",
       "      <td>-0.213406</td>\n",
       "      <td>-0.849698</td>\n",
       "      <td>0.154228</td>\n",
       "      <td>0.069565</td>\n",
       "      <td>0.3500</td>\n",
       "      <td>0.775</td>\n",
       "      <td>0.225</td>\n",
       "    </tr>\n",
       "    <tr>\n",
       "      <th>91950</th>\n",
       "      <td>9</td>\n",
       "      <td>63</td>\n",
       "      <td>14:49:48</td>\n",
       "      <td>1</td>\n",
       "      <td>1</td>\n",
       "      <td>1</td>\n",
       "      <td>1</td>\n",
       "      <td>1</td>\n",
       "      <td>7</td>\n",
       "      <td>14</td>\n",
       "      <td>...</td>\n",
       "      <td>0.045641</td>\n",
       "      <td>0.194175</td>\n",
       "      <td>0.034783</td>\n",
       "      <td>-0.142536</td>\n",
       "      <td>-0.801970</td>\n",
       "      <td>0.150476</td>\n",
       "      <td>0.069565</td>\n",
       "      <td>0.3625</td>\n",
       "      <td>0.800</td>\n",
       "      <td>0.250</td>\n",
       "    </tr>\n",
       "    <tr>\n",
       "      <th>91951</th>\n",
       "      <td>9</td>\n",
       "      <td>63</td>\n",
       "      <td>14:49:51</td>\n",
       "      <td>1</td>\n",
       "      <td>1</td>\n",
       "      <td>1</td>\n",
       "      <td>1</td>\n",
       "      <td>1</td>\n",
       "      <td>7</td>\n",
       "      <td>14</td>\n",
       "      <td>...</td>\n",
       "      <td>0.045355</td>\n",
       "      <td>0.194175</td>\n",
       "      <td>0.034783</td>\n",
       "      <td>-0.105250</td>\n",
       "      <td>-0.755982</td>\n",
       "      <td>0.148123</td>\n",
       "      <td>0.069565</td>\n",
       "      <td>0.4500</td>\n",
       "      <td>0.825</td>\n",
       "      <td>0.275</td>\n",
       "    </tr>\n",
       "    <tr>\n",
       "      <th>91952</th>\n",
       "      <td>9</td>\n",
       "      <td>63</td>\n",
       "      <td>14:49:54</td>\n",
       "      <td>1</td>\n",
       "      <td>1</td>\n",
       "      <td>1</td>\n",
       "      <td>1</td>\n",
       "      <td>1</td>\n",
       "      <td>7</td>\n",
       "      <td>14</td>\n",
       "      <td>...</td>\n",
       "      <td>0.045232</td>\n",
       "      <td>0.194175</td>\n",
       "      <td>0.034783</td>\n",
       "      <td>-0.064218</td>\n",
       "      <td>-0.735427</td>\n",
       "      <td>0.148123</td>\n",
       "      <td>0.069565</td>\n",
       "      <td>0.4500</td>\n",
       "      <td>0.850</td>\n",
       "      <td>0.300</td>\n",
       "    </tr>\n",
       "    <tr>\n",
       "      <th>91953</th>\n",
       "      <td>9</td>\n",
       "      <td>63</td>\n",
       "      <td>14:49:57</td>\n",
       "      <td>1</td>\n",
       "      <td>1</td>\n",
       "      <td>1</td>\n",
       "      <td>1</td>\n",
       "      <td>1</td>\n",
       "      <td>7</td>\n",
       "      <td>14</td>\n",
       "      <td>...</td>\n",
       "      <td>0.044454</td>\n",
       "      <td>0.194175</td>\n",
       "      <td>0.034783</td>\n",
       "      <td>0.005403</td>\n",
       "      <td>-0.624586</td>\n",
       "      <td>0.138150</td>\n",
       "      <td>0.069565</td>\n",
       "      <td>0.3500</td>\n",
       "      <td>0.875</td>\n",
       "      <td>0.325</td>\n",
       "    </tr>\n",
       "  </tbody>\n",
       "</table>\n",
       "<p>91954 rows × 3540 columns</p>\n",
       "</div>"
      ],
      "text/plain": [
       "       sym  date      time  label_5  label_10  label_20  label_40  label_60  \\\n",
       "0        9    41  09:40:03        0         0         0         0         0   \n",
       "1        9    41  09:40:06        1         0         0         0         0   \n",
       "2        9    41  09:40:09        1         0         0         0         0   \n",
       "3        9    41  09:40:12        0         0         0         0         0   \n",
       "4        9    41  09:40:15        1         0         0         0         0   \n",
       "...    ...   ...       ...      ...       ...       ...       ...       ...   \n",
       "91949    9    63  14:49:45        1         1         1         1         1   \n",
       "91950    9    63  14:49:48        1         1         1         1         1   \n",
       "91951    9    63  14:49:51        1         1         1         1         1   \n",
       "91952    9    63  14:49:54        1         1         1         1         1   \n",
       "91953    9    63  14:49:57        1         1         1         1         1   \n",
       "\n",
       "       timeEncoding  hour  ...  mpc40_std40  mpc40_max40  mpc40_min40  \\\n",
       "0                 0     9  ...          NaN          NaN          NaN   \n",
       "1                 0     9  ...          NaN          NaN          NaN   \n",
       "2                 0     9  ...          NaN          NaN          NaN   \n",
       "3                 0     9  ...          NaN          NaN          NaN   \n",
       "4                 0     9  ...          NaN          NaN          NaN   \n",
       "...             ...   ...  ...          ...          ...          ...   \n",
       "91949             7    14  ...     0.046088     0.194175     0.034783   \n",
       "91950             7    14  ...     0.045641     0.194175     0.034783   \n",
       "91951             7    14  ...     0.045355     0.194175     0.034783   \n",
       "91952             7    14  ...     0.045232     0.194175     0.034783   \n",
       "91953             7    14  ...     0.044454     0.194175     0.034783   \n",
       "\n",
       "       mpc40_skew40  mpc40_kurt40  mpc40_qtlu40  mpc40_qtld40  mpc40_rank40  \\\n",
       "0               NaN           NaN           NaN           NaN           NaN   \n",
       "1               NaN           NaN           NaN           NaN           NaN   \n",
       "2               NaN           NaN           NaN           NaN           NaN   \n",
       "3               NaN           NaN           NaN           NaN           NaN   \n",
       "4               NaN           NaN           NaN           NaN           NaN   \n",
       "...             ...           ...           ...           ...           ...   \n",
       "91949     -0.213406     -0.849698      0.154228      0.069565        0.3500   \n",
       "91950     -0.142536     -0.801970      0.150476      0.069565        0.3625   \n",
       "91951     -0.105250     -0.755982      0.148123      0.069565        0.4500   \n",
       "91952     -0.064218     -0.735427      0.148123      0.069565        0.4500   \n",
       "91953      0.005403     -0.624586      0.138150      0.069565        0.3500   \n",
       "\n",
       "       mpc40_imax40  mpc40_imin40  \n",
       "0               NaN           NaN  \n",
       "1               NaN           NaN  \n",
       "2               NaN           NaN  \n",
       "3               NaN           NaN  \n",
       "4               NaN           NaN  \n",
       "...             ...           ...  \n",
       "91949         0.775         0.225  \n",
       "91950         0.800         0.250  \n",
       "91951         0.825         0.275  \n",
       "91952         0.850         0.300  \n",
       "91953         0.875         0.325  \n",
       "\n",
       "[91954 rows x 3540 columns]"
      ]
     },
     "execution_count": 82,
     "metadata": {},
     "output_type": "execute_result"
    }
   ],
   "source": [
    "sym0_date41_63"
   ]
  },
  {
   "cell_type": "code",
   "execution_count": null,
   "id": "409a762a",
   "metadata": {},
   "outputs": [],
   "source": []
  },
  {
   "cell_type": "code",
   "execution_count": 2,
   "id": "f7d968dc",
   "metadata": {
    "ExecuteTime": {
     "end_time": "2023-08-01T05:36:44.660635Z",
     "start_time": "2023-08-01T05:34:38.051799Z"
    }
   },
   "outputs": [
    {
     "name": "stderr",
     "output_type": "stream",
     "text": [
      "100%|██████████████████████████████████████████████████████████████████████████████████| 10/10 [02:06<00:00, 12.66s/it]\n"
     ]
    }
   ],
   "source": [
    "date0_20 = pd.DataFrame()\n",
    "for i in tqdm(range(10)):\n",
    "    tmp = pd.read_parquet(f'./feature_data_f32/20/sym{i}_date0_20.parquet')\n",
    "    date0_20 = pd.concat([date0_20,tmp], axis=0)\n",
    "    del tmp\n",
    "    gc.collect()"
   ]
  },
  {
   "cell_type": "code",
   "execution_count": 5,
   "id": "7b346299",
   "metadata": {
    "ExecuteTime": {
     "end_time": "2023-08-01T05:37:01.166485Z",
     "start_time": "2023-08-01T05:37:01.152531Z"
    }
   },
   "outputs": [
    {
     "data": {
      "text/plain": [
       "(777611, 3540)"
      ]
     },
     "execution_count": 5,
     "metadata": {},
     "output_type": "execute_result"
    }
   ],
   "source": [
    "date0_20.shape"
   ]
  },
  {
   "cell_type": "code",
   "execution_count": 3,
   "id": "930841ef",
   "metadata": {
    "ExecuteTime": {
     "end_time": "2023-08-01T05:36:44.707507Z",
     "start_time": "2023-08-01T05:36:44.660635Z"
    }
   },
   "outputs": [
    {
     "data": {
      "text/plain": [
       "sym               int64\n",
       "date              int64\n",
       "time             object\n",
       "label_5           int64\n",
       "label_10          int64\n",
       "                 ...   \n",
       "mpc40_qtlu40    float32\n",
       "mpc40_qtld40    float32\n",
       "mpc40_rank40    float32\n",
       "mpc40_imax40    float32\n",
       "mpc40_imin40    float32\n",
       "Length: 3540, dtype: object"
      ]
     },
     "execution_count": 3,
     "metadata": {},
     "output_type": "execute_result"
    }
   ],
   "source": [
    "date0_20.dtypes"
   ]
  },
  {
   "cell_type": "code",
   "execution_count": 6,
   "id": "5d549314",
   "metadata": {
    "ExecuteTime": {
     "end_time": "2023-08-01T05:38:21.979722Z",
     "start_time": "2023-08-01T05:37:05.695998Z"
    }
   },
   "outputs": [],
   "source": [
    "date0_20.to_parquet(f'./feature_data_f32/df_train_date0_20.parquet')"
   ]
  },
  {
   "cell_type": "code",
   "execution_count": 4,
   "id": "33349872",
   "metadata": {
    "ExecuteTime": {
     "end_time": "2023-08-01T05:36:44.915676Z",
     "start_time": "2023-08-01T05:36:44.707507Z"
    }
   },
   "outputs": [
    {
     "data": {
      "text/html": [
       "<div>\n",
       "<style scoped>\n",
       "    .dataframe tbody tr th:only-of-type {\n",
       "        vertical-align: middle;\n",
       "    }\n",
       "\n",
       "    .dataframe tbody tr th {\n",
       "        vertical-align: top;\n",
       "    }\n",
       "\n",
       "    .dataframe thead th {\n",
       "        text-align: right;\n",
       "    }\n",
       "</style>\n",
       "<table border=\"1\" class=\"dataframe\">\n",
       "  <thead>\n",
       "    <tr style=\"text-align: right;\">\n",
       "      <th></th>\n",
       "      <th>sym</th>\n",
       "      <th>date</th>\n",
       "      <th>time</th>\n",
       "      <th>label_5</th>\n",
       "      <th>label_10</th>\n",
       "      <th>label_20</th>\n",
       "      <th>label_40</th>\n",
       "      <th>label_60</th>\n",
       "      <th>timeEncoding</th>\n",
       "      <th>hour</th>\n",
       "      <th>...</th>\n",
       "      <th>mpc40_std40</th>\n",
       "      <th>mpc40_max40</th>\n",
       "      <th>mpc40_min40</th>\n",
       "      <th>mpc40_skew40</th>\n",
       "      <th>mpc40_kurt40</th>\n",
       "      <th>mpc40_qtlu40</th>\n",
       "      <th>mpc40_qtld40</th>\n",
       "      <th>mpc40_rank40</th>\n",
       "      <th>mpc40_imax40</th>\n",
       "      <th>mpc40_imin40</th>\n",
       "    </tr>\n",
       "  </thead>\n",
       "  <tbody>\n",
       "    <tr>\n",
       "      <th>0</th>\n",
       "      <td>0</td>\n",
       "      <td>0</td>\n",
       "      <td>09:40:03</td>\n",
       "      <td>1</td>\n",
       "      <td>0</td>\n",
       "      <td>0</td>\n",
       "      <td>0</td>\n",
       "      <td>0</td>\n",
       "      <td>0</td>\n",
       "      <td>9</td>\n",
       "      <td>...</td>\n",
       "      <td>NaN</td>\n",
       "      <td>NaN</td>\n",
       "      <td>NaN</td>\n",
       "      <td>NaN</td>\n",
       "      <td>NaN</td>\n",
       "      <td>NaN</td>\n",
       "      <td>NaN</td>\n",
       "      <td>NaN</td>\n",
       "      <td>NaN</td>\n",
       "      <td>NaN</td>\n",
       "    </tr>\n",
       "    <tr>\n",
       "      <th>1</th>\n",
       "      <td>0</td>\n",
       "      <td>0</td>\n",
       "      <td>09:40:06</td>\n",
       "      <td>0</td>\n",
       "      <td>0</td>\n",
       "      <td>0</td>\n",
       "      <td>0</td>\n",
       "      <td>0</td>\n",
       "      <td>0</td>\n",
       "      <td>9</td>\n",
       "      <td>...</td>\n",
       "      <td>NaN</td>\n",
       "      <td>NaN</td>\n",
       "      <td>NaN</td>\n",
       "      <td>NaN</td>\n",
       "      <td>NaN</td>\n",
       "      <td>NaN</td>\n",
       "      <td>NaN</td>\n",
       "      <td>NaN</td>\n",
       "      <td>NaN</td>\n",
       "      <td>NaN</td>\n",
       "    </tr>\n",
       "    <tr>\n",
       "      <th>2</th>\n",
       "      <td>0</td>\n",
       "      <td>0</td>\n",
       "      <td>09:40:09</td>\n",
       "      <td>1</td>\n",
       "      <td>0</td>\n",
       "      <td>0</td>\n",
       "      <td>0</td>\n",
       "      <td>0</td>\n",
       "      <td>0</td>\n",
       "      <td>9</td>\n",
       "      <td>...</td>\n",
       "      <td>NaN</td>\n",
       "      <td>NaN</td>\n",
       "      <td>NaN</td>\n",
       "      <td>NaN</td>\n",
       "      <td>NaN</td>\n",
       "      <td>NaN</td>\n",
       "      <td>NaN</td>\n",
       "      <td>NaN</td>\n",
       "      <td>NaN</td>\n",
       "      <td>NaN</td>\n",
       "    </tr>\n",
       "    <tr>\n",
       "      <th>3</th>\n",
       "      <td>0</td>\n",
       "      <td>0</td>\n",
       "      <td>09:40:12</td>\n",
       "      <td>0</td>\n",
       "      <td>0</td>\n",
       "      <td>0</td>\n",
       "      <td>0</td>\n",
       "      <td>0</td>\n",
       "      <td>0</td>\n",
       "      <td>9</td>\n",
       "      <td>...</td>\n",
       "      <td>NaN</td>\n",
       "      <td>NaN</td>\n",
       "      <td>NaN</td>\n",
       "      <td>NaN</td>\n",
       "      <td>NaN</td>\n",
       "      <td>NaN</td>\n",
       "      <td>NaN</td>\n",
       "      <td>NaN</td>\n",
       "      <td>NaN</td>\n",
       "      <td>NaN</td>\n",
       "    </tr>\n",
       "    <tr>\n",
       "      <th>4</th>\n",
       "      <td>0</td>\n",
       "      <td>0</td>\n",
       "      <td>09:40:15</td>\n",
       "      <td>1</td>\n",
       "      <td>0</td>\n",
       "      <td>0</td>\n",
       "      <td>0</td>\n",
       "      <td>0</td>\n",
       "      <td>0</td>\n",
       "      <td>9</td>\n",
       "      <td>...</td>\n",
       "      <td>NaN</td>\n",
       "      <td>NaN</td>\n",
       "      <td>NaN</td>\n",
       "      <td>NaN</td>\n",
       "      <td>NaN</td>\n",
       "      <td>NaN</td>\n",
       "      <td>NaN</td>\n",
       "      <td>NaN</td>\n",
       "      <td>NaN</td>\n",
       "      <td>NaN</td>\n",
       "    </tr>\n",
       "    <tr>\n",
       "      <th>...</th>\n",
       "      <td>...</td>\n",
       "      <td>...</td>\n",
       "      <td>...</td>\n",
       "      <td>...</td>\n",
       "      <td>...</td>\n",
       "      <td>...</td>\n",
       "      <td>...</td>\n",
       "      <td>...</td>\n",
       "      <td>...</td>\n",
       "      <td>...</td>\n",
       "      <td>...</td>\n",
       "      <td>...</td>\n",
       "      <td>...</td>\n",
       "      <td>...</td>\n",
       "      <td>...</td>\n",
       "      <td>...</td>\n",
       "      <td>...</td>\n",
       "      <td>...</td>\n",
       "      <td>...</td>\n",
       "      <td>...</td>\n",
       "      <td>...</td>\n",
       "    </tr>\n",
       "    <tr>\n",
       "      <th>83953</th>\n",
       "      <td>9</td>\n",
       "      <td>20</td>\n",
       "      <td>14:49:45</td>\n",
       "      <td>1</td>\n",
       "      <td>1</td>\n",
       "      <td>1</td>\n",
       "      <td>1</td>\n",
       "      <td>0</td>\n",
       "      <td>7</td>\n",
       "      <td>14</td>\n",
       "      <td>...</td>\n",
       "      <td>NaN</td>\n",
       "      <td>NaN</td>\n",
       "      <td>NaN</td>\n",
       "      <td>NaN</td>\n",
       "      <td>NaN</td>\n",
       "      <td>NaN</td>\n",
       "      <td>NaN</td>\n",
       "      <td>NaN</td>\n",
       "      <td>NaN</td>\n",
       "      <td>NaN</td>\n",
       "    </tr>\n",
       "    <tr>\n",
       "      <th>83954</th>\n",
       "      <td>9</td>\n",
       "      <td>20</td>\n",
       "      <td>14:49:48</td>\n",
       "      <td>1</td>\n",
       "      <td>1</td>\n",
       "      <td>1</td>\n",
       "      <td>1</td>\n",
       "      <td>0</td>\n",
       "      <td>7</td>\n",
       "      <td>14</td>\n",
       "      <td>...</td>\n",
       "      <td>NaN</td>\n",
       "      <td>NaN</td>\n",
       "      <td>NaN</td>\n",
       "      <td>NaN</td>\n",
       "      <td>NaN</td>\n",
       "      <td>NaN</td>\n",
       "      <td>NaN</td>\n",
       "      <td>NaN</td>\n",
       "      <td>NaN</td>\n",
       "      <td>NaN</td>\n",
       "    </tr>\n",
       "    <tr>\n",
       "      <th>83955</th>\n",
       "      <td>9</td>\n",
       "      <td>20</td>\n",
       "      <td>14:49:51</td>\n",
       "      <td>1</td>\n",
       "      <td>1</td>\n",
       "      <td>1</td>\n",
       "      <td>1</td>\n",
       "      <td>0</td>\n",
       "      <td>7</td>\n",
       "      <td>14</td>\n",
       "      <td>...</td>\n",
       "      <td>NaN</td>\n",
       "      <td>NaN</td>\n",
       "      <td>NaN</td>\n",
       "      <td>NaN</td>\n",
       "      <td>NaN</td>\n",
       "      <td>NaN</td>\n",
       "      <td>NaN</td>\n",
       "      <td>NaN</td>\n",
       "      <td>NaN</td>\n",
       "      <td>NaN</td>\n",
       "    </tr>\n",
       "    <tr>\n",
       "      <th>83956</th>\n",
       "      <td>9</td>\n",
       "      <td>20</td>\n",
       "      <td>14:49:54</td>\n",
       "      <td>1</td>\n",
       "      <td>1</td>\n",
       "      <td>1</td>\n",
       "      <td>1</td>\n",
       "      <td>0</td>\n",
       "      <td>7</td>\n",
       "      <td>14</td>\n",
       "      <td>...</td>\n",
       "      <td>NaN</td>\n",
       "      <td>NaN</td>\n",
       "      <td>NaN</td>\n",
       "      <td>NaN</td>\n",
       "      <td>NaN</td>\n",
       "      <td>NaN</td>\n",
       "      <td>NaN</td>\n",
       "      <td>NaN</td>\n",
       "      <td>NaN</td>\n",
       "      <td>NaN</td>\n",
       "    </tr>\n",
       "    <tr>\n",
       "      <th>83957</th>\n",
       "      <td>9</td>\n",
       "      <td>20</td>\n",
       "      <td>14:49:57</td>\n",
       "      <td>1</td>\n",
       "      <td>1</td>\n",
       "      <td>1</td>\n",
       "      <td>1</td>\n",
       "      <td>0</td>\n",
       "      <td>7</td>\n",
       "      <td>14</td>\n",
       "      <td>...</td>\n",
       "      <td>NaN</td>\n",
       "      <td>NaN</td>\n",
       "      <td>NaN</td>\n",
       "      <td>NaN</td>\n",
       "      <td>NaN</td>\n",
       "      <td>NaN</td>\n",
       "      <td>NaN</td>\n",
       "      <td>NaN</td>\n",
       "      <td>NaN</td>\n",
       "      <td>NaN</td>\n",
       "    </tr>\n",
       "  </tbody>\n",
       "</table>\n",
       "<p>777611 rows × 3540 columns</p>\n",
       "</div>"
      ],
      "text/plain": [
       "       sym  date      time  label_5  label_10  label_20  label_40  label_60  \\\n",
       "0        0     0  09:40:03        1         0         0         0         0   \n",
       "1        0     0  09:40:06        0         0         0         0         0   \n",
       "2        0     0  09:40:09        1         0         0         0         0   \n",
       "3        0     0  09:40:12        0         0         0         0         0   \n",
       "4        0     0  09:40:15        1         0         0         0         0   \n",
       "...    ...   ...       ...      ...       ...       ...       ...       ...   \n",
       "83953    9    20  14:49:45        1         1         1         1         0   \n",
       "83954    9    20  14:49:48        1         1         1         1         0   \n",
       "83955    9    20  14:49:51        1         1         1         1         0   \n",
       "83956    9    20  14:49:54        1         1         1         1         0   \n",
       "83957    9    20  14:49:57        1         1         1         1         0   \n",
       "\n",
       "       timeEncoding  hour  ...  mpc40_std40  mpc40_max40  mpc40_min40  \\\n",
       "0                 0     9  ...          NaN          NaN          NaN   \n",
       "1                 0     9  ...          NaN          NaN          NaN   \n",
       "2                 0     9  ...          NaN          NaN          NaN   \n",
       "3                 0     9  ...          NaN          NaN          NaN   \n",
       "4                 0     9  ...          NaN          NaN          NaN   \n",
       "...             ...   ...  ...          ...          ...          ...   \n",
       "83953             7    14  ...          NaN          NaN          NaN   \n",
       "83954             7    14  ...          NaN          NaN          NaN   \n",
       "83955             7    14  ...          NaN          NaN          NaN   \n",
       "83956             7    14  ...          NaN          NaN          NaN   \n",
       "83957             7    14  ...          NaN          NaN          NaN   \n",
       "\n",
       "       mpc40_skew40  mpc40_kurt40  mpc40_qtlu40  mpc40_qtld40  mpc40_rank40  \\\n",
       "0               NaN           NaN           NaN           NaN           NaN   \n",
       "1               NaN           NaN           NaN           NaN           NaN   \n",
       "2               NaN           NaN           NaN           NaN           NaN   \n",
       "3               NaN           NaN           NaN           NaN           NaN   \n",
       "4               NaN           NaN           NaN           NaN           NaN   \n",
       "...             ...           ...           ...           ...           ...   \n",
       "83953           NaN           NaN           NaN           NaN           NaN   \n",
       "83954           NaN           NaN           NaN           NaN           NaN   \n",
       "83955           NaN           NaN           NaN           NaN           NaN   \n",
       "83956           NaN           NaN           NaN           NaN           NaN   \n",
       "83957           NaN           NaN           NaN           NaN           NaN   \n",
       "\n",
       "       mpc40_imax40  mpc40_imin40  \n",
       "0               NaN           NaN  \n",
       "1               NaN           NaN  \n",
       "2               NaN           NaN  \n",
       "3               NaN           NaN  \n",
       "4               NaN           NaN  \n",
       "...             ...           ...  \n",
       "83953           NaN           NaN  \n",
       "83954           NaN           NaN  \n",
       "83955           NaN           NaN  \n",
       "83956           NaN           NaN  \n",
       "83957           NaN           NaN  \n",
       "\n",
       "[777611 rows x 3540 columns]"
      ]
     },
     "execution_count": 4,
     "metadata": {},
     "output_type": "execute_result"
    }
   ],
   "source": [
    "date0_20"
   ]
  },
  {
   "cell_type": "code",
   "execution_count": null,
   "id": "d3f6e5dc",
   "metadata": {},
   "outputs": [],
   "source": []
  },
  {
   "cell_type": "code",
   "execution_count": 2,
   "id": "9ad0bc1d",
   "metadata": {
    "ExecuteTime": {
     "end_time": "2023-08-01T05:41:19.345037Z",
     "start_time": "2023-08-01T05:38:55.690972Z"
    }
   },
   "outputs": [
    {
     "name": "stderr",
     "output_type": "stream",
     "text": [
      "100%|██████████████████████████████████████████████████████████████████████████████████| 10/10 [02:23<00:00, 14.36s/it]\n"
     ]
    }
   ],
   "source": [
    "date21_40 = pd.DataFrame()\n",
    "for i in tqdm(range(10)):\n",
    "    tmp = pd.read_parquet(f'./feature_data_f32/40/sym{i}_date21_40.parquet')\n",
    "    date21_40 = pd.concat([date21_40,tmp], axis=0)\n",
    "    del tmp\n",
    "    gc.collect()"
   ]
  },
  {
   "cell_type": "code",
   "execution_count": 3,
   "id": "0595afb8",
   "metadata": {
    "ExecuteTime": {
     "end_time": "2023-08-01T05:41:19.381486Z",
     "start_time": "2023-08-01T05:41:19.345037Z"
    }
   },
   "outputs": [
    {
     "data": {
      "text/plain": [
       "(795602, 3540)"
      ]
     },
     "execution_count": 3,
     "metadata": {},
     "output_type": "execute_result"
    }
   ],
   "source": [
    "date21_40.shape"
   ]
  },
  {
   "cell_type": "code",
   "execution_count": 4,
   "id": "34c4e39a",
   "metadata": {
    "ExecuteTime": {
     "end_time": "2023-08-01T05:41:19.413493Z",
     "start_time": "2023-08-01T05:41:19.381843Z"
    }
   },
   "outputs": [
    {
     "data": {
      "text/plain": [
       "sym               int64\n",
       "date              int64\n",
       "time             object\n",
       "label_5           int64\n",
       "label_10          int64\n",
       "                 ...   \n",
       "mpc40_qtlu40    float32\n",
       "mpc40_qtld40    float32\n",
       "mpc40_rank40    float32\n",
       "mpc40_imax40    float32\n",
       "mpc40_imin40    float32\n",
       "Length: 3540, dtype: object"
      ]
     },
     "execution_count": 4,
     "metadata": {},
     "output_type": "execute_result"
    }
   ],
   "source": [
    "date21_40.dtypes"
   ]
  },
  {
   "cell_type": "code",
   "execution_count": 6,
   "id": "8874bac1",
   "metadata": {
    "ExecuteTime": {
     "end_time": "2023-08-01T05:42:48.175917Z",
     "start_time": "2023-08-01T05:41:27.995023Z"
    }
   },
   "outputs": [],
   "source": [
    "date21_40.to_parquet(f'./feature_data_f32/df_train_date21_40.parquet')"
   ]
  },
  {
   "cell_type": "code",
   "execution_count": 5,
   "id": "4555ef67",
   "metadata": {
    "ExecuteTime": {
     "end_time": "2023-08-01T05:41:19.642161Z",
     "start_time": "2023-08-01T05:41:19.415996Z"
    }
   },
   "outputs": [
    {
     "data": {
      "text/html": [
       "<div>\n",
       "<style scoped>\n",
       "    .dataframe tbody tr th:only-of-type {\n",
       "        vertical-align: middle;\n",
       "    }\n",
       "\n",
       "    .dataframe tbody tr th {\n",
       "        vertical-align: top;\n",
       "    }\n",
       "\n",
       "    .dataframe thead th {\n",
       "        text-align: right;\n",
       "    }\n",
       "</style>\n",
       "<table border=\"1\" class=\"dataframe\">\n",
       "  <thead>\n",
       "    <tr style=\"text-align: right;\">\n",
       "      <th></th>\n",
       "      <th>sym</th>\n",
       "      <th>date</th>\n",
       "      <th>time</th>\n",
       "      <th>label_5</th>\n",
       "      <th>label_10</th>\n",
       "      <th>label_20</th>\n",
       "      <th>label_40</th>\n",
       "      <th>label_60</th>\n",
       "      <th>timeEncoding</th>\n",
       "      <th>hour</th>\n",
       "      <th>...</th>\n",
       "      <th>mpc40_std40</th>\n",
       "      <th>mpc40_max40</th>\n",
       "      <th>mpc40_min40</th>\n",
       "      <th>mpc40_skew40</th>\n",
       "      <th>mpc40_kurt40</th>\n",
       "      <th>mpc40_qtlu40</th>\n",
       "      <th>mpc40_qtld40</th>\n",
       "      <th>mpc40_rank40</th>\n",
       "      <th>mpc40_imax40</th>\n",
       "      <th>mpc40_imin40</th>\n",
       "    </tr>\n",
       "  </thead>\n",
       "  <tbody>\n",
       "    <tr>\n",
       "      <th>0</th>\n",
       "      <td>0</td>\n",
       "      <td>21</td>\n",
       "      <td>09:40:03</td>\n",
       "      <td>1</td>\n",
       "      <td>0</td>\n",
       "      <td>0</td>\n",
       "      <td>0</td>\n",
       "      <td>0</td>\n",
       "      <td>0</td>\n",
       "      <td>9</td>\n",
       "      <td>...</td>\n",
       "      <td>NaN</td>\n",
       "      <td>NaN</td>\n",
       "      <td>NaN</td>\n",
       "      <td>NaN</td>\n",
       "      <td>NaN</td>\n",
       "      <td>NaN</td>\n",
       "      <td>NaN</td>\n",
       "      <td>NaN</td>\n",
       "      <td>NaN</td>\n",
       "      <td>NaN</td>\n",
       "    </tr>\n",
       "    <tr>\n",
       "      <th>1</th>\n",
       "      <td>0</td>\n",
       "      <td>21</td>\n",
       "      <td>09:40:06</td>\n",
       "      <td>1</td>\n",
       "      <td>0</td>\n",
       "      <td>0</td>\n",
       "      <td>0</td>\n",
       "      <td>0</td>\n",
       "      <td>0</td>\n",
       "      <td>9</td>\n",
       "      <td>...</td>\n",
       "      <td>NaN</td>\n",
       "      <td>NaN</td>\n",
       "      <td>NaN</td>\n",
       "      <td>NaN</td>\n",
       "      <td>NaN</td>\n",
       "      <td>NaN</td>\n",
       "      <td>NaN</td>\n",
       "      <td>NaN</td>\n",
       "      <td>NaN</td>\n",
       "      <td>NaN</td>\n",
       "    </tr>\n",
       "    <tr>\n",
       "      <th>2</th>\n",
       "      <td>0</td>\n",
       "      <td>21</td>\n",
       "      <td>09:40:09</td>\n",
       "      <td>0</td>\n",
       "      <td>0</td>\n",
       "      <td>0</td>\n",
       "      <td>0</td>\n",
       "      <td>0</td>\n",
       "      <td>0</td>\n",
       "      <td>9</td>\n",
       "      <td>...</td>\n",
       "      <td>NaN</td>\n",
       "      <td>NaN</td>\n",
       "      <td>NaN</td>\n",
       "      <td>NaN</td>\n",
       "      <td>NaN</td>\n",
       "      <td>NaN</td>\n",
       "      <td>NaN</td>\n",
       "      <td>NaN</td>\n",
       "      <td>NaN</td>\n",
       "      <td>NaN</td>\n",
       "    </tr>\n",
       "    <tr>\n",
       "      <th>3</th>\n",
       "      <td>0</td>\n",
       "      <td>21</td>\n",
       "      <td>09:40:12</td>\n",
       "      <td>0</td>\n",
       "      <td>0</td>\n",
       "      <td>0</td>\n",
       "      <td>0</td>\n",
       "      <td>0</td>\n",
       "      <td>0</td>\n",
       "      <td>9</td>\n",
       "      <td>...</td>\n",
       "      <td>NaN</td>\n",
       "      <td>NaN</td>\n",
       "      <td>NaN</td>\n",
       "      <td>NaN</td>\n",
       "      <td>NaN</td>\n",
       "      <td>NaN</td>\n",
       "      <td>NaN</td>\n",
       "      <td>NaN</td>\n",
       "      <td>NaN</td>\n",
       "      <td>NaN</td>\n",
       "    </tr>\n",
       "    <tr>\n",
       "      <th>4</th>\n",
       "      <td>0</td>\n",
       "      <td>21</td>\n",
       "      <td>09:40:15</td>\n",
       "      <td>0</td>\n",
       "      <td>0</td>\n",
       "      <td>0</td>\n",
       "      <td>0</td>\n",
       "      <td>0</td>\n",
       "      <td>0</td>\n",
       "      <td>9</td>\n",
       "      <td>...</td>\n",
       "      <td>NaN</td>\n",
       "      <td>NaN</td>\n",
       "      <td>NaN</td>\n",
       "      <td>NaN</td>\n",
       "      <td>NaN</td>\n",
       "      <td>NaN</td>\n",
       "      <td>NaN</td>\n",
       "      <td>NaN</td>\n",
       "      <td>NaN</td>\n",
       "      <td>NaN</td>\n",
       "    </tr>\n",
       "    <tr>\n",
       "      <th>...</th>\n",
       "      <td>...</td>\n",
       "      <td>...</td>\n",
       "      <td>...</td>\n",
       "      <td>...</td>\n",
       "      <td>...</td>\n",
       "      <td>...</td>\n",
       "      <td>...</td>\n",
       "      <td>...</td>\n",
       "      <td>...</td>\n",
       "      <td>...</td>\n",
       "      <td>...</td>\n",
       "      <td>...</td>\n",
       "      <td>...</td>\n",
       "      <td>...</td>\n",
       "      <td>...</td>\n",
       "      <td>...</td>\n",
       "      <td>...</td>\n",
       "      <td>...</td>\n",
       "      <td>...</td>\n",
       "      <td>...</td>\n",
       "      <td>...</td>\n",
       "    </tr>\n",
       "    <tr>\n",
       "      <th>79955</th>\n",
       "      <td>9</td>\n",
       "      <td>40</td>\n",
       "      <td>14:49:45</td>\n",
       "      <td>1</td>\n",
       "      <td>1</td>\n",
       "      <td>1</td>\n",
       "      <td>1</td>\n",
       "      <td>0</td>\n",
       "      <td>7</td>\n",
       "      <td>14</td>\n",
       "      <td>...</td>\n",
       "      <td>NaN</td>\n",
       "      <td>NaN</td>\n",
       "      <td>NaN</td>\n",
       "      <td>NaN</td>\n",
       "      <td>NaN</td>\n",
       "      <td>NaN</td>\n",
       "      <td>NaN</td>\n",
       "      <td>NaN</td>\n",
       "      <td>NaN</td>\n",
       "      <td>NaN</td>\n",
       "    </tr>\n",
       "    <tr>\n",
       "      <th>79956</th>\n",
       "      <td>9</td>\n",
       "      <td>40</td>\n",
       "      <td>14:49:48</td>\n",
       "      <td>1</td>\n",
       "      <td>1</td>\n",
       "      <td>1</td>\n",
       "      <td>1</td>\n",
       "      <td>0</td>\n",
       "      <td>7</td>\n",
       "      <td>14</td>\n",
       "      <td>...</td>\n",
       "      <td>NaN</td>\n",
       "      <td>NaN</td>\n",
       "      <td>NaN</td>\n",
       "      <td>NaN</td>\n",
       "      <td>NaN</td>\n",
       "      <td>NaN</td>\n",
       "      <td>NaN</td>\n",
       "      <td>NaN</td>\n",
       "      <td>NaN</td>\n",
       "      <td>NaN</td>\n",
       "    </tr>\n",
       "    <tr>\n",
       "      <th>79957</th>\n",
       "      <td>9</td>\n",
       "      <td>40</td>\n",
       "      <td>14:49:51</td>\n",
       "      <td>1</td>\n",
       "      <td>1</td>\n",
       "      <td>1</td>\n",
       "      <td>1</td>\n",
       "      <td>0</td>\n",
       "      <td>7</td>\n",
       "      <td>14</td>\n",
       "      <td>...</td>\n",
       "      <td>NaN</td>\n",
       "      <td>NaN</td>\n",
       "      <td>NaN</td>\n",
       "      <td>NaN</td>\n",
       "      <td>NaN</td>\n",
       "      <td>NaN</td>\n",
       "      <td>NaN</td>\n",
       "      <td>NaN</td>\n",
       "      <td>NaN</td>\n",
       "      <td>NaN</td>\n",
       "    </tr>\n",
       "    <tr>\n",
       "      <th>79958</th>\n",
       "      <td>9</td>\n",
       "      <td>40</td>\n",
       "      <td>14:49:54</td>\n",
       "      <td>1</td>\n",
       "      <td>1</td>\n",
       "      <td>1</td>\n",
       "      <td>1</td>\n",
       "      <td>0</td>\n",
       "      <td>7</td>\n",
       "      <td>14</td>\n",
       "      <td>...</td>\n",
       "      <td>NaN</td>\n",
       "      <td>NaN</td>\n",
       "      <td>NaN</td>\n",
       "      <td>NaN</td>\n",
       "      <td>NaN</td>\n",
       "      <td>NaN</td>\n",
       "      <td>NaN</td>\n",
       "      <td>NaN</td>\n",
       "      <td>NaN</td>\n",
       "      <td>NaN</td>\n",
       "    </tr>\n",
       "    <tr>\n",
       "      <th>79959</th>\n",
       "      <td>9</td>\n",
       "      <td>40</td>\n",
       "      <td>14:49:57</td>\n",
       "      <td>1</td>\n",
       "      <td>1</td>\n",
       "      <td>1</td>\n",
       "      <td>1</td>\n",
       "      <td>0</td>\n",
       "      <td>7</td>\n",
       "      <td>14</td>\n",
       "      <td>...</td>\n",
       "      <td>NaN</td>\n",
       "      <td>NaN</td>\n",
       "      <td>NaN</td>\n",
       "      <td>NaN</td>\n",
       "      <td>NaN</td>\n",
       "      <td>NaN</td>\n",
       "      <td>NaN</td>\n",
       "      <td>NaN</td>\n",
       "      <td>NaN</td>\n",
       "      <td>NaN</td>\n",
       "    </tr>\n",
       "  </tbody>\n",
       "</table>\n",
       "<p>795602 rows × 3540 columns</p>\n",
       "</div>"
      ],
      "text/plain": [
       "       sym  date      time  label_5  label_10  label_20  label_40  label_60  \\\n",
       "0        0    21  09:40:03        1         0         0         0         0   \n",
       "1        0    21  09:40:06        1         0         0         0         0   \n",
       "2        0    21  09:40:09        0         0         0         0         0   \n",
       "3        0    21  09:40:12        0         0         0         0         0   \n",
       "4        0    21  09:40:15        0         0         0         0         0   \n",
       "...    ...   ...       ...      ...       ...       ...       ...       ...   \n",
       "79955    9    40  14:49:45        1         1         1         1         0   \n",
       "79956    9    40  14:49:48        1         1         1         1         0   \n",
       "79957    9    40  14:49:51        1         1         1         1         0   \n",
       "79958    9    40  14:49:54        1         1         1         1         0   \n",
       "79959    9    40  14:49:57        1         1         1         1         0   \n",
       "\n",
       "       timeEncoding  hour  ...  mpc40_std40  mpc40_max40  mpc40_min40  \\\n",
       "0                 0     9  ...          NaN          NaN          NaN   \n",
       "1                 0     9  ...          NaN          NaN          NaN   \n",
       "2                 0     9  ...          NaN          NaN          NaN   \n",
       "3                 0     9  ...          NaN          NaN          NaN   \n",
       "4                 0     9  ...          NaN          NaN          NaN   \n",
       "...             ...   ...  ...          ...          ...          ...   \n",
       "79955             7    14  ...          NaN          NaN          NaN   \n",
       "79956             7    14  ...          NaN          NaN          NaN   \n",
       "79957             7    14  ...          NaN          NaN          NaN   \n",
       "79958             7    14  ...          NaN          NaN          NaN   \n",
       "79959             7    14  ...          NaN          NaN          NaN   \n",
       "\n",
       "       mpc40_skew40  mpc40_kurt40  mpc40_qtlu40  mpc40_qtld40  mpc40_rank40  \\\n",
       "0               NaN           NaN           NaN           NaN           NaN   \n",
       "1               NaN           NaN           NaN           NaN           NaN   \n",
       "2               NaN           NaN           NaN           NaN           NaN   \n",
       "3               NaN           NaN           NaN           NaN           NaN   \n",
       "4               NaN           NaN           NaN           NaN           NaN   \n",
       "...             ...           ...           ...           ...           ...   \n",
       "79955           NaN           NaN           NaN           NaN           NaN   \n",
       "79956           NaN           NaN           NaN           NaN           NaN   \n",
       "79957           NaN           NaN           NaN           NaN           NaN   \n",
       "79958           NaN           NaN           NaN           NaN           NaN   \n",
       "79959           NaN           NaN           NaN           NaN           NaN   \n",
       "\n",
       "       mpc40_imax40  mpc40_imin40  \n",
       "0               NaN           NaN  \n",
       "1               NaN           NaN  \n",
       "2               NaN           NaN  \n",
       "3               NaN           NaN  \n",
       "4               NaN           NaN  \n",
       "...             ...           ...  \n",
       "79955           NaN           NaN  \n",
       "79956           NaN           NaN  \n",
       "79957           NaN           NaN  \n",
       "79958           NaN           NaN  \n",
       "79959           NaN           NaN  \n",
       "\n",
       "[795602 rows x 3540 columns]"
      ]
     },
     "execution_count": 5,
     "metadata": {},
     "output_type": "execute_result"
    }
   ],
   "source": [
    "date21_40"
   ]
  },
  {
   "cell_type": "code",
   "execution_count": null,
   "id": "1ca04aa9",
   "metadata": {},
   "outputs": [],
   "source": []
  },
  {
   "cell_type": "code",
   "execution_count": 2,
   "id": "ef96994f",
   "metadata": {
    "ExecuteTime": {
     "end_time": "2023-08-01T05:46:02.207216Z",
     "start_time": "2023-08-01T05:43:17.175079Z"
    }
   },
   "outputs": [
    {
     "name": "stderr",
     "output_type": "stream",
     "text": [
      "100%|██████████████████████████████████████████████████████████████████████████████████| 10/10 [02:44<00:00, 16.50s/it]\n"
     ]
    }
   ],
   "source": [
    "date41_63 = pd.DataFrame()\n",
    "for i in tqdm(range(10)):\n",
    "    tmp = pd.read_parquet(f'./feature_data_f32/63/sym{i}_date41_63.parquet')\n",
    "    date41_63 = pd.concat([date41_63,tmp], axis=0)\n",
    "    del tmp\n",
    "    gc.collect()"
   ]
  },
  {
   "cell_type": "code",
   "execution_count": 3,
   "id": "5078a7fb",
   "metadata": {
    "ExecuteTime": {
     "end_time": "2023-08-01T05:46:02.238413Z",
     "start_time": "2023-08-01T05:46:02.207216Z"
    }
   },
   "outputs": [
    {
     "data": {
      "text/plain": [
       "(875562, 3540)"
      ]
     },
     "execution_count": 3,
     "metadata": {},
     "output_type": "execute_result"
    }
   ],
   "source": [
    "date41_63.shape"
   ]
  },
  {
   "cell_type": "code",
   "execution_count": 4,
   "id": "ba30d963",
   "metadata": {
    "ExecuteTime": {
     "end_time": "2023-08-01T05:46:02.273436Z",
     "start_time": "2023-08-01T05:46:02.239410Z"
    }
   },
   "outputs": [
    {
     "data": {
      "text/plain": [
       "sym               int64\n",
       "date              int64\n",
       "time             object\n",
       "label_5           int64\n",
       "label_10          int64\n",
       "                 ...   \n",
       "mpc40_qtlu40    float32\n",
       "mpc40_qtld40    float32\n",
       "mpc40_rank40    float32\n",
       "mpc40_imax40    float32\n",
       "mpc40_imin40    float32\n",
       "Length: 3540, dtype: object"
      ]
     },
     "execution_count": 4,
     "metadata": {},
     "output_type": "execute_result"
    }
   ],
   "source": [
    "date41_63.dtypes"
   ]
  },
  {
   "cell_type": "code",
   "execution_count": 6,
   "id": "22063fde",
   "metadata": {
    "ExecuteTime": {
     "end_time": "2023-08-01T05:47:55.865695Z",
     "start_time": "2023-08-01T05:46:02.519001Z"
    }
   },
   "outputs": [],
   "source": [
    "date41_63.to_parquet(f'./feature_data_f32/df_train_date41_63.parquet')"
   ]
  },
  {
   "cell_type": "code",
   "execution_count": 5,
   "id": "caf19bf5",
   "metadata": {
    "ExecuteTime": {
     "end_time": "2023-08-01T05:46:02.518005Z",
     "start_time": "2023-08-01T05:46:02.274640Z"
    }
   },
   "outputs": [
    {
     "data": {
      "text/html": [
       "<div>\n",
       "<style scoped>\n",
       "    .dataframe tbody tr th:only-of-type {\n",
       "        vertical-align: middle;\n",
       "    }\n",
       "\n",
       "    .dataframe tbody tr th {\n",
       "        vertical-align: top;\n",
       "    }\n",
       "\n",
       "    .dataframe thead th {\n",
       "        text-align: right;\n",
       "    }\n",
       "</style>\n",
       "<table border=\"1\" class=\"dataframe\">\n",
       "  <thead>\n",
       "    <tr style=\"text-align: right;\">\n",
       "      <th></th>\n",
       "      <th>sym</th>\n",
       "      <th>date</th>\n",
       "      <th>time</th>\n",
       "      <th>label_5</th>\n",
       "      <th>label_10</th>\n",
       "      <th>label_20</th>\n",
       "      <th>label_40</th>\n",
       "      <th>label_60</th>\n",
       "      <th>timeEncoding</th>\n",
       "      <th>hour</th>\n",
       "      <th>...</th>\n",
       "      <th>mpc40_std40</th>\n",
       "      <th>mpc40_max40</th>\n",
       "      <th>mpc40_min40</th>\n",
       "      <th>mpc40_skew40</th>\n",
       "      <th>mpc40_kurt40</th>\n",
       "      <th>mpc40_qtlu40</th>\n",
       "      <th>mpc40_qtld40</th>\n",
       "      <th>mpc40_rank40</th>\n",
       "      <th>mpc40_imax40</th>\n",
       "      <th>mpc40_imin40</th>\n",
       "    </tr>\n",
       "  </thead>\n",
       "  <tbody>\n",
       "    <tr>\n",
       "      <th>0</th>\n",
       "      <td>0</td>\n",
       "      <td>41</td>\n",
       "      <td>09:40:03</td>\n",
       "      <td>1</td>\n",
       "      <td>0</td>\n",
       "      <td>0</td>\n",
       "      <td>0</td>\n",
       "      <td>0</td>\n",
       "      <td>0</td>\n",
       "      <td>9</td>\n",
       "      <td>...</td>\n",
       "      <td>NaN</td>\n",
       "      <td>NaN</td>\n",
       "      <td>NaN</td>\n",
       "      <td>NaN</td>\n",
       "      <td>NaN</td>\n",
       "      <td>NaN</td>\n",
       "      <td>NaN</td>\n",
       "      <td>NaN</td>\n",
       "      <td>NaN</td>\n",
       "      <td>NaN</td>\n",
       "    </tr>\n",
       "    <tr>\n",
       "      <th>1</th>\n",
       "      <td>0</td>\n",
       "      <td>41</td>\n",
       "      <td>09:40:06</td>\n",
       "      <td>1</td>\n",
       "      <td>1</td>\n",
       "      <td>0</td>\n",
       "      <td>0</td>\n",
       "      <td>0</td>\n",
       "      <td>0</td>\n",
       "      <td>9</td>\n",
       "      <td>...</td>\n",
       "      <td>NaN</td>\n",
       "      <td>NaN</td>\n",
       "      <td>NaN</td>\n",
       "      <td>NaN</td>\n",
       "      <td>NaN</td>\n",
       "      <td>NaN</td>\n",
       "      <td>NaN</td>\n",
       "      <td>NaN</td>\n",
       "      <td>NaN</td>\n",
       "      <td>NaN</td>\n",
       "    </tr>\n",
       "    <tr>\n",
       "      <th>2</th>\n",
       "      <td>0</td>\n",
       "      <td>41</td>\n",
       "      <td>09:40:09</td>\n",
       "      <td>1</td>\n",
       "      <td>0</td>\n",
       "      <td>0</td>\n",
       "      <td>0</td>\n",
       "      <td>0</td>\n",
       "      <td>0</td>\n",
       "      <td>9</td>\n",
       "      <td>...</td>\n",
       "      <td>NaN</td>\n",
       "      <td>NaN</td>\n",
       "      <td>NaN</td>\n",
       "      <td>NaN</td>\n",
       "      <td>NaN</td>\n",
       "      <td>NaN</td>\n",
       "      <td>NaN</td>\n",
       "      <td>NaN</td>\n",
       "      <td>NaN</td>\n",
       "      <td>NaN</td>\n",
       "    </tr>\n",
       "    <tr>\n",
       "      <th>3</th>\n",
       "      <td>0</td>\n",
       "      <td>41</td>\n",
       "      <td>09:40:12</td>\n",
       "      <td>1</td>\n",
       "      <td>0</td>\n",
       "      <td>0</td>\n",
       "      <td>0</td>\n",
       "      <td>0</td>\n",
       "      <td>0</td>\n",
       "      <td>9</td>\n",
       "      <td>...</td>\n",
       "      <td>NaN</td>\n",
       "      <td>NaN</td>\n",
       "      <td>NaN</td>\n",
       "      <td>NaN</td>\n",
       "      <td>NaN</td>\n",
       "      <td>NaN</td>\n",
       "      <td>NaN</td>\n",
       "      <td>NaN</td>\n",
       "      <td>NaN</td>\n",
       "      <td>NaN</td>\n",
       "    </tr>\n",
       "    <tr>\n",
       "      <th>4</th>\n",
       "      <td>0</td>\n",
       "      <td>41</td>\n",
       "      <td>09:40:15</td>\n",
       "      <td>1</td>\n",
       "      <td>0</td>\n",
       "      <td>0</td>\n",
       "      <td>0</td>\n",
       "      <td>0</td>\n",
       "      <td>0</td>\n",
       "      <td>9</td>\n",
       "      <td>...</td>\n",
       "      <td>NaN</td>\n",
       "      <td>NaN</td>\n",
       "      <td>NaN</td>\n",
       "      <td>NaN</td>\n",
       "      <td>NaN</td>\n",
       "      <td>NaN</td>\n",
       "      <td>NaN</td>\n",
       "      <td>NaN</td>\n",
       "      <td>NaN</td>\n",
       "      <td>NaN</td>\n",
       "    </tr>\n",
       "    <tr>\n",
       "      <th>...</th>\n",
       "      <td>...</td>\n",
       "      <td>...</td>\n",
       "      <td>...</td>\n",
       "      <td>...</td>\n",
       "      <td>...</td>\n",
       "      <td>...</td>\n",
       "      <td>...</td>\n",
       "      <td>...</td>\n",
       "      <td>...</td>\n",
       "      <td>...</td>\n",
       "      <td>...</td>\n",
       "      <td>...</td>\n",
       "      <td>...</td>\n",
       "      <td>...</td>\n",
       "      <td>...</td>\n",
       "      <td>...</td>\n",
       "      <td>...</td>\n",
       "      <td>...</td>\n",
       "      <td>...</td>\n",
       "      <td>...</td>\n",
       "      <td>...</td>\n",
       "    </tr>\n",
       "    <tr>\n",
       "      <th>91949</th>\n",
       "      <td>9</td>\n",
       "      <td>63</td>\n",
       "      <td>14:49:45</td>\n",
       "      <td>1</td>\n",
       "      <td>1</td>\n",
       "      <td>1</td>\n",
       "      <td>1</td>\n",
       "      <td>1</td>\n",
       "      <td>7</td>\n",
       "      <td>14</td>\n",
       "      <td>...</td>\n",
       "      <td>0.046088</td>\n",
       "      <td>0.194175</td>\n",
       "      <td>0.034783</td>\n",
       "      <td>-0.213406</td>\n",
       "      <td>-0.849698</td>\n",
       "      <td>0.154228</td>\n",
       "      <td>0.069565</td>\n",
       "      <td>0.3500</td>\n",
       "      <td>0.775</td>\n",
       "      <td>0.225</td>\n",
       "    </tr>\n",
       "    <tr>\n",
       "      <th>91950</th>\n",
       "      <td>9</td>\n",
       "      <td>63</td>\n",
       "      <td>14:49:48</td>\n",
       "      <td>1</td>\n",
       "      <td>1</td>\n",
       "      <td>1</td>\n",
       "      <td>1</td>\n",
       "      <td>1</td>\n",
       "      <td>7</td>\n",
       "      <td>14</td>\n",
       "      <td>...</td>\n",
       "      <td>0.045641</td>\n",
       "      <td>0.194175</td>\n",
       "      <td>0.034783</td>\n",
       "      <td>-0.142536</td>\n",
       "      <td>-0.801970</td>\n",
       "      <td>0.150476</td>\n",
       "      <td>0.069565</td>\n",
       "      <td>0.3625</td>\n",
       "      <td>0.800</td>\n",
       "      <td>0.250</td>\n",
       "    </tr>\n",
       "    <tr>\n",
       "      <th>91951</th>\n",
       "      <td>9</td>\n",
       "      <td>63</td>\n",
       "      <td>14:49:51</td>\n",
       "      <td>1</td>\n",
       "      <td>1</td>\n",
       "      <td>1</td>\n",
       "      <td>1</td>\n",
       "      <td>1</td>\n",
       "      <td>7</td>\n",
       "      <td>14</td>\n",
       "      <td>...</td>\n",
       "      <td>0.045355</td>\n",
       "      <td>0.194175</td>\n",
       "      <td>0.034783</td>\n",
       "      <td>-0.105250</td>\n",
       "      <td>-0.755982</td>\n",
       "      <td>0.148123</td>\n",
       "      <td>0.069565</td>\n",
       "      <td>0.4500</td>\n",
       "      <td>0.825</td>\n",
       "      <td>0.275</td>\n",
       "    </tr>\n",
       "    <tr>\n",
       "      <th>91952</th>\n",
       "      <td>9</td>\n",
       "      <td>63</td>\n",
       "      <td>14:49:54</td>\n",
       "      <td>1</td>\n",
       "      <td>1</td>\n",
       "      <td>1</td>\n",
       "      <td>1</td>\n",
       "      <td>1</td>\n",
       "      <td>7</td>\n",
       "      <td>14</td>\n",
       "      <td>...</td>\n",
       "      <td>0.045232</td>\n",
       "      <td>0.194175</td>\n",
       "      <td>0.034783</td>\n",
       "      <td>-0.064218</td>\n",
       "      <td>-0.735427</td>\n",
       "      <td>0.148123</td>\n",
       "      <td>0.069565</td>\n",
       "      <td>0.4500</td>\n",
       "      <td>0.850</td>\n",
       "      <td>0.300</td>\n",
       "    </tr>\n",
       "    <tr>\n",
       "      <th>91953</th>\n",
       "      <td>9</td>\n",
       "      <td>63</td>\n",
       "      <td>14:49:57</td>\n",
       "      <td>1</td>\n",
       "      <td>1</td>\n",
       "      <td>1</td>\n",
       "      <td>1</td>\n",
       "      <td>1</td>\n",
       "      <td>7</td>\n",
       "      <td>14</td>\n",
       "      <td>...</td>\n",
       "      <td>0.044454</td>\n",
       "      <td>0.194175</td>\n",
       "      <td>0.034783</td>\n",
       "      <td>0.005403</td>\n",
       "      <td>-0.624586</td>\n",
       "      <td>0.138150</td>\n",
       "      <td>0.069565</td>\n",
       "      <td>0.3500</td>\n",
       "      <td>0.875</td>\n",
       "      <td>0.325</td>\n",
       "    </tr>\n",
       "  </tbody>\n",
       "</table>\n",
       "<p>875562 rows × 3540 columns</p>\n",
       "</div>"
      ],
      "text/plain": [
       "       sym  date      time  label_5  label_10  label_20  label_40  label_60  \\\n",
       "0        0    41  09:40:03        1         0         0         0         0   \n",
       "1        0    41  09:40:06        1         1         0         0         0   \n",
       "2        0    41  09:40:09        1         0         0         0         0   \n",
       "3        0    41  09:40:12        1         0         0         0         0   \n",
       "4        0    41  09:40:15        1         0         0         0         0   \n",
       "...    ...   ...       ...      ...       ...       ...       ...       ...   \n",
       "91949    9    63  14:49:45        1         1         1         1         1   \n",
       "91950    9    63  14:49:48        1         1         1         1         1   \n",
       "91951    9    63  14:49:51        1         1         1         1         1   \n",
       "91952    9    63  14:49:54        1         1         1         1         1   \n",
       "91953    9    63  14:49:57        1         1         1         1         1   \n",
       "\n",
       "       timeEncoding  hour  ...  mpc40_std40  mpc40_max40  mpc40_min40  \\\n",
       "0                 0     9  ...          NaN          NaN          NaN   \n",
       "1                 0     9  ...          NaN          NaN          NaN   \n",
       "2                 0     9  ...          NaN          NaN          NaN   \n",
       "3                 0     9  ...          NaN          NaN          NaN   \n",
       "4                 0     9  ...          NaN          NaN          NaN   \n",
       "...             ...   ...  ...          ...          ...          ...   \n",
       "91949             7    14  ...     0.046088     0.194175     0.034783   \n",
       "91950             7    14  ...     0.045641     0.194175     0.034783   \n",
       "91951             7    14  ...     0.045355     0.194175     0.034783   \n",
       "91952             7    14  ...     0.045232     0.194175     0.034783   \n",
       "91953             7    14  ...     0.044454     0.194175     0.034783   \n",
       "\n",
       "       mpc40_skew40  mpc40_kurt40  mpc40_qtlu40  mpc40_qtld40  mpc40_rank40  \\\n",
       "0               NaN           NaN           NaN           NaN           NaN   \n",
       "1               NaN           NaN           NaN           NaN           NaN   \n",
       "2               NaN           NaN           NaN           NaN           NaN   \n",
       "3               NaN           NaN           NaN           NaN           NaN   \n",
       "4               NaN           NaN           NaN           NaN           NaN   \n",
       "...             ...           ...           ...           ...           ...   \n",
       "91949     -0.213406     -0.849698      0.154228      0.069565        0.3500   \n",
       "91950     -0.142536     -0.801970      0.150476      0.069565        0.3625   \n",
       "91951     -0.105250     -0.755982      0.148123      0.069565        0.4500   \n",
       "91952     -0.064218     -0.735427      0.148123      0.069565        0.4500   \n",
       "91953      0.005403     -0.624586      0.138150      0.069565        0.3500   \n",
       "\n",
       "       mpc40_imax40  mpc40_imin40  \n",
       "0               NaN           NaN  \n",
       "1               NaN           NaN  \n",
       "2               NaN           NaN  \n",
       "3               NaN           NaN  \n",
       "4               NaN           NaN  \n",
       "...             ...           ...  \n",
       "91949         0.775         0.225  \n",
       "91950         0.800         0.250  \n",
       "91951         0.825         0.275  \n",
       "91952         0.850         0.300  \n",
       "91953         0.875         0.325  \n",
       "\n",
       "[875562 rows x 3540 columns]"
      ]
     },
     "execution_count": 5,
     "metadata": {},
     "output_type": "execute_result"
    }
   ],
   "source": [
    "date41_63"
   ]
  },
  {
   "cell_type": "code",
   "execution_count": 7,
   "id": "99a26791",
   "metadata": {
    "ExecuteTime": {
     "end_time": "2023-08-01T05:48:28.628230Z",
     "start_time": "2023-08-01T05:48:28.608359Z"
    }
   },
   "outputs": [
    {
     "data": {
      "text/plain": [
       "2448775"
      ]
     },
     "execution_count": 7,
     "metadata": {},
     "output_type": "execute_result"
    }
   ],
   "source": [
    "777611 + 795602  + 875562 "
   ]
  },
  {
   "cell_type": "markdown",
   "id": "3e1a813f",
   "metadata": {},
   "source": [
    "# 处理test"
   ]
  },
  {
   "cell_type": "markdown",
   "id": "52ab2e52",
   "metadata": {},
   "source": [
    "## sort; int; encoding"
   ]
  },
  {
   "cell_type": "code",
   "execution_count": 40,
   "id": "0c9d857d",
   "metadata": {
    "ExecuteTime": {
     "end_time": "2023-07-31T06:46:23.750719Z",
     "start_time": "2023-07-31T06:46:13.450695Z"
    }
   },
   "outputs": [],
   "source": [
    "df_test_5 = pd.read_parquet('./feature_data/df_test_5.parquet')"
   ]
  },
  {
   "cell_type": "code",
   "execution_count": 46,
   "id": "27c0381e",
   "metadata": {
    "ExecuteTime": {
     "end_time": "2023-07-31T06:46:39.400264Z",
     "start_time": "2023-07-31T06:46:39.373365Z"
    }
   },
   "outputs": [
    {
     "data": {
      "text/html": [
       "<div>\n",
       "<style scoped>\n",
       "    .dataframe tbody tr th:only-of-type {\n",
       "        vertical-align: middle;\n",
       "    }\n",
       "\n",
       "    .dataframe tbody tr th {\n",
       "        vertical-align: top;\n",
       "    }\n",
       "\n",
       "    .dataframe thead th {\n",
       "        text-align: right;\n",
       "    }\n",
       "</style>\n",
       "<table border=\"1\" class=\"dataframe\">\n",
       "  <thead>\n",
       "    <tr style=\"text-align: right;\">\n",
       "      <th></th>\n",
       "      <th>timeEncoding</th>\n",
       "      <th>hour</th>\n",
       "      <th>minute</th>\n",
       "      <th>second</th>\n",
       "    </tr>\n",
       "  </thead>\n",
       "  <tbody>\n",
       "    <tr>\n",
       "      <th>0</th>\n",
       "      <td>0</td>\n",
       "      <td>9</td>\n",
       "      <td>40</td>\n",
       "      <td>3</td>\n",
       "    </tr>\n",
       "    <tr>\n",
       "      <th>1</th>\n",
       "      <td>0</td>\n",
       "      <td>9</td>\n",
       "      <td>40</td>\n",
       "      <td>6</td>\n",
       "    </tr>\n",
       "    <tr>\n",
       "      <th>2</th>\n",
       "      <td>0</td>\n",
       "      <td>9</td>\n",
       "      <td>40</td>\n",
       "      <td>9</td>\n",
       "    </tr>\n",
       "    <tr>\n",
       "      <th>3</th>\n",
       "      <td>0</td>\n",
       "      <td>9</td>\n",
       "      <td>40</td>\n",
       "      <td>12</td>\n",
       "    </tr>\n",
       "    <tr>\n",
       "      <th>4</th>\n",
       "      <td>0</td>\n",
       "      <td>9</td>\n",
       "      <td>40</td>\n",
       "      <td>15</td>\n",
       "    </tr>\n",
       "    <tr>\n",
       "      <th>...</th>\n",
       "      <td>...</td>\n",
       "      <td>...</td>\n",
       "      <td>...</td>\n",
       "      <td>...</td>\n",
       "    </tr>\n",
       "    <tr>\n",
       "      <th>3993</th>\n",
       "      <td>7</td>\n",
       "      <td>14</td>\n",
       "      <td>49</td>\n",
       "      <td>45</td>\n",
       "    </tr>\n",
       "    <tr>\n",
       "      <th>3994</th>\n",
       "      <td>7</td>\n",
       "      <td>14</td>\n",
       "      <td>49</td>\n",
       "      <td>48</td>\n",
       "    </tr>\n",
       "    <tr>\n",
       "      <th>3995</th>\n",
       "      <td>7</td>\n",
       "      <td>14</td>\n",
       "      <td>49</td>\n",
       "      <td>51</td>\n",
       "    </tr>\n",
       "    <tr>\n",
       "      <th>3996</th>\n",
       "      <td>7</td>\n",
       "      <td>14</td>\n",
       "      <td>49</td>\n",
       "      <td>54</td>\n",
       "    </tr>\n",
       "    <tr>\n",
       "      <th>3997</th>\n",
       "      <td>7</td>\n",
       "      <td>14</td>\n",
       "      <td>49</td>\n",
       "      <td>57</td>\n",
       "    </tr>\n",
       "  </tbody>\n",
       "</table>\n",
       "<p>119940 rows × 4 columns</p>\n",
       "</div>"
      ],
      "text/plain": [
       "      timeEncoding  hour  minute  second\n",
       "0                0     9      40       3\n",
       "1                0     9      40       6\n",
       "2                0     9      40       9\n",
       "3                0     9      40      12\n",
       "4                0     9      40      15\n",
       "...            ...   ...     ...     ...\n",
       "3993             7    14      49      45\n",
       "3994             7    14      49      48\n",
       "3995             7    14      49      51\n",
       "3996             7    14      49      54\n",
       "3997             7    14      49      57\n",
       "\n",
       "[119940 rows x 4 columns]"
      ]
     },
     "execution_count": 46,
     "metadata": {},
     "output_type": "execute_result"
    }
   ],
   "source": [
    "df_test_5[['timeEncoding','hour','minute','second']]"
   ]
  },
  {
   "cell_type": "code",
   "execution_count": 42,
   "id": "4ed7998e",
   "metadata": {
    "ExecuteTime": {
     "end_time": "2023-07-31T06:46:28.145811Z",
     "start_time": "2023-07-31T06:46:23.798670Z"
    }
   },
   "outputs": [],
   "source": [
    "df_test_5[['hour','minute','second']] = df_test_5[['hour','minute','second']].astype('int')"
   ]
  },
  {
   "cell_type": "code",
   "execution_count": 43,
   "id": "28525020",
   "metadata": {
    "ExecuteTime": {
     "end_time": "2023-07-31T06:46:31.987977Z",
     "start_time": "2023-07-31T06:46:28.616404Z"
    }
   },
   "outputs": [],
   "source": [
    "time = pd.to_datetime(df_test_5['time'])\n",
    "trading_time_intervals = [\n",
    "    (pd.to_datetime('09:30:00').time(), pd.to_datetime('10:00:00').time()),\n",
    "    (pd.to_datetime('10:00:00').time(), pd.to_datetime('10:30:00').time()),\n",
    "    (pd.to_datetime('10:30:00').time(), pd.to_datetime('11:00:00').time()),\n",
    "    (pd.to_datetime('11:00:00').time(), pd.to_datetime('11:30:00').time()),\n",
    "    (pd.to_datetime('13:00:00').time(), pd.to_datetime('13:30:00').time()),\n",
    "    (pd.to_datetime('13:30:00').time(), pd.to_datetime('14:00:00').time()),\n",
    "    (pd.to_datetime('14:00:00').time(), pd.to_datetime('14:30:00').time()),\n",
    "    (pd.to_datetime('14:30:00').time(), pd.to_datetime('15:00:00').time())\n",
    "]\n",
    "trading_intervals_encoding = np.zeros((len(df_test_5),), dtype=int)\n",
    "for idx, (start_time, end_time) in enumerate(trading_time_intervals):\n",
    "    mask = (time.dt.time >= start_time) & (time.dt.time < end_time)\n",
    "    trading_intervals_encoding[mask] = idx\n",
    "    \n",
    "df_test_5['timeEncoding'] = trading_intervals_encoding.reshape(-1,1)"
   ]
  },
  {
   "cell_type": "code",
   "execution_count": 44,
   "id": "090e74dc",
   "metadata": {
    "ExecuteTime": {
     "end_time": "2023-07-31T06:46:32.004036Z",
     "start_time": "2023-07-31T06:46:31.988977Z"
    }
   },
   "outputs": [
    {
     "data": {
      "text/plain": [
       "time             object\n",
       "sym               int64\n",
       "date              int64\n",
       "n_close         float64\n",
       "amount_delta    float64\n",
       "                 ...   \n",
       "mpc40_qtlu40    float64\n",
       "mpc40_qtld40    float64\n",
       "mpc40_rank40    float64\n",
       "mpc40_imax40    float64\n",
       "mpc40_imin40    float64\n",
       "Length: 3535, dtype: object"
      ]
     },
     "execution_count": 44,
     "metadata": {},
     "output_type": "execute_result"
    }
   ],
   "source": [
    "df_test_5.dtypes"
   ]
  },
  {
   "cell_type": "code",
   "execution_count": 45,
   "id": "34cd58a7",
   "metadata": {
    "ExecuteTime": {
     "end_time": "2023-07-31T06:46:34.632733Z",
     "start_time": "2023-07-31T06:46:34.562701Z"
    }
   },
   "outputs": [
    {
     "data": {
      "text/html": [
       "<div>\n",
       "<style scoped>\n",
       "    .dataframe tbody tr th:only-of-type {\n",
       "        vertical-align: middle;\n",
       "    }\n",
       "\n",
       "    .dataframe tbody tr th {\n",
       "        vertical-align: top;\n",
       "    }\n",
       "\n",
       "    .dataframe thead th {\n",
       "        text-align: right;\n",
       "    }\n",
       "</style>\n",
       "<table border=\"1\" class=\"dataframe\">\n",
       "  <thead>\n",
       "    <tr style=\"text-align: right;\">\n",
       "      <th></th>\n",
       "      <th>time</th>\n",
       "      <th>sym</th>\n",
       "      <th>date</th>\n",
       "      <th>n_close</th>\n",
       "      <th>amount_delta</th>\n",
       "      <th>n_midprice</th>\n",
       "      <th>n_bid1</th>\n",
       "      <th>n_bsize1</th>\n",
       "      <th>n_bid2</th>\n",
       "      <th>n_bsize2</th>\n",
       "      <th>...</th>\n",
       "      <th>mpc40_std40</th>\n",
       "      <th>mpc40_max40</th>\n",
       "      <th>mpc40_min40</th>\n",
       "      <th>mpc40_skew40</th>\n",
       "      <th>mpc40_kurt40</th>\n",
       "      <th>mpc40_qtlu40</th>\n",
       "      <th>mpc40_qtld40</th>\n",
       "      <th>mpc40_rank40</th>\n",
       "      <th>mpc40_imax40</th>\n",
       "      <th>mpc40_imin40</th>\n",
       "    </tr>\n",
       "  </thead>\n",
       "  <tbody>\n",
       "    <tr>\n",
       "      <th>0</th>\n",
       "      <td>09:40:03</td>\n",
       "      <td>8</td>\n",
       "      <td>64</td>\n",
       "      <td>-0.004695</td>\n",
       "      <td>9540.0</td>\n",
       "      <td>-0.004173</td>\n",
       "      <td>-0.004695</td>\n",
       "      <td>3.864733e-06</td>\n",
       "      <td>-0.005216</td>\n",
       "      <td>2.512076e-05</td>\n",
       "      <td>...</td>\n",
       "      <td>NaN</td>\n",
       "      <td>NaN</td>\n",
       "      <td>NaN</td>\n",
       "      <td>NaN</td>\n",
       "      <td>NaN</td>\n",
       "      <td>NaN</td>\n",
       "      <td>NaN</td>\n",
       "      <td>NaN</td>\n",
       "      <td>NaN</td>\n",
       "      <td>NaN</td>\n",
       "    </tr>\n",
       "    <tr>\n",
       "      <th>1</th>\n",
       "      <td>09:40:06</td>\n",
       "      <td>8</td>\n",
       "      <td>64</td>\n",
       "      <td>-0.005216</td>\n",
       "      <td>207893.0</td>\n",
       "      <td>-0.004956</td>\n",
       "      <td>-0.005216</td>\n",
       "      <td>1.494363e-05</td>\n",
       "      <td>-0.005738</td>\n",
       "      <td>4.637679e-06</td>\n",
       "      <td>...</td>\n",
       "      <td>NaN</td>\n",
       "      <td>NaN</td>\n",
       "      <td>NaN</td>\n",
       "      <td>NaN</td>\n",
       "      <td>NaN</td>\n",
       "      <td>NaN</td>\n",
       "      <td>NaN</td>\n",
       "      <td>NaN</td>\n",
       "      <td>NaN</td>\n",
       "      <td>NaN</td>\n",
       "    </tr>\n",
       "    <tr>\n",
       "      <th>2</th>\n",
       "      <td>09:40:09</td>\n",
       "      <td>8</td>\n",
       "      <td>64</td>\n",
       "      <td>-0.004695</td>\n",
       "      <td>11445.0</td>\n",
       "      <td>-0.004956</td>\n",
       "      <td>-0.005216</td>\n",
       "      <td>1.906601e-05</td>\n",
       "      <td>-0.005738</td>\n",
       "      <td>4.637679e-06</td>\n",
       "      <td>...</td>\n",
       "      <td>NaN</td>\n",
       "      <td>NaN</td>\n",
       "      <td>NaN</td>\n",
       "      <td>NaN</td>\n",
       "      <td>NaN</td>\n",
       "      <td>NaN</td>\n",
       "      <td>NaN</td>\n",
       "      <td>NaN</td>\n",
       "      <td>NaN</td>\n",
       "      <td>NaN</td>\n",
       "    </tr>\n",
       "    <tr>\n",
       "      <th>3</th>\n",
       "      <td>09:40:12</td>\n",
       "      <td>8</td>\n",
       "      <td>64</td>\n",
       "      <td>-0.004695</td>\n",
       "      <td>7632.0</td>\n",
       "      <td>-0.004956</td>\n",
       "      <td>-0.005216</td>\n",
       "      <td>1.906601e-05</td>\n",
       "      <td>-0.005738</td>\n",
       "      <td>4.637679e-06</td>\n",
       "      <td>...</td>\n",
       "      <td>NaN</td>\n",
       "      <td>NaN</td>\n",
       "      <td>NaN</td>\n",
       "      <td>NaN</td>\n",
       "      <td>NaN</td>\n",
       "      <td>NaN</td>\n",
       "      <td>NaN</td>\n",
       "      <td>NaN</td>\n",
       "      <td>NaN</td>\n",
       "      <td>NaN</td>\n",
       "    </tr>\n",
       "    <tr>\n",
       "      <th>4</th>\n",
       "      <td>09:40:15</td>\n",
       "      <td>8</td>\n",
       "      <td>64</td>\n",
       "      <td>-0.004695</td>\n",
       "      <td>0.0</td>\n",
       "      <td>-0.004956</td>\n",
       "      <td>-0.005216</td>\n",
       "      <td>1.906601e-05</td>\n",
       "      <td>-0.005738</td>\n",
       "      <td>5.925923e-06</td>\n",
       "      <td>...</td>\n",
       "      <td>NaN</td>\n",
       "      <td>NaN</td>\n",
       "      <td>NaN</td>\n",
       "      <td>NaN</td>\n",
       "      <td>NaN</td>\n",
       "      <td>NaN</td>\n",
       "      <td>NaN</td>\n",
       "      <td>NaN</td>\n",
       "      <td>NaN</td>\n",
       "      <td>NaN</td>\n",
       "    </tr>\n",
       "    <tr>\n",
       "      <th>...</th>\n",
       "      <td>...</td>\n",
       "      <td>...</td>\n",
       "      <td>...</td>\n",
       "      <td>...</td>\n",
       "      <td>...</td>\n",
       "      <td>...</td>\n",
       "      <td>...</td>\n",
       "      <td>...</td>\n",
       "      <td>...</td>\n",
       "      <td>...</td>\n",
       "      <td>...</td>\n",
       "      <td>...</td>\n",
       "      <td>...</td>\n",
       "      <td>...</td>\n",
       "      <td>...</td>\n",
       "      <td>...</td>\n",
       "      <td>...</td>\n",
       "      <td>...</td>\n",
       "      <td>...</td>\n",
       "      <td>...</td>\n",
       "      <td>...</td>\n",
       "    </tr>\n",
       "    <tr>\n",
       "      <th>3993</th>\n",
       "      <td>14:49:45</td>\n",
       "      <td>9</td>\n",
       "      <td>78</td>\n",
       "      <td>-0.001504</td>\n",
       "      <td>2305964.0</td>\n",
       "      <td>-0.001562</td>\n",
       "      <td>-0.001620</td>\n",
       "      <td>1.455123e-06</td>\n",
       "      <td>-0.001736</td>\n",
       "      <td>1.192544e-06</td>\n",
       "      <td>...</td>\n",
       "      <td>0.137856</td>\n",
       "      <td>-0.000000</td>\n",
       "      <td>-0.711111</td>\n",
       "      <td>1.751039</td>\n",
       "      <td>4.577189</td>\n",
       "      <td>-0.444049</td>\n",
       "      <td>-0.63013</td>\n",
       "      <td>1.0000</td>\n",
       "      <td>0.025</td>\n",
       "      <td>0.700</td>\n",
       "    </tr>\n",
       "    <tr>\n",
       "      <th>3994</th>\n",
       "      <td>14:49:48</td>\n",
       "      <td>9</td>\n",
       "      <td>78</td>\n",
       "      <td>-0.001620</td>\n",
       "      <td>3132273.0</td>\n",
       "      <td>-0.001678</td>\n",
       "      <td>-0.001736</td>\n",
       "      <td>8.971435e-07</td>\n",
       "      <td>-0.001851</td>\n",
       "      <td>9.297470e-07</td>\n",
       "      <td>...</td>\n",
       "      <td>0.160629</td>\n",
       "      <td>-0.000000</td>\n",
       "      <td>-0.711111</td>\n",
       "      <td>1.884315</td>\n",
       "      <td>4.079560</td>\n",
       "      <td>-0.444049</td>\n",
       "      <td>-0.63013</td>\n",
       "      <td>0.9875</td>\n",
       "      <td>0.050</td>\n",
       "      <td>0.725</td>\n",
       "    </tr>\n",
       "    <tr>\n",
       "      <th>3995</th>\n",
       "      <td>14:49:51</td>\n",
       "      <td>9</td>\n",
       "      <td>78</td>\n",
       "      <td>-0.001736</td>\n",
       "      <td>2364061.0</td>\n",
       "      <td>-0.001793</td>\n",
       "      <td>-0.001851</td>\n",
       "      <td>7.601650e-07</td>\n",
       "      <td>-0.001967</td>\n",
       "      <td>4.069968e-06</td>\n",
       "      <td>...</td>\n",
       "      <td>0.185259</td>\n",
       "      <td>0.068966</td>\n",
       "      <td>-0.711111</td>\n",
       "      <td>1.901927</td>\n",
       "      <td>3.451461</td>\n",
       "      <td>-0.444049</td>\n",
       "      <td>-0.63013</td>\n",
       "      <td>1.0000</td>\n",
       "      <td>0.025</td>\n",
       "      <td>0.750</td>\n",
       "    </tr>\n",
       "    <tr>\n",
       "      <th>3996</th>\n",
       "      <td>14:49:54</td>\n",
       "      <td>9</td>\n",
       "      <td>78</td>\n",
       "      <td>-0.001851</td>\n",
       "      <td>20587972.0</td>\n",
       "      <td>-0.002256</td>\n",
       "      <td>-0.002661</td>\n",
       "      <td>3.260351e-08</td>\n",
       "      <td>-0.002777</td>\n",
       "      <td>4.321606e-07</td>\n",
       "      <td>...</td>\n",
       "      <td>0.228848</td>\n",
       "      <td>0.344828</td>\n",
       "      <td>-0.711111</td>\n",
       "      <td>2.168181</td>\n",
       "      <td>4.691121</td>\n",
       "      <td>-0.444049</td>\n",
       "      <td>-0.63013</td>\n",
       "      <td>1.0000</td>\n",
       "      <td>0.025</td>\n",
       "      <td>0.775</td>\n",
       "    </tr>\n",
       "    <tr>\n",
       "      <th>3997</th>\n",
       "      <td>14:49:57</td>\n",
       "      <td>9</td>\n",
       "      <td>78</td>\n",
       "      <td>-0.001967</td>\n",
       "      <td>1526620.0</td>\n",
       "      <td>-0.002372</td>\n",
       "      <td>-0.002777</td>\n",
       "      <td>3.225340e-07</td>\n",
       "      <td>-0.002893</td>\n",
       "      <td>8.205581e-08</td>\n",
       "      <td>...</td>\n",
       "      <td>0.323171</td>\n",
       "      <td>0.952381</td>\n",
       "      <td>-0.711111</td>\n",
       "      <td>2.818302</td>\n",
       "      <td>9.187465</td>\n",
       "      <td>-0.405109</td>\n",
       "      <td>-0.63013</td>\n",
       "      <td>1.0000</td>\n",
       "      <td>0.025</td>\n",
       "      <td>0.800</td>\n",
       "    </tr>\n",
       "  </tbody>\n",
       "</table>\n",
       "<p>119940 rows × 3535 columns</p>\n",
       "</div>"
      ],
      "text/plain": [
       "          time  sym  date   n_close  amount_delta  n_midprice    n_bid1  \\\n",
       "0     09:40:03    8    64 -0.004695        9540.0   -0.004173 -0.004695   \n",
       "1     09:40:06    8    64 -0.005216      207893.0   -0.004956 -0.005216   \n",
       "2     09:40:09    8    64 -0.004695       11445.0   -0.004956 -0.005216   \n",
       "3     09:40:12    8    64 -0.004695        7632.0   -0.004956 -0.005216   \n",
       "4     09:40:15    8    64 -0.004695           0.0   -0.004956 -0.005216   \n",
       "...        ...  ...   ...       ...           ...         ...       ...   \n",
       "3993  14:49:45    9    78 -0.001504     2305964.0   -0.001562 -0.001620   \n",
       "3994  14:49:48    9    78 -0.001620     3132273.0   -0.001678 -0.001736   \n",
       "3995  14:49:51    9    78 -0.001736     2364061.0   -0.001793 -0.001851   \n",
       "3996  14:49:54    9    78 -0.001851    20587972.0   -0.002256 -0.002661   \n",
       "3997  14:49:57    9    78 -0.001967     1526620.0   -0.002372 -0.002777   \n",
       "\n",
       "          n_bsize1    n_bid2      n_bsize2  ...  mpc40_std40  mpc40_max40  \\\n",
       "0     3.864733e-06 -0.005216  2.512076e-05  ...          NaN          NaN   \n",
       "1     1.494363e-05 -0.005738  4.637679e-06  ...          NaN          NaN   \n",
       "2     1.906601e-05 -0.005738  4.637679e-06  ...          NaN          NaN   \n",
       "3     1.906601e-05 -0.005738  4.637679e-06  ...          NaN          NaN   \n",
       "4     1.906601e-05 -0.005738  5.925923e-06  ...          NaN          NaN   \n",
       "...            ...       ...           ...  ...          ...          ...   \n",
       "3993  1.455123e-06 -0.001736  1.192544e-06  ...     0.137856    -0.000000   \n",
       "3994  8.971435e-07 -0.001851  9.297470e-07  ...     0.160629    -0.000000   \n",
       "3995  7.601650e-07 -0.001967  4.069968e-06  ...     0.185259     0.068966   \n",
       "3996  3.260351e-08 -0.002777  4.321606e-07  ...     0.228848     0.344828   \n",
       "3997  3.225340e-07 -0.002893  8.205581e-08  ...     0.323171     0.952381   \n",
       "\n",
       "      mpc40_min40  mpc40_skew40  mpc40_kurt40  mpc40_qtlu40  mpc40_qtld40  \\\n",
       "0             NaN           NaN           NaN           NaN           NaN   \n",
       "1             NaN           NaN           NaN           NaN           NaN   \n",
       "2             NaN           NaN           NaN           NaN           NaN   \n",
       "3             NaN           NaN           NaN           NaN           NaN   \n",
       "4             NaN           NaN           NaN           NaN           NaN   \n",
       "...           ...           ...           ...           ...           ...   \n",
       "3993    -0.711111      1.751039      4.577189     -0.444049      -0.63013   \n",
       "3994    -0.711111      1.884315      4.079560     -0.444049      -0.63013   \n",
       "3995    -0.711111      1.901927      3.451461     -0.444049      -0.63013   \n",
       "3996    -0.711111      2.168181      4.691121     -0.444049      -0.63013   \n",
       "3997    -0.711111      2.818302      9.187465     -0.405109      -0.63013   \n",
       "\n",
       "      mpc40_rank40  mpc40_imax40  mpc40_imin40  \n",
       "0              NaN           NaN           NaN  \n",
       "1              NaN           NaN           NaN  \n",
       "2              NaN           NaN           NaN  \n",
       "3              NaN           NaN           NaN  \n",
       "4              NaN           NaN           NaN  \n",
       "...            ...           ...           ...  \n",
       "3993        1.0000         0.025         0.700  \n",
       "3994        0.9875         0.050         0.725  \n",
       "3995        1.0000         0.025         0.750  \n",
       "3996        1.0000         0.025         0.775  \n",
       "3997        1.0000         0.025         0.800  \n",
       "\n",
       "[119940 rows x 3535 columns]"
      ]
     },
     "execution_count": 45,
     "metadata": {},
     "output_type": "execute_result"
    }
   ],
   "source": [
    "df_test_5"
   ]
  },
  {
   "cell_type": "code",
   "execution_count": 47,
   "id": "e334765b",
   "metadata": {
    "ExecuteTime": {
     "end_time": "2023-07-31T06:47:07.173045Z",
     "start_time": "2023-07-31T06:46:46.241318Z"
    }
   },
   "outputs": [],
   "source": [
    "df_test_5.to_parquet('./feature_data/df_test_5.parquet')"
   ]
  },
  {
   "cell_type": "code",
   "execution_count": null,
   "id": "f6009f99",
   "metadata": {},
   "outputs": [],
   "source": []
  },
  {
   "cell_type": "markdown",
   "id": "c6582c33",
   "metadata": {},
   "source": [
    "## 转float32"
   ]
  },
  {
   "cell_type": "code",
   "execution_count": 2,
   "id": "5922fa2f",
   "metadata": {
    "ExecuteTime": {
     "end_time": "2023-08-01T00:36:39.217501Z",
     "start_time": "2023-08-01T00:36:36.014735Z"
    }
   },
   "outputs": [],
   "source": [
    "df_test_1 = pd.read_parquet('./feature_data/df_test_1.parquet')"
   ]
  },
  {
   "cell_type": "code",
   "execution_count": 3,
   "id": "764ec1c0",
   "metadata": {
    "ExecuteTime": {
     "end_time": "2023-08-01T00:36:39.233067Z",
     "start_time": "2023-08-01T00:36:39.217501Z"
    }
   },
   "outputs": [],
   "source": [
    "cols_to_remove = ['timeEncoding','hour','minute','second','sym','date','time']\n",
    "col_to_f32 = [col for col in df_test_1.columns.to_list() if col not in cols_to_remove]"
   ]
  },
  {
   "cell_type": "code",
   "execution_count": 4,
   "id": "2e6d7b93",
   "metadata": {
    "ExecuteTime": {
     "end_time": "2023-08-01T00:36:40.516194Z",
     "start_time": "2023-08-01T00:36:40.504233Z"
    }
   },
   "outputs": [
    {
     "data": {
      "text/plain": [
       "3535"
      ]
     },
     "execution_count": 4,
     "metadata": {},
     "output_type": "execute_result"
    }
   ],
   "source": [
    "df_test_1.shape[1]"
   ]
  },
  {
   "cell_type": "code",
   "execution_count": 5,
   "id": "e862f650",
   "metadata": {
    "ExecuteTime": {
     "end_time": "2023-08-01T00:37:36.538241Z",
     "start_time": "2023-08-01T00:37:06.161391Z"
    }
   },
   "outputs": [
    {
     "name": "stderr",
     "output_type": "stream",
     "text": [
      "100%|████████████████████████████████████████████████████████████████████████████████████| 8/8 [00:30<00:00,  3.80s/it]\n"
     ]
    }
   ],
   "source": [
    "for i in tqdm(range(8)):\n",
    "    col = col_to_f32[i*500:(i+1)*500]\n",
    "    df_test_1[col].astype(np.float32).to_parquet(f'./feature_data_f32/df_test_1_{i}.parquet')"
   ]
  },
  {
   "cell_type": "code",
   "execution_count": 6,
   "id": "5bbccc77",
   "metadata": {
    "ExecuteTime": {
     "end_time": "2023-08-01T00:37:36.945473Z",
     "start_time": "2023-08-01T00:37:36.538241Z"
    }
   },
   "outputs": [
    {
     "data": {
      "text/plain": [
       "0"
      ]
     },
     "execution_count": 6,
     "metadata": {},
     "output_type": "execute_result"
    }
   ],
   "source": [
    "del df_test_1\n",
    "gc.collect()"
   ]
  },
  {
   "cell_type": "code",
   "execution_count": 7,
   "id": "033545e7",
   "metadata": {
    "ExecuteTime": {
     "end_time": "2023-08-01T00:37:39.983335Z",
     "start_time": "2023-08-01T00:37:36.945473Z"
    }
   },
   "outputs": [],
   "source": [
    "df_test_2 = pd.read_parquet('./feature_data/df_test_2.parquet')"
   ]
  },
  {
   "cell_type": "code",
   "execution_count": 8,
   "id": "49c6e945",
   "metadata": {
    "ExecuteTime": {
     "end_time": "2023-08-01T00:37:39.989904Z",
     "start_time": "2023-08-01T00:37:39.984338Z"
    }
   },
   "outputs": [
    {
     "data": {
      "text/plain": [
       "3535"
      ]
     },
     "execution_count": 8,
     "metadata": {},
     "output_type": "execute_result"
    }
   ],
   "source": [
    "df_test_2.shape[1]"
   ]
  },
  {
   "cell_type": "code",
   "execution_count": 9,
   "id": "a219032b",
   "metadata": {
    "ExecuteTime": {
     "end_time": "2023-08-01T00:38:09.872162Z",
     "start_time": "2023-08-01T00:37:39.989904Z"
    }
   },
   "outputs": [
    {
     "name": "stderr",
     "output_type": "stream",
     "text": [
      "100%|████████████████████████████████████████████████████████████████████████████████████| 8/8 [00:29<00:00,  3.73s/it]\n"
     ]
    }
   ],
   "source": [
    "for i in tqdm(range(8)):\n",
    "    col = col_to_f32[i*500:(i+1)*500]\n",
    "    df_test_2[col].astype(np.float32).to_parquet(f'./feature_data_f32/df_test_2_{i}.parquet')"
   ]
  },
  {
   "cell_type": "code",
   "execution_count": 10,
   "id": "19710fc6",
   "metadata": {
    "ExecuteTime": {
     "end_time": "2023-08-01T00:38:10.228775Z",
     "start_time": "2023-08-01T00:38:09.874412Z"
    }
   },
   "outputs": [
    {
     "data": {
      "text/plain": [
       "0"
      ]
     },
     "execution_count": 10,
     "metadata": {},
     "output_type": "execute_result"
    }
   ],
   "source": [
    "del df_test_2\n",
    "gc.collect()"
   ]
  },
  {
   "cell_type": "code",
   "execution_count": 11,
   "id": "34d68d3c",
   "metadata": {
    "ExecuteTime": {
     "end_time": "2023-08-01T00:38:13.574066Z",
     "start_time": "2023-08-01T00:38:10.234249Z"
    }
   },
   "outputs": [],
   "source": [
    "df_test_3 = pd.read_parquet('./feature_data/df_test_3.parquet')"
   ]
  },
  {
   "cell_type": "code",
   "execution_count": 12,
   "id": "d768659f",
   "metadata": {
    "ExecuteTime": {
     "end_time": "2023-08-01T00:38:13.589609Z",
     "start_time": "2023-08-01T00:38:13.576059Z"
    }
   },
   "outputs": [
    {
     "data": {
      "text/plain": [
       "3535"
      ]
     },
     "execution_count": 12,
     "metadata": {},
     "output_type": "execute_result"
    }
   ],
   "source": [
    "df_test_3.shape[1]"
   ]
  },
  {
   "cell_type": "code",
   "execution_count": 13,
   "id": "2e6d581a",
   "metadata": {
    "ExecuteTime": {
     "end_time": "2023-08-01T00:38:41.978246Z",
     "start_time": "2023-08-01T00:38:13.589609Z"
    }
   },
   "outputs": [
    {
     "name": "stderr",
     "output_type": "stream",
     "text": [
      "100%|████████████████████████████████████████████████████████████████████████████████████| 8/8 [00:28<00:00,  3.55s/it]\n"
     ]
    }
   ],
   "source": [
    "for i in tqdm(range(8)):\n",
    "    col = col_to_f32[i*500:(i+1)*500]\n",
    "    df_test_3[col].astype(np.float32).to_parquet(f'./feature_data_f32/df_test_3_{i}.parquet')"
   ]
  },
  {
   "cell_type": "code",
   "execution_count": 14,
   "id": "5bf7bd27",
   "metadata": {
    "ExecuteTime": {
     "end_time": "2023-08-01T00:38:42.358678Z",
     "start_time": "2023-08-01T00:38:41.981982Z"
    }
   },
   "outputs": [
    {
     "data": {
      "text/plain": [
       "0"
      ]
     },
     "execution_count": 14,
     "metadata": {},
     "output_type": "execute_result"
    }
   ],
   "source": [
    "del df_test_3\n",
    "gc.collect()"
   ]
  },
  {
   "cell_type": "code",
   "execution_count": 15,
   "id": "d86b2c6f",
   "metadata": {
    "ExecuteTime": {
     "end_time": "2023-08-01T00:38:45.725417Z",
     "start_time": "2023-08-01T00:38:42.361011Z"
    }
   },
   "outputs": [],
   "source": [
    "df_test_4 = pd.read_parquet('./feature_data/df_test_4.parquet')"
   ]
  },
  {
   "cell_type": "code",
   "execution_count": 16,
   "id": "6fabbb40",
   "metadata": {
    "ExecuteTime": {
     "end_time": "2023-08-01T00:38:45.739117Z",
     "start_time": "2023-08-01T00:38:45.727061Z"
    }
   },
   "outputs": [
    {
     "data": {
      "text/plain": [
       "3535"
      ]
     },
     "execution_count": 16,
     "metadata": {},
     "output_type": "execute_result"
    }
   ],
   "source": [
    "df_test_4.shape[1]"
   ]
  },
  {
   "cell_type": "code",
   "execution_count": 17,
   "id": "af07dcec",
   "metadata": {
    "ExecuteTime": {
     "end_time": "2023-08-01T00:39:15.373917Z",
     "start_time": "2023-08-01T00:38:45.740768Z"
    }
   },
   "outputs": [
    {
     "name": "stderr",
     "output_type": "stream",
     "text": [
      "100%|████████████████████████████████████████████████████████████████████████████████████| 8/8 [00:29<00:00,  3.70s/it]\n"
     ]
    }
   ],
   "source": [
    "for i in tqdm(range(8)):\n",
    "    col = col_to_f32[i*500:(i+1)*500]\n",
    "    df_test_4[col].astype(np.float32).to_parquet(f'./feature_data_f32/df_test_4_{i}.parquet')"
   ]
  },
  {
   "cell_type": "code",
   "execution_count": 18,
   "id": "053bb23d",
   "metadata": {
    "ExecuteTime": {
     "end_time": "2023-08-01T00:39:15.742375Z",
     "start_time": "2023-08-01T00:39:15.373917Z"
    }
   },
   "outputs": [
    {
     "data": {
      "text/plain": [
       "0"
      ]
     },
     "execution_count": 18,
     "metadata": {},
     "output_type": "execute_result"
    }
   ],
   "source": [
    "del df_test_4\n",
    "gc.collect()"
   ]
  },
  {
   "cell_type": "code",
   "execution_count": 19,
   "id": "739fe7d9",
   "metadata": {
    "ExecuteTime": {
     "end_time": "2023-08-01T00:39:19.087400Z",
     "start_time": "2023-08-01T00:39:15.744431Z"
    }
   },
   "outputs": [],
   "source": [
    "df_test_5 = pd.read_parquet('./feature_data/df_test_5.parquet')"
   ]
  },
  {
   "cell_type": "code",
   "execution_count": 20,
   "id": "6baf58ad",
   "metadata": {
    "ExecuteTime": {
     "end_time": "2023-08-01T00:39:19.145562Z",
     "start_time": "2023-08-01T00:39:19.087400Z"
    }
   },
   "outputs": [
    {
     "data": {
      "text/plain": [
       "3535"
      ]
     },
     "execution_count": 20,
     "metadata": {},
     "output_type": "execute_result"
    }
   ],
   "source": [
    "df_test_5.shape[1]"
   ]
  },
  {
   "cell_type": "code",
   "execution_count": 21,
   "id": "c8c09a15",
   "metadata": {
    "ExecuteTime": {
     "end_time": "2023-08-01T00:39:51.170787Z",
     "start_time": "2023-08-01T00:39:19.149949Z"
    }
   },
   "outputs": [
    {
     "name": "stderr",
     "output_type": "stream",
     "text": [
      "100%|████████████████████████████████████████████████████████████████████████████████████| 8/8 [00:31<00:00,  4.00s/it]\n"
     ]
    }
   ],
   "source": [
    "for i in tqdm(range(8)):\n",
    "    col = col_to_f32[i*500:(i+1)*500]\n",
    "    df_test_5[col].astype(np.float32).to_parquet(f'./feature_data_f32/df_test_5_{i}.parquet')"
   ]
  },
  {
   "cell_type": "code",
   "execution_count": 22,
   "id": "51d2979f",
   "metadata": {
    "ExecuteTime": {
     "end_time": "2023-08-01T00:39:51.542506Z",
     "start_time": "2023-08-01T00:39:51.171847Z"
    }
   },
   "outputs": [
    {
     "data": {
      "text/plain": [
       "0"
      ]
     },
     "execution_count": 22,
     "metadata": {},
     "output_type": "execute_result"
    }
   ],
   "source": [
    "del df_test_5\n",
    "gc.collect()"
   ]
  },
  {
   "cell_type": "code",
   "execution_count": null,
   "id": "3a6ccccf",
   "metadata": {},
   "outputs": [],
   "source": []
  },
  {
   "cell_type": "markdown",
   "id": "0884ac97",
   "metadata": {},
   "source": [
    "## 拼接 & 加label"
   ]
  },
  {
   "cell_type": "code",
   "execution_count": 2,
   "id": "d73869af",
   "metadata": {
    "ExecuteTime": {
     "end_time": "2023-08-01T01:00:48.713158Z",
     "start_time": "2023-08-01T00:57:36.584951Z"
    }
   },
   "outputs": [
    {
     "name": "stderr",
     "output_type": "stream",
     "text": [
      "100%|████████████████████████████████████████████████████████████████████████████████████| 5/5 [03:12<00:00, 38.42s/it]\n"
     ]
    }
   ],
   "source": [
    "for i in tqdm(range(1,6)):\n",
    "    tmp = pd.read_parquet(f'./feature_data/df_test_{i}.parquet')\n",
    "    df_test = tmp[['sym','date','time','timeEncoding','hour','minute','second']]\n",
    "    del tmp\n",
    "    gc.collect()\n",
    "    for j in range(8):\n",
    "        tmp1 = pd.read_parquet(f'./feature_data_f32/df_test_{i}_{j}.parquet')\n",
    "        df_test = pd.concat([df_test, tmp1], axis=1)\n",
    "        del tmp1\n",
    "        gc.collect()\n",
    "    df_test.to_parquet(f'./feature_data_f32/df_test_{i}.parquet')\n",
    "    del df_test\n",
    "    gc.collect()"
   ]
  },
  {
   "cell_type": "code",
   "execution_count": 3,
   "id": "20264606",
   "metadata": {
    "ExecuteTime": {
     "end_time": "2023-08-01T01:02:05.050667Z",
     "start_time": "2023-08-01T01:01:05.595535Z"
    }
   },
   "outputs": [
    {
     "name": "stderr",
     "output_type": "stream",
     "text": [
      "100%|████████████████████████████████████████████████████████████████████████████████████| 5/5 [00:59<00:00, 11.88s/it]\n"
     ]
    }
   ],
   "source": [
    "df_test = pd.DataFrame()\n",
    "for i in tqdm(range(1,6)):\n",
    "    tmp = pd.read_parquet(f'./feature_data_f32/df_test_{i}.parquet')\n",
    "    df_test = pd.concat([df_test, tmp], axis=0)"
   ]
  },
  {
   "cell_type": "code",
   "execution_count": 4,
   "id": "bb5599a4",
   "metadata": {
    "ExecuteTime": {
     "end_time": "2023-08-01T01:02:05.114192Z",
     "start_time": "2023-08-01T01:02:05.080134Z"
    }
   },
   "outputs": [
    {
     "data": {
      "text/plain": [
       "(591704, 3535)"
      ]
     },
     "execution_count": 4,
     "metadata": {},
     "output_type": "execute_result"
    }
   ],
   "source": [
    "df_test.shape"
   ]
  },
  {
   "cell_type": "code",
   "execution_count": 5,
   "id": "41b5d186",
   "metadata": {
    "ExecuteTime": {
     "end_time": "2023-08-01T01:02:05.478078Z",
     "start_time": "2023-08-01T01:02:05.115513Z"
    }
   },
   "outputs": [
    {
     "data": {
      "text/html": [
       "<div>\n",
       "<style scoped>\n",
       "    .dataframe tbody tr th:only-of-type {\n",
       "        vertical-align: middle;\n",
       "    }\n",
       "\n",
       "    .dataframe tbody tr th {\n",
       "        vertical-align: top;\n",
       "    }\n",
       "\n",
       "    .dataframe thead th {\n",
       "        text-align: right;\n",
       "    }\n",
       "</style>\n",
       "<table border=\"1\" class=\"dataframe\">\n",
       "  <thead>\n",
       "    <tr style=\"text-align: right;\">\n",
       "      <th></th>\n",
       "      <th>sym</th>\n",
       "      <th>date</th>\n",
       "      <th>time</th>\n",
       "      <th>timeEncoding</th>\n",
       "      <th>hour</th>\n",
       "      <th>minute</th>\n",
       "      <th>second</th>\n",
       "      <th>n_close</th>\n",
       "      <th>amount_delta</th>\n",
       "      <th>n_midprice</th>\n",
       "      <th>...</th>\n",
       "      <th>mpc40_std40</th>\n",
       "      <th>mpc40_max40</th>\n",
       "      <th>mpc40_min40</th>\n",
       "      <th>mpc40_skew40</th>\n",
       "      <th>mpc40_kurt40</th>\n",
       "      <th>mpc40_qtlu40</th>\n",
       "      <th>mpc40_qtld40</th>\n",
       "      <th>mpc40_rank40</th>\n",
       "      <th>mpc40_imax40</th>\n",
       "      <th>mpc40_imin40</th>\n",
       "    </tr>\n",
       "  </thead>\n",
       "  <tbody>\n",
       "    <tr>\n",
       "      <th>0</th>\n",
       "      <td>0</td>\n",
       "      <td>64</td>\n",
       "      <td>09:40:03</td>\n",
       "      <td>0</td>\n",
       "      <td>9</td>\n",
       "      <td>40</td>\n",
       "      <td>3</td>\n",
       "      <td>0.075679</td>\n",
       "      <td>6954413.0</td>\n",
       "      <td>0.075775</td>\n",
       "      <td>...</td>\n",
       "      <td>NaN</td>\n",
       "      <td>NaN</td>\n",
       "      <td>NaN</td>\n",
       "      <td>NaN</td>\n",
       "      <td>NaN</td>\n",
       "      <td>NaN</td>\n",
       "      <td>NaN</td>\n",
       "      <td>NaN</td>\n",
       "      <td>NaN</td>\n",
       "      <td>NaN</td>\n",
       "    </tr>\n",
       "    <tr>\n",
       "      <th>1</th>\n",
       "      <td>0</td>\n",
       "      <td>64</td>\n",
       "      <td>09:40:06</td>\n",
       "      <td>0</td>\n",
       "      <td>9</td>\n",
       "      <td>40</td>\n",
       "      <td>6</td>\n",
       "      <td>0.076256</td>\n",
       "      <td>13722908.0</td>\n",
       "      <td>0.076160</td>\n",
       "      <td>...</td>\n",
       "      <td>NaN</td>\n",
       "      <td>NaN</td>\n",
       "      <td>NaN</td>\n",
       "      <td>NaN</td>\n",
       "      <td>NaN</td>\n",
       "      <td>NaN</td>\n",
       "      <td>NaN</td>\n",
       "      <td>NaN</td>\n",
       "      <td>NaN</td>\n",
       "      <td>NaN</td>\n",
       "    </tr>\n",
       "    <tr>\n",
       "      <th>2</th>\n",
       "      <td>0</td>\n",
       "      <td>64</td>\n",
       "      <td>09:40:09</td>\n",
       "      <td>0</td>\n",
       "      <td>9</td>\n",
       "      <td>40</td>\n",
       "      <td>9</td>\n",
       "      <td>0.077027</td>\n",
       "      <td>21771348.0</td>\n",
       "      <td>0.077123</td>\n",
       "      <td>...</td>\n",
       "      <td>NaN</td>\n",
       "      <td>NaN</td>\n",
       "      <td>NaN</td>\n",
       "      <td>NaN</td>\n",
       "      <td>NaN</td>\n",
       "      <td>NaN</td>\n",
       "      <td>NaN</td>\n",
       "      <td>NaN</td>\n",
       "      <td>NaN</td>\n",
       "      <td>NaN</td>\n",
       "    </tr>\n",
       "    <tr>\n",
       "      <th>3</th>\n",
       "      <td>0</td>\n",
       "      <td>64</td>\n",
       "      <td>09:40:12</td>\n",
       "      <td>0</td>\n",
       "      <td>9</td>\n",
       "      <td>40</td>\n",
       "      <td>12</td>\n",
       "      <td>0.077027</td>\n",
       "      <td>2925847.0</td>\n",
       "      <td>0.077508</td>\n",
       "      <td>...</td>\n",
       "      <td>NaN</td>\n",
       "      <td>NaN</td>\n",
       "      <td>NaN</td>\n",
       "      <td>NaN</td>\n",
       "      <td>NaN</td>\n",
       "      <td>NaN</td>\n",
       "      <td>NaN</td>\n",
       "      <td>NaN</td>\n",
       "      <td>NaN</td>\n",
       "      <td>NaN</td>\n",
       "    </tr>\n",
       "    <tr>\n",
       "      <th>4</th>\n",
       "      <td>0</td>\n",
       "      <td>64</td>\n",
       "      <td>09:40:15</td>\n",
       "      <td>0</td>\n",
       "      <td>9</td>\n",
       "      <td>40</td>\n",
       "      <td>15</td>\n",
       "      <td>0.078375</td>\n",
       "      <td>9831626.0</td>\n",
       "      <td>0.078182</td>\n",
       "      <td>...</td>\n",
       "      <td>NaN</td>\n",
       "      <td>NaN</td>\n",
       "      <td>NaN</td>\n",
       "      <td>NaN</td>\n",
       "      <td>NaN</td>\n",
       "      <td>NaN</td>\n",
       "      <td>NaN</td>\n",
       "      <td>NaN</td>\n",
       "      <td>NaN</td>\n",
       "      <td>NaN</td>\n",
       "    </tr>\n",
       "    <tr>\n",
       "      <th>...</th>\n",
       "      <td>...</td>\n",
       "      <td>...</td>\n",
       "      <td>...</td>\n",
       "      <td>...</td>\n",
       "      <td>...</td>\n",
       "      <td>...</td>\n",
       "      <td>...</td>\n",
       "      <td>...</td>\n",
       "      <td>...</td>\n",
       "      <td>...</td>\n",
       "      <td>...</td>\n",
       "      <td>...</td>\n",
       "      <td>...</td>\n",
       "      <td>...</td>\n",
       "      <td>...</td>\n",
       "      <td>...</td>\n",
       "      <td>...</td>\n",
       "      <td>...</td>\n",
       "      <td>...</td>\n",
       "      <td>...</td>\n",
       "      <td>...</td>\n",
       "    </tr>\n",
       "    <tr>\n",
       "      <th>3993</th>\n",
       "      <td>9</td>\n",
       "      <td>78</td>\n",
       "      <td>14:49:45</td>\n",
       "      <td>7</td>\n",
       "      <td>14</td>\n",
       "      <td>49</td>\n",
       "      <td>45</td>\n",
       "      <td>-0.001504</td>\n",
       "      <td>2305964.0</td>\n",
       "      <td>-0.001562</td>\n",
       "      <td>...</td>\n",
       "      <td>0.137856</td>\n",
       "      <td>-0.000000</td>\n",
       "      <td>-0.711111</td>\n",
       "      <td>1.751040</td>\n",
       "      <td>4.577188</td>\n",
       "      <td>-0.444049</td>\n",
       "      <td>-0.63013</td>\n",
       "      <td>1.0000</td>\n",
       "      <td>0.025</td>\n",
       "      <td>0.700</td>\n",
       "    </tr>\n",
       "    <tr>\n",
       "      <th>3994</th>\n",
       "      <td>9</td>\n",
       "      <td>78</td>\n",
       "      <td>14:49:48</td>\n",
       "      <td>7</td>\n",
       "      <td>14</td>\n",
       "      <td>49</td>\n",
       "      <td>48</td>\n",
       "      <td>-0.001620</td>\n",
       "      <td>3132273.0</td>\n",
       "      <td>-0.001678</td>\n",
       "      <td>...</td>\n",
       "      <td>0.160629</td>\n",
       "      <td>-0.000000</td>\n",
       "      <td>-0.711111</td>\n",
       "      <td>1.884315</td>\n",
       "      <td>4.079560</td>\n",
       "      <td>-0.444049</td>\n",
       "      <td>-0.63013</td>\n",
       "      <td>0.9875</td>\n",
       "      <td>0.050</td>\n",
       "      <td>0.725</td>\n",
       "    </tr>\n",
       "    <tr>\n",
       "      <th>3995</th>\n",
       "      <td>9</td>\n",
       "      <td>78</td>\n",
       "      <td>14:49:51</td>\n",
       "      <td>7</td>\n",
       "      <td>14</td>\n",
       "      <td>49</td>\n",
       "      <td>51</td>\n",
       "      <td>-0.001736</td>\n",
       "      <td>2364061.0</td>\n",
       "      <td>-0.001793</td>\n",
       "      <td>...</td>\n",
       "      <td>0.185259</td>\n",
       "      <td>0.068966</td>\n",
       "      <td>-0.711111</td>\n",
       "      <td>1.901927</td>\n",
       "      <td>3.451461</td>\n",
       "      <td>-0.444049</td>\n",
       "      <td>-0.63013</td>\n",
       "      <td>1.0000</td>\n",
       "      <td>0.025</td>\n",
       "      <td>0.750</td>\n",
       "    </tr>\n",
       "    <tr>\n",
       "      <th>3996</th>\n",
       "      <td>9</td>\n",
       "      <td>78</td>\n",
       "      <td>14:49:54</td>\n",
       "      <td>7</td>\n",
       "      <td>14</td>\n",
       "      <td>49</td>\n",
       "      <td>54</td>\n",
       "      <td>-0.001851</td>\n",
       "      <td>20587972.0</td>\n",
       "      <td>-0.002256</td>\n",
       "      <td>...</td>\n",
       "      <td>0.228848</td>\n",
       "      <td>0.344828</td>\n",
       "      <td>-0.711111</td>\n",
       "      <td>2.168181</td>\n",
       "      <td>4.691121</td>\n",
       "      <td>-0.444049</td>\n",
       "      <td>-0.63013</td>\n",
       "      <td>1.0000</td>\n",
       "      <td>0.025</td>\n",
       "      <td>0.775</td>\n",
       "    </tr>\n",
       "    <tr>\n",
       "      <th>3997</th>\n",
       "      <td>9</td>\n",
       "      <td>78</td>\n",
       "      <td>14:49:57</td>\n",
       "      <td>7</td>\n",
       "      <td>14</td>\n",
       "      <td>49</td>\n",
       "      <td>57</td>\n",
       "      <td>-0.001967</td>\n",
       "      <td>1526620.0</td>\n",
       "      <td>-0.002372</td>\n",
       "      <td>...</td>\n",
       "      <td>0.323171</td>\n",
       "      <td>0.952381</td>\n",
       "      <td>-0.711111</td>\n",
       "      <td>2.818302</td>\n",
       "      <td>9.187465</td>\n",
       "      <td>-0.405109</td>\n",
       "      <td>-0.63013</td>\n",
       "      <td>1.0000</td>\n",
       "      <td>0.025</td>\n",
       "      <td>0.800</td>\n",
       "    </tr>\n",
       "  </tbody>\n",
       "</table>\n",
       "<p>591704 rows × 3535 columns</p>\n",
       "</div>"
      ],
      "text/plain": [
       "      sym  date      time  timeEncoding  hour  minute  second   n_close  \\\n",
       "0       0    64  09:40:03             0     9      40       3  0.075679   \n",
       "1       0    64  09:40:06             0     9      40       6  0.076256   \n",
       "2       0    64  09:40:09             0     9      40       9  0.077027   \n",
       "3       0    64  09:40:12             0     9      40      12  0.077027   \n",
       "4       0    64  09:40:15             0     9      40      15  0.078375   \n",
       "...   ...   ...       ...           ...   ...     ...     ...       ...   \n",
       "3993    9    78  14:49:45             7    14      49      45 -0.001504   \n",
       "3994    9    78  14:49:48             7    14      49      48 -0.001620   \n",
       "3995    9    78  14:49:51             7    14      49      51 -0.001736   \n",
       "3996    9    78  14:49:54             7    14      49      54 -0.001851   \n",
       "3997    9    78  14:49:57             7    14      49      57 -0.001967   \n",
       "\n",
       "      amount_delta  n_midprice  ...  mpc40_std40  mpc40_max40  mpc40_min40  \\\n",
       "0        6954413.0    0.075775  ...          NaN          NaN          NaN   \n",
       "1       13722908.0    0.076160  ...          NaN          NaN          NaN   \n",
       "2       21771348.0    0.077123  ...          NaN          NaN          NaN   \n",
       "3        2925847.0    0.077508  ...          NaN          NaN          NaN   \n",
       "4        9831626.0    0.078182  ...          NaN          NaN          NaN   \n",
       "...            ...         ...  ...          ...          ...          ...   \n",
       "3993     2305964.0   -0.001562  ...     0.137856    -0.000000    -0.711111   \n",
       "3994     3132273.0   -0.001678  ...     0.160629    -0.000000    -0.711111   \n",
       "3995     2364061.0   -0.001793  ...     0.185259     0.068966    -0.711111   \n",
       "3996    20587972.0   -0.002256  ...     0.228848     0.344828    -0.711111   \n",
       "3997     1526620.0   -0.002372  ...     0.323171     0.952381    -0.711111   \n",
       "\n",
       "      mpc40_skew40  mpc40_kurt40  mpc40_qtlu40  mpc40_qtld40  mpc40_rank40  \\\n",
       "0              NaN           NaN           NaN           NaN           NaN   \n",
       "1              NaN           NaN           NaN           NaN           NaN   \n",
       "2              NaN           NaN           NaN           NaN           NaN   \n",
       "3              NaN           NaN           NaN           NaN           NaN   \n",
       "4              NaN           NaN           NaN           NaN           NaN   \n",
       "...            ...           ...           ...           ...           ...   \n",
       "3993      1.751040      4.577188     -0.444049      -0.63013        1.0000   \n",
       "3994      1.884315      4.079560     -0.444049      -0.63013        0.9875   \n",
       "3995      1.901927      3.451461     -0.444049      -0.63013        1.0000   \n",
       "3996      2.168181      4.691121     -0.444049      -0.63013        1.0000   \n",
       "3997      2.818302      9.187465     -0.405109      -0.63013        1.0000   \n",
       "\n",
       "      mpc40_imax40  mpc40_imin40  \n",
       "0              NaN           NaN  \n",
       "1              NaN           NaN  \n",
       "2              NaN           NaN  \n",
       "3              NaN           NaN  \n",
       "4              NaN           NaN  \n",
       "...            ...           ...  \n",
       "3993         0.025         0.700  \n",
       "3994         0.050         0.725  \n",
       "3995         0.025         0.750  \n",
       "3996         0.025         0.775  \n",
       "3997         0.025         0.800  \n",
       "\n",
       "[591704 rows x 3535 columns]"
      ]
     },
     "execution_count": 5,
     "metadata": {},
     "output_type": "execute_result"
    }
   ],
   "source": [
    "df_test"
   ]
  },
  {
   "cell_type": "code",
   "execution_count": 6,
   "id": "f7dfe8f8",
   "metadata": {
    "ExecuteTime": {
     "end_time": "2023-08-01T01:08:20.111901Z",
     "start_time": "2023-08-01T01:05:48.771032Z"
    }
   },
   "outputs": [],
   "source": [
    "df_test.to_parquet('./feature_data_f32/df_test.parquet')"
   ]
  },
  {
   "cell_type": "code",
   "execution_count": null,
   "id": "2674f1ec",
   "metadata": {},
   "outputs": [],
   "source": []
  },
  {
   "cell_type": "code",
   "execution_count": 2,
   "id": "d6ed4b6f",
   "metadata": {
    "ExecuteTime": {
     "end_time": "2023-08-01T05:53:27.774663Z",
     "start_time": "2023-08-01T05:53:27.646909Z"
    }
   },
   "outputs": [],
   "source": [
    "test_label = pd.read_parquet('./feature_data_f32/test_label.parquet')"
   ]
  },
  {
   "cell_type": "code",
   "execution_count": 3,
   "id": "f378cc39",
   "metadata": {
    "ExecuteTime": {
     "end_time": "2023-08-01T05:53:30.537748Z",
     "start_time": "2023-08-01T05:53:30.442687Z"
    }
   },
   "outputs": [],
   "source": [
    "test_label = test_label.sort_values(['sym','date','time'])"
   ]
  },
  {
   "cell_type": "code",
   "execution_count": 4,
   "id": "629cfc80",
   "metadata": {
    "ExecuteTime": {
     "end_time": "2023-08-01T05:53:30.878730Z",
     "start_time": "2023-08-01T05:53:30.870565Z"
    }
   },
   "outputs": [],
   "source": [
    "test_label.reset_index(drop=True, inplace=True)"
   ]
  },
  {
   "cell_type": "code",
   "execution_count": 5,
   "id": "2263af94",
   "metadata": {
    "ExecuteTime": {
     "end_time": "2023-08-01T05:53:31.316024Z",
     "start_time": "2023-08-01T05:53:31.306047Z"
    }
   },
   "outputs": [
    {
     "data": {
      "text/plain": [
       "sym          int64\n",
       "date         int64\n",
       "time        object\n",
       "label_5      Int64\n",
       "label_10     Int64\n",
       "label_20     Int64\n",
       "label_40     Int64\n",
       "label_60     Int64\n",
       "dtype: object"
      ]
     },
     "execution_count": 5,
     "metadata": {},
     "output_type": "execute_result"
    }
   ],
   "source": [
    "test_label.dtypes"
   ]
  },
  {
   "cell_type": "code",
   "execution_count": 6,
   "id": "ce28bd35",
   "metadata": {
    "ExecuteTime": {
     "end_time": "2023-08-01T05:54:23.079968Z",
     "start_time": "2023-08-01T05:53:44.057007Z"
    }
   },
   "outputs": [],
   "source": [
    "df_test = pd.read_parquet('./feature_data_f32/df_test.parquet')"
   ]
  },
  {
   "cell_type": "code",
   "execution_count": 7,
   "id": "8f567ead",
   "metadata": {
    "ExecuteTime": {
     "end_time": "2023-08-01T05:54:43.171821Z",
     "start_time": "2023-08-01T05:54:23.111197Z"
    }
   },
   "outputs": [],
   "source": [
    "df_test = df_test.sort_values(['sym','date','time'])"
   ]
  },
  {
   "cell_type": "code",
   "execution_count": 8,
   "id": "c3d098b5",
   "metadata": {
    "ExecuteTime": {
     "end_time": "2023-08-01T05:54:43.187853Z",
     "start_time": "2023-08-01T05:54:43.171821Z"
    }
   },
   "outputs": [],
   "source": [
    "df_test.reset_index(drop=True, inplace=True)"
   ]
  },
  {
   "cell_type": "code",
   "execution_count": 9,
   "id": "192bc7d9",
   "metadata": {
    "ExecuteTime": {
     "end_time": "2023-08-01T05:54:43.203496Z",
     "start_time": "2023-08-01T05:54:43.187853Z"
    }
   },
   "outputs": [
    {
     "data": {
      "text/plain": [
       "(591704, 3535)"
      ]
     },
     "execution_count": 9,
     "metadata": {},
     "output_type": "execute_result"
    }
   ],
   "source": [
    "df_test.shape"
   ]
  },
  {
   "cell_type": "code",
   "execution_count": 10,
   "id": "dfb0c419",
   "metadata": {
    "ExecuteTime": {
     "end_time": "2023-08-01T05:54:43.266254Z",
     "start_time": "2023-08-01T05:54:43.203496Z"
    }
   },
   "outputs": [
    {
     "data": {
      "text/plain": [
       "timeEncoding     int32\n",
       "hour             int32\n",
       "minute           int32\n",
       "second           int32\n",
       "sym              int64\n",
       "date             int64\n",
       "time            object\n",
       "dtype: object"
      ]
     },
     "execution_count": 10,
     "metadata": {},
     "output_type": "execute_result"
    }
   ],
   "source": [
    "df_test[['timeEncoding','hour','minute','second','sym','date','time']].dtypes"
   ]
  },
  {
   "cell_type": "code",
   "execution_count": 11,
   "id": "77fd0366",
   "metadata": {
    "ExecuteTime": {
     "end_time": "2023-08-01T05:54:43.417530Z",
     "start_time": "2023-08-01T05:54:43.267245Z"
    }
   },
   "outputs": [
    {
     "data": {
      "text/html": [
       "<div>\n",
       "<style scoped>\n",
       "    .dataframe tbody tr th:only-of-type {\n",
       "        vertical-align: middle;\n",
       "    }\n",
       "\n",
       "    .dataframe tbody tr th {\n",
       "        vertical-align: top;\n",
       "    }\n",
       "\n",
       "    .dataframe thead th {\n",
       "        text-align: right;\n",
       "    }\n",
       "</style>\n",
       "<table border=\"1\" class=\"dataframe\">\n",
       "  <thead>\n",
       "    <tr style=\"text-align: right;\">\n",
       "      <th></th>\n",
       "      <th>sym</th>\n",
       "      <th>date</th>\n",
       "      <th>time</th>\n",
       "      <th>timeEncoding</th>\n",
       "      <th>hour</th>\n",
       "      <th>minute</th>\n",
       "      <th>second</th>\n",
       "      <th>n_close</th>\n",
       "      <th>amount_delta</th>\n",
       "      <th>n_midprice</th>\n",
       "      <th>...</th>\n",
       "      <th>mpc40_std40</th>\n",
       "      <th>mpc40_max40</th>\n",
       "      <th>mpc40_min40</th>\n",
       "      <th>mpc40_skew40</th>\n",
       "      <th>mpc40_kurt40</th>\n",
       "      <th>mpc40_qtlu40</th>\n",
       "      <th>mpc40_qtld40</th>\n",
       "      <th>mpc40_rank40</th>\n",
       "      <th>mpc40_imax40</th>\n",
       "      <th>mpc40_imin40</th>\n",
       "    </tr>\n",
       "  </thead>\n",
       "  <tbody>\n",
       "    <tr>\n",
       "      <th>0</th>\n",
       "      <td>0</td>\n",
       "      <td>64</td>\n",
       "      <td>09:40:03</td>\n",
       "      <td>0</td>\n",
       "      <td>9</td>\n",
       "      <td>40</td>\n",
       "      <td>3</td>\n",
       "      <td>0.075679</td>\n",
       "      <td>6954413.0</td>\n",
       "      <td>0.075775</td>\n",
       "      <td>...</td>\n",
       "      <td>NaN</td>\n",
       "      <td>NaN</td>\n",
       "      <td>NaN</td>\n",
       "      <td>NaN</td>\n",
       "      <td>NaN</td>\n",
       "      <td>NaN</td>\n",
       "      <td>NaN</td>\n",
       "      <td>NaN</td>\n",
       "      <td>NaN</td>\n",
       "      <td>NaN</td>\n",
       "    </tr>\n",
       "    <tr>\n",
       "      <th>1</th>\n",
       "      <td>0</td>\n",
       "      <td>64</td>\n",
       "      <td>09:40:06</td>\n",
       "      <td>0</td>\n",
       "      <td>9</td>\n",
       "      <td>40</td>\n",
       "      <td>6</td>\n",
       "      <td>0.076256</td>\n",
       "      <td>13722908.0</td>\n",
       "      <td>0.076160</td>\n",
       "      <td>...</td>\n",
       "      <td>NaN</td>\n",
       "      <td>NaN</td>\n",
       "      <td>NaN</td>\n",
       "      <td>NaN</td>\n",
       "      <td>NaN</td>\n",
       "      <td>NaN</td>\n",
       "      <td>NaN</td>\n",
       "      <td>NaN</td>\n",
       "      <td>NaN</td>\n",
       "      <td>NaN</td>\n",
       "    </tr>\n",
       "    <tr>\n",
       "      <th>2</th>\n",
       "      <td>0</td>\n",
       "      <td>64</td>\n",
       "      <td>09:40:09</td>\n",
       "      <td>0</td>\n",
       "      <td>9</td>\n",
       "      <td>40</td>\n",
       "      <td>9</td>\n",
       "      <td>0.077027</td>\n",
       "      <td>21771348.0</td>\n",
       "      <td>0.077123</td>\n",
       "      <td>...</td>\n",
       "      <td>NaN</td>\n",
       "      <td>NaN</td>\n",
       "      <td>NaN</td>\n",
       "      <td>NaN</td>\n",
       "      <td>NaN</td>\n",
       "      <td>NaN</td>\n",
       "      <td>NaN</td>\n",
       "      <td>NaN</td>\n",
       "      <td>NaN</td>\n",
       "      <td>NaN</td>\n",
       "    </tr>\n",
       "    <tr>\n",
       "      <th>3</th>\n",
       "      <td>0</td>\n",
       "      <td>64</td>\n",
       "      <td>09:40:12</td>\n",
       "      <td>0</td>\n",
       "      <td>9</td>\n",
       "      <td>40</td>\n",
       "      <td>12</td>\n",
       "      <td>0.077027</td>\n",
       "      <td>2925847.0</td>\n",
       "      <td>0.077508</td>\n",
       "      <td>...</td>\n",
       "      <td>NaN</td>\n",
       "      <td>NaN</td>\n",
       "      <td>NaN</td>\n",
       "      <td>NaN</td>\n",
       "      <td>NaN</td>\n",
       "      <td>NaN</td>\n",
       "      <td>NaN</td>\n",
       "      <td>NaN</td>\n",
       "      <td>NaN</td>\n",
       "      <td>NaN</td>\n",
       "    </tr>\n",
       "    <tr>\n",
       "      <th>4</th>\n",
       "      <td>0</td>\n",
       "      <td>64</td>\n",
       "      <td>09:40:15</td>\n",
       "      <td>0</td>\n",
       "      <td>9</td>\n",
       "      <td>40</td>\n",
       "      <td>15</td>\n",
       "      <td>0.078375</td>\n",
       "      <td>9831626.0</td>\n",
       "      <td>0.078182</td>\n",
       "      <td>...</td>\n",
       "      <td>NaN</td>\n",
       "      <td>NaN</td>\n",
       "      <td>NaN</td>\n",
       "      <td>NaN</td>\n",
       "      <td>NaN</td>\n",
       "      <td>NaN</td>\n",
       "      <td>NaN</td>\n",
       "      <td>NaN</td>\n",
       "      <td>NaN</td>\n",
       "      <td>NaN</td>\n",
       "    </tr>\n",
       "    <tr>\n",
       "      <th>...</th>\n",
       "      <td>...</td>\n",
       "      <td>...</td>\n",
       "      <td>...</td>\n",
       "      <td>...</td>\n",
       "      <td>...</td>\n",
       "      <td>...</td>\n",
       "      <td>...</td>\n",
       "      <td>...</td>\n",
       "      <td>...</td>\n",
       "      <td>...</td>\n",
       "      <td>...</td>\n",
       "      <td>...</td>\n",
       "      <td>...</td>\n",
       "      <td>...</td>\n",
       "      <td>...</td>\n",
       "      <td>...</td>\n",
       "      <td>...</td>\n",
       "      <td>...</td>\n",
       "      <td>...</td>\n",
       "      <td>...</td>\n",
       "      <td>...</td>\n",
       "    </tr>\n",
       "    <tr>\n",
       "      <th>591699</th>\n",
       "      <td>9</td>\n",
       "      <td>78</td>\n",
       "      <td>14:49:45</td>\n",
       "      <td>7</td>\n",
       "      <td>14</td>\n",
       "      <td>49</td>\n",
       "      <td>45</td>\n",
       "      <td>-0.001504</td>\n",
       "      <td>2305964.0</td>\n",
       "      <td>-0.001562</td>\n",
       "      <td>...</td>\n",
       "      <td>0.137856</td>\n",
       "      <td>-0.000000</td>\n",
       "      <td>-0.711111</td>\n",
       "      <td>1.751040</td>\n",
       "      <td>4.577188</td>\n",
       "      <td>-0.444049</td>\n",
       "      <td>-0.63013</td>\n",
       "      <td>1.0000</td>\n",
       "      <td>0.025</td>\n",
       "      <td>0.700</td>\n",
       "    </tr>\n",
       "    <tr>\n",
       "      <th>591700</th>\n",
       "      <td>9</td>\n",
       "      <td>78</td>\n",
       "      <td>14:49:48</td>\n",
       "      <td>7</td>\n",
       "      <td>14</td>\n",
       "      <td>49</td>\n",
       "      <td>48</td>\n",
       "      <td>-0.001620</td>\n",
       "      <td>3132273.0</td>\n",
       "      <td>-0.001678</td>\n",
       "      <td>...</td>\n",
       "      <td>0.160629</td>\n",
       "      <td>-0.000000</td>\n",
       "      <td>-0.711111</td>\n",
       "      <td>1.884315</td>\n",
       "      <td>4.079560</td>\n",
       "      <td>-0.444049</td>\n",
       "      <td>-0.63013</td>\n",
       "      <td>0.9875</td>\n",
       "      <td>0.050</td>\n",
       "      <td>0.725</td>\n",
       "    </tr>\n",
       "    <tr>\n",
       "      <th>591701</th>\n",
       "      <td>9</td>\n",
       "      <td>78</td>\n",
       "      <td>14:49:51</td>\n",
       "      <td>7</td>\n",
       "      <td>14</td>\n",
       "      <td>49</td>\n",
       "      <td>51</td>\n",
       "      <td>-0.001736</td>\n",
       "      <td>2364061.0</td>\n",
       "      <td>-0.001793</td>\n",
       "      <td>...</td>\n",
       "      <td>0.185259</td>\n",
       "      <td>0.068966</td>\n",
       "      <td>-0.711111</td>\n",
       "      <td>1.901927</td>\n",
       "      <td>3.451461</td>\n",
       "      <td>-0.444049</td>\n",
       "      <td>-0.63013</td>\n",
       "      <td>1.0000</td>\n",
       "      <td>0.025</td>\n",
       "      <td>0.750</td>\n",
       "    </tr>\n",
       "    <tr>\n",
       "      <th>591702</th>\n",
       "      <td>9</td>\n",
       "      <td>78</td>\n",
       "      <td>14:49:54</td>\n",
       "      <td>7</td>\n",
       "      <td>14</td>\n",
       "      <td>49</td>\n",
       "      <td>54</td>\n",
       "      <td>-0.001851</td>\n",
       "      <td>20587972.0</td>\n",
       "      <td>-0.002256</td>\n",
       "      <td>...</td>\n",
       "      <td>0.228848</td>\n",
       "      <td>0.344828</td>\n",
       "      <td>-0.711111</td>\n",
       "      <td>2.168181</td>\n",
       "      <td>4.691121</td>\n",
       "      <td>-0.444049</td>\n",
       "      <td>-0.63013</td>\n",
       "      <td>1.0000</td>\n",
       "      <td>0.025</td>\n",
       "      <td>0.775</td>\n",
       "    </tr>\n",
       "    <tr>\n",
       "      <th>591703</th>\n",
       "      <td>9</td>\n",
       "      <td>78</td>\n",
       "      <td>14:49:57</td>\n",
       "      <td>7</td>\n",
       "      <td>14</td>\n",
       "      <td>49</td>\n",
       "      <td>57</td>\n",
       "      <td>-0.001967</td>\n",
       "      <td>1526620.0</td>\n",
       "      <td>-0.002372</td>\n",
       "      <td>...</td>\n",
       "      <td>0.323171</td>\n",
       "      <td>0.952381</td>\n",
       "      <td>-0.711111</td>\n",
       "      <td>2.818302</td>\n",
       "      <td>9.187465</td>\n",
       "      <td>-0.405109</td>\n",
       "      <td>-0.63013</td>\n",
       "      <td>1.0000</td>\n",
       "      <td>0.025</td>\n",
       "      <td>0.800</td>\n",
       "    </tr>\n",
       "  </tbody>\n",
       "</table>\n",
       "<p>591704 rows × 3535 columns</p>\n",
       "</div>"
      ],
      "text/plain": [
       "        sym  date      time  timeEncoding  hour  minute  second   n_close  \\\n",
       "0         0    64  09:40:03             0     9      40       3  0.075679   \n",
       "1         0    64  09:40:06             0     9      40       6  0.076256   \n",
       "2         0    64  09:40:09             0     9      40       9  0.077027   \n",
       "3         0    64  09:40:12             0     9      40      12  0.077027   \n",
       "4         0    64  09:40:15             0     9      40      15  0.078375   \n",
       "...     ...   ...       ...           ...   ...     ...     ...       ...   \n",
       "591699    9    78  14:49:45             7    14      49      45 -0.001504   \n",
       "591700    9    78  14:49:48             7    14      49      48 -0.001620   \n",
       "591701    9    78  14:49:51             7    14      49      51 -0.001736   \n",
       "591702    9    78  14:49:54             7    14      49      54 -0.001851   \n",
       "591703    9    78  14:49:57             7    14      49      57 -0.001967   \n",
       "\n",
       "        amount_delta  n_midprice  ...  mpc40_std40  mpc40_max40  mpc40_min40  \\\n",
       "0          6954413.0    0.075775  ...          NaN          NaN          NaN   \n",
       "1         13722908.0    0.076160  ...          NaN          NaN          NaN   \n",
       "2         21771348.0    0.077123  ...          NaN          NaN          NaN   \n",
       "3          2925847.0    0.077508  ...          NaN          NaN          NaN   \n",
       "4          9831626.0    0.078182  ...          NaN          NaN          NaN   \n",
       "...              ...         ...  ...          ...          ...          ...   \n",
       "591699     2305964.0   -0.001562  ...     0.137856    -0.000000    -0.711111   \n",
       "591700     3132273.0   -0.001678  ...     0.160629    -0.000000    -0.711111   \n",
       "591701     2364061.0   -0.001793  ...     0.185259     0.068966    -0.711111   \n",
       "591702    20587972.0   -0.002256  ...     0.228848     0.344828    -0.711111   \n",
       "591703     1526620.0   -0.002372  ...     0.323171     0.952381    -0.711111   \n",
       "\n",
       "        mpc40_skew40  mpc40_kurt40  mpc40_qtlu40  mpc40_qtld40  mpc40_rank40  \\\n",
       "0                NaN           NaN           NaN           NaN           NaN   \n",
       "1                NaN           NaN           NaN           NaN           NaN   \n",
       "2                NaN           NaN           NaN           NaN           NaN   \n",
       "3                NaN           NaN           NaN           NaN           NaN   \n",
       "4                NaN           NaN           NaN           NaN           NaN   \n",
       "...              ...           ...           ...           ...           ...   \n",
       "591699      1.751040      4.577188     -0.444049      -0.63013        1.0000   \n",
       "591700      1.884315      4.079560     -0.444049      -0.63013        0.9875   \n",
       "591701      1.901927      3.451461     -0.444049      -0.63013        1.0000   \n",
       "591702      2.168181      4.691121     -0.444049      -0.63013        1.0000   \n",
       "591703      2.818302      9.187465     -0.405109      -0.63013        1.0000   \n",
       "\n",
       "        mpc40_imax40  mpc40_imin40  \n",
       "0                NaN           NaN  \n",
       "1                NaN           NaN  \n",
       "2                NaN           NaN  \n",
       "3                NaN           NaN  \n",
       "4                NaN           NaN  \n",
       "...              ...           ...  \n",
       "591699         0.025         0.700  \n",
       "591700         0.050         0.725  \n",
       "591701         0.025         0.750  \n",
       "591702         0.025         0.775  \n",
       "591703         0.025         0.800  \n",
       "\n",
       "[591704 rows x 3535 columns]"
      ]
     },
     "execution_count": 11,
     "metadata": {},
     "output_type": "execute_result"
    }
   ],
   "source": [
    "df_test"
   ]
  },
  {
   "cell_type": "code",
   "execution_count": 12,
   "id": "861edc12",
   "metadata": {
    "ExecuteTime": {
     "end_time": "2023-08-01T06:00:35.870445Z",
     "start_time": "2023-08-01T06:00:13.721719Z"
    }
   },
   "outputs": [],
   "source": [
    "df_test = pd.concat([df_test, test_label[['label_5','label_10','label_20','label_40','label_60']]], axis=1)"
   ]
  },
  {
   "cell_type": "code",
   "execution_count": 13,
   "id": "18a821eb",
   "metadata": {
    "ExecuteTime": {
     "end_time": "2023-08-01T06:00:35.980609Z",
     "start_time": "2023-08-01T06:00:35.895574Z"
    }
   },
   "outputs": [
    {
     "data": {
      "text/plain": [
       "timeEncoding     int32\n",
       "hour             int32\n",
       "minute           int32\n",
       "second           int32\n",
       "sym              int64\n",
       "date             int64\n",
       "time            object\n",
       "label_5          Int64\n",
       "label_10         Int64\n",
       "label_20         Int64\n",
       "label_40         Int64\n",
       "label_60         Int64\n",
       "dtype: object"
      ]
     },
     "execution_count": 13,
     "metadata": {},
     "output_type": "execute_result"
    }
   ],
   "source": [
    "df_test[['timeEncoding','hour','minute','second','sym','date','time','label_5','label_10','label_20','label_40','label_60']].dtypes"
   ]
  },
  {
   "cell_type": "code",
   "execution_count": 14,
   "id": "65cfe543",
   "metadata": {
    "ExecuteTime": {
     "end_time": "2023-08-01T06:01:06.302815Z",
     "start_time": "2023-08-01T06:00:35.981672Z"
    }
   },
   "outputs": [],
   "source": [
    "col1 = ['sym','date','time','label_5','label_10','label_20','label_40','label_60']\n",
    "col2 = [col for col in df_test.columns.to_list() if col not in col1]\n",
    "df_test_my = df_test[col1+col2]"
   ]
  },
  {
   "cell_type": "code",
   "execution_count": 16,
   "id": "3fa2815c",
   "metadata": {
    "ExecuteTime": {
     "end_time": "2023-08-01T06:01:06.893505Z",
     "start_time": "2023-08-01T06:01:06.880301Z"
    }
   },
   "outputs": [
    {
     "data": {
      "text/plain": [
       "sym               int64\n",
       "date              int64\n",
       "time             object\n",
       "label_5           Int64\n",
       "label_10          Int64\n",
       "                 ...   \n",
       "mpc40_qtlu40    float32\n",
       "mpc40_qtld40    float32\n",
       "mpc40_rank40    float32\n",
       "mpc40_imax40    float32\n",
       "mpc40_imin40    float32\n",
       "Length: 3540, dtype: object"
      ]
     },
     "execution_count": 16,
     "metadata": {},
     "output_type": "execute_result"
    }
   ],
   "source": [
    "df_test_my.dtypes"
   ]
  },
  {
   "cell_type": "code",
   "execution_count": 17,
   "id": "7f0de413",
   "metadata": {
    "ExecuteTime": {
     "end_time": "2023-08-01T06:01:12.846685Z",
     "start_time": "2023-08-01T06:01:12.832624Z"
    }
   },
   "outputs": [
    {
     "data": {
      "text/plain": [
       "(591704, 3540)"
      ]
     },
     "execution_count": 17,
     "metadata": {},
     "output_type": "execute_result"
    }
   ],
   "source": [
    "df_test_my.shape"
   ]
  },
  {
   "cell_type": "code",
   "execution_count": 15,
   "id": "d8d94ea9",
   "metadata": {
    "ExecuteTime": {
     "end_time": "2023-08-01T06:01:06.878268Z",
     "start_time": "2023-08-01T06:01:06.345394Z"
    }
   },
   "outputs": [
    {
     "data": {
      "text/html": [
       "<div>\n",
       "<style scoped>\n",
       "    .dataframe tbody tr th:only-of-type {\n",
       "        vertical-align: middle;\n",
       "    }\n",
       "\n",
       "    .dataframe tbody tr th {\n",
       "        vertical-align: top;\n",
       "    }\n",
       "\n",
       "    .dataframe thead th {\n",
       "        text-align: right;\n",
       "    }\n",
       "</style>\n",
       "<table border=\"1\" class=\"dataframe\">\n",
       "  <thead>\n",
       "    <tr style=\"text-align: right;\">\n",
       "      <th></th>\n",
       "      <th>sym</th>\n",
       "      <th>date</th>\n",
       "      <th>time</th>\n",
       "      <th>label_5</th>\n",
       "      <th>label_10</th>\n",
       "      <th>label_20</th>\n",
       "      <th>label_40</th>\n",
       "      <th>label_60</th>\n",
       "      <th>timeEncoding</th>\n",
       "      <th>hour</th>\n",
       "      <th>...</th>\n",
       "      <th>mpc40_std40</th>\n",
       "      <th>mpc40_max40</th>\n",
       "      <th>mpc40_min40</th>\n",
       "      <th>mpc40_skew40</th>\n",
       "      <th>mpc40_kurt40</th>\n",
       "      <th>mpc40_qtlu40</th>\n",
       "      <th>mpc40_qtld40</th>\n",
       "      <th>mpc40_rank40</th>\n",
       "      <th>mpc40_imax40</th>\n",
       "      <th>mpc40_imin40</th>\n",
       "    </tr>\n",
       "  </thead>\n",
       "  <tbody>\n",
       "    <tr>\n",
       "      <th>0</th>\n",
       "      <td>0</td>\n",
       "      <td>64</td>\n",
       "      <td>09:40:03</td>\n",
       "      <td>2</td>\n",
       "      <td>2</td>\n",
       "      <td>2</td>\n",
       "      <td>2</td>\n",
       "      <td>2</td>\n",
       "      <td>0</td>\n",
       "      <td>9</td>\n",
       "      <td>...</td>\n",
       "      <td>NaN</td>\n",
       "      <td>NaN</td>\n",
       "      <td>NaN</td>\n",
       "      <td>NaN</td>\n",
       "      <td>NaN</td>\n",
       "      <td>NaN</td>\n",
       "      <td>NaN</td>\n",
       "      <td>NaN</td>\n",
       "      <td>NaN</td>\n",
       "      <td>NaN</td>\n",
       "    </tr>\n",
       "    <tr>\n",
       "      <th>1</th>\n",
       "      <td>0</td>\n",
       "      <td>64</td>\n",
       "      <td>09:40:06</td>\n",
       "      <td>2</td>\n",
       "      <td>2</td>\n",
       "      <td>2</td>\n",
       "      <td>2</td>\n",
       "      <td>2</td>\n",
       "      <td>0</td>\n",
       "      <td>9</td>\n",
       "      <td>...</td>\n",
       "      <td>NaN</td>\n",
       "      <td>NaN</td>\n",
       "      <td>NaN</td>\n",
       "      <td>NaN</td>\n",
       "      <td>NaN</td>\n",
       "      <td>NaN</td>\n",
       "      <td>NaN</td>\n",
       "      <td>NaN</td>\n",
       "      <td>NaN</td>\n",
       "      <td>NaN</td>\n",
       "    </tr>\n",
       "    <tr>\n",
       "      <th>2</th>\n",
       "      <td>0</td>\n",
       "      <td>64</td>\n",
       "      <td>09:40:09</td>\n",
       "      <td>2</td>\n",
       "      <td>2</td>\n",
       "      <td>2</td>\n",
       "      <td>1</td>\n",
       "      <td>2</td>\n",
       "      <td>0</td>\n",
       "      <td>9</td>\n",
       "      <td>...</td>\n",
       "      <td>NaN</td>\n",
       "      <td>NaN</td>\n",
       "      <td>NaN</td>\n",
       "      <td>NaN</td>\n",
       "      <td>NaN</td>\n",
       "      <td>NaN</td>\n",
       "      <td>NaN</td>\n",
       "      <td>NaN</td>\n",
       "      <td>NaN</td>\n",
       "      <td>NaN</td>\n",
       "    </tr>\n",
       "    <tr>\n",
       "      <th>3</th>\n",
       "      <td>0</td>\n",
       "      <td>64</td>\n",
       "      <td>09:40:12</td>\n",
       "      <td>2</td>\n",
       "      <td>2</td>\n",
       "      <td>2</td>\n",
       "      <td>2</td>\n",
       "      <td>2</td>\n",
       "      <td>0</td>\n",
       "      <td>9</td>\n",
       "      <td>...</td>\n",
       "      <td>NaN</td>\n",
       "      <td>NaN</td>\n",
       "      <td>NaN</td>\n",
       "      <td>NaN</td>\n",
       "      <td>NaN</td>\n",
       "      <td>NaN</td>\n",
       "      <td>NaN</td>\n",
       "      <td>NaN</td>\n",
       "      <td>NaN</td>\n",
       "      <td>NaN</td>\n",
       "    </tr>\n",
       "    <tr>\n",
       "      <th>4</th>\n",
       "      <td>0</td>\n",
       "      <td>64</td>\n",
       "      <td>09:40:15</td>\n",
       "      <td>2</td>\n",
       "      <td>2</td>\n",
       "      <td>2</td>\n",
       "      <td>2</td>\n",
       "      <td>2</td>\n",
       "      <td>0</td>\n",
       "      <td>9</td>\n",
       "      <td>...</td>\n",
       "      <td>NaN</td>\n",
       "      <td>NaN</td>\n",
       "      <td>NaN</td>\n",
       "      <td>NaN</td>\n",
       "      <td>NaN</td>\n",
       "      <td>NaN</td>\n",
       "      <td>NaN</td>\n",
       "      <td>NaN</td>\n",
       "      <td>NaN</td>\n",
       "      <td>NaN</td>\n",
       "    </tr>\n",
       "    <tr>\n",
       "      <th>...</th>\n",
       "      <td>...</td>\n",
       "      <td>...</td>\n",
       "      <td>...</td>\n",
       "      <td>...</td>\n",
       "      <td>...</td>\n",
       "      <td>...</td>\n",
       "      <td>...</td>\n",
       "      <td>...</td>\n",
       "      <td>...</td>\n",
       "      <td>...</td>\n",
       "      <td>...</td>\n",
       "      <td>...</td>\n",
       "      <td>...</td>\n",
       "      <td>...</td>\n",
       "      <td>...</td>\n",
       "      <td>...</td>\n",
       "      <td>...</td>\n",
       "      <td>...</td>\n",
       "      <td>...</td>\n",
       "      <td>...</td>\n",
       "      <td>...</td>\n",
       "    </tr>\n",
       "    <tr>\n",
       "      <th>591699</th>\n",
       "      <td>9</td>\n",
       "      <td>78</td>\n",
       "      <td>14:49:45</td>\n",
       "      <td>&lt;NA&gt;</td>\n",
       "      <td>&lt;NA&gt;</td>\n",
       "      <td>&lt;NA&gt;</td>\n",
       "      <td>&lt;NA&gt;</td>\n",
       "      <td>&lt;NA&gt;</td>\n",
       "      <td>7</td>\n",
       "      <td>14</td>\n",
       "      <td>...</td>\n",
       "      <td>0.137856</td>\n",
       "      <td>-0.000000</td>\n",
       "      <td>-0.711111</td>\n",
       "      <td>1.751040</td>\n",
       "      <td>4.577188</td>\n",
       "      <td>-0.444049</td>\n",
       "      <td>-0.63013</td>\n",
       "      <td>1.0000</td>\n",
       "      <td>0.025</td>\n",
       "      <td>0.700</td>\n",
       "    </tr>\n",
       "    <tr>\n",
       "      <th>591700</th>\n",
       "      <td>9</td>\n",
       "      <td>78</td>\n",
       "      <td>14:49:48</td>\n",
       "      <td>&lt;NA&gt;</td>\n",
       "      <td>&lt;NA&gt;</td>\n",
       "      <td>&lt;NA&gt;</td>\n",
       "      <td>&lt;NA&gt;</td>\n",
       "      <td>&lt;NA&gt;</td>\n",
       "      <td>7</td>\n",
       "      <td>14</td>\n",
       "      <td>...</td>\n",
       "      <td>0.160629</td>\n",
       "      <td>-0.000000</td>\n",
       "      <td>-0.711111</td>\n",
       "      <td>1.884315</td>\n",
       "      <td>4.079560</td>\n",
       "      <td>-0.444049</td>\n",
       "      <td>-0.63013</td>\n",
       "      <td>0.9875</td>\n",
       "      <td>0.050</td>\n",
       "      <td>0.725</td>\n",
       "    </tr>\n",
       "    <tr>\n",
       "      <th>591701</th>\n",
       "      <td>9</td>\n",
       "      <td>78</td>\n",
       "      <td>14:49:51</td>\n",
       "      <td>&lt;NA&gt;</td>\n",
       "      <td>&lt;NA&gt;</td>\n",
       "      <td>&lt;NA&gt;</td>\n",
       "      <td>&lt;NA&gt;</td>\n",
       "      <td>&lt;NA&gt;</td>\n",
       "      <td>7</td>\n",
       "      <td>14</td>\n",
       "      <td>...</td>\n",
       "      <td>0.185259</td>\n",
       "      <td>0.068966</td>\n",
       "      <td>-0.711111</td>\n",
       "      <td>1.901927</td>\n",
       "      <td>3.451461</td>\n",
       "      <td>-0.444049</td>\n",
       "      <td>-0.63013</td>\n",
       "      <td>1.0000</td>\n",
       "      <td>0.025</td>\n",
       "      <td>0.750</td>\n",
       "    </tr>\n",
       "    <tr>\n",
       "      <th>591702</th>\n",
       "      <td>9</td>\n",
       "      <td>78</td>\n",
       "      <td>14:49:54</td>\n",
       "      <td>&lt;NA&gt;</td>\n",
       "      <td>&lt;NA&gt;</td>\n",
       "      <td>&lt;NA&gt;</td>\n",
       "      <td>&lt;NA&gt;</td>\n",
       "      <td>&lt;NA&gt;</td>\n",
       "      <td>7</td>\n",
       "      <td>14</td>\n",
       "      <td>...</td>\n",
       "      <td>0.228848</td>\n",
       "      <td>0.344828</td>\n",
       "      <td>-0.711111</td>\n",
       "      <td>2.168181</td>\n",
       "      <td>4.691121</td>\n",
       "      <td>-0.444049</td>\n",
       "      <td>-0.63013</td>\n",
       "      <td>1.0000</td>\n",
       "      <td>0.025</td>\n",
       "      <td>0.775</td>\n",
       "    </tr>\n",
       "    <tr>\n",
       "      <th>591703</th>\n",
       "      <td>9</td>\n",
       "      <td>78</td>\n",
       "      <td>14:49:57</td>\n",
       "      <td>&lt;NA&gt;</td>\n",
       "      <td>&lt;NA&gt;</td>\n",
       "      <td>&lt;NA&gt;</td>\n",
       "      <td>&lt;NA&gt;</td>\n",
       "      <td>&lt;NA&gt;</td>\n",
       "      <td>7</td>\n",
       "      <td>14</td>\n",
       "      <td>...</td>\n",
       "      <td>0.323171</td>\n",
       "      <td>0.952381</td>\n",
       "      <td>-0.711111</td>\n",
       "      <td>2.818302</td>\n",
       "      <td>9.187465</td>\n",
       "      <td>-0.405109</td>\n",
       "      <td>-0.63013</td>\n",
       "      <td>1.0000</td>\n",
       "      <td>0.025</td>\n",
       "      <td>0.800</td>\n",
       "    </tr>\n",
       "  </tbody>\n",
       "</table>\n",
       "<p>591704 rows × 3540 columns</p>\n",
       "</div>"
      ],
      "text/plain": [
       "        sym  date      time  label_5  label_10  label_20  label_40  label_60  \\\n",
       "0         0    64  09:40:03        2         2         2         2         2   \n",
       "1         0    64  09:40:06        2         2         2         2         2   \n",
       "2         0    64  09:40:09        2         2         2         1         2   \n",
       "3         0    64  09:40:12        2         2         2         2         2   \n",
       "4         0    64  09:40:15        2         2         2         2         2   \n",
       "...     ...   ...       ...      ...       ...       ...       ...       ...   \n",
       "591699    9    78  14:49:45     <NA>      <NA>      <NA>      <NA>      <NA>   \n",
       "591700    9    78  14:49:48     <NA>      <NA>      <NA>      <NA>      <NA>   \n",
       "591701    9    78  14:49:51     <NA>      <NA>      <NA>      <NA>      <NA>   \n",
       "591702    9    78  14:49:54     <NA>      <NA>      <NA>      <NA>      <NA>   \n",
       "591703    9    78  14:49:57     <NA>      <NA>      <NA>      <NA>      <NA>   \n",
       "\n",
       "        timeEncoding  hour  ...  mpc40_std40  mpc40_max40  mpc40_min40  \\\n",
       "0                  0     9  ...          NaN          NaN          NaN   \n",
       "1                  0     9  ...          NaN          NaN          NaN   \n",
       "2                  0     9  ...          NaN          NaN          NaN   \n",
       "3                  0     9  ...          NaN          NaN          NaN   \n",
       "4                  0     9  ...          NaN          NaN          NaN   \n",
       "...              ...   ...  ...          ...          ...          ...   \n",
       "591699             7    14  ...     0.137856    -0.000000    -0.711111   \n",
       "591700             7    14  ...     0.160629    -0.000000    -0.711111   \n",
       "591701             7    14  ...     0.185259     0.068966    -0.711111   \n",
       "591702             7    14  ...     0.228848     0.344828    -0.711111   \n",
       "591703             7    14  ...     0.323171     0.952381    -0.711111   \n",
       "\n",
       "        mpc40_skew40  mpc40_kurt40  mpc40_qtlu40  mpc40_qtld40  mpc40_rank40  \\\n",
       "0                NaN           NaN           NaN           NaN           NaN   \n",
       "1                NaN           NaN           NaN           NaN           NaN   \n",
       "2                NaN           NaN           NaN           NaN           NaN   \n",
       "3                NaN           NaN           NaN           NaN           NaN   \n",
       "4                NaN           NaN           NaN           NaN           NaN   \n",
       "...              ...           ...           ...           ...           ...   \n",
       "591699      1.751040      4.577188     -0.444049      -0.63013        1.0000   \n",
       "591700      1.884315      4.079560     -0.444049      -0.63013        0.9875   \n",
       "591701      1.901927      3.451461     -0.444049      -0.63013        1.0000   \n",
       "591702      2.168181      4.691121     -0.444049      -0.63013        1.0000   \n",
       "591703      2.818302      9.187465     -0.405109      -0.63013        1.0000   \n",
       "\n",
       "        mpc40_imax40  mpc40_imin40  \n",
       "0                NaN           NaN  \n",
       "1                NaN           NaN  \n",
       "2                NaN           NaN  \n",
       "3                NaN           NaN  \n",
       "4                NaN           NaN  \n",
       "...              ...           ...  \n",
       "591699         0.025         0.700  \n",
       "591700         0.050         0.725  \n",
       "591701         0.025         0.750  \n",
       "591702         0.025         0.775  \n",
       "591703         0.025         0.800  \n",
       "\n",
       "[591704 rows x 3540 columns]"
      ]
     },
     "execution_count": 15,
     "metadata": {},
     "output_type": "execute_result"
    }
   ],
   "source": [
    "df_test_my"
   ]
  },
  {
   "cell_type": "code",
   "execution_count": 18,
   "id": "023d2a19",
   "metadata": {
    "ExecuteTime": {
     "end_time": "2023-08-01T06:02:40.033715Z",
     "start_time": "2023-08-01T06:01:34.950044Z"
    }
   },
   "outputs": [],
   "source": [
    "df_test_my.to_parquet('./feature_data_f32/df_test_my.parquet')"
   ]
  },
  {
   "cell_type": "code",
   "execution_count": null,
   "id": "0c70033d",
   "metadata": {},
   "outputs": [],
   "source": []
  },
  {
   "cell_type": "markdown",
   "id": "716ff2c4",
   "metadata": {},
   "source": [
    "# 划分/拼接三个人的特征"
   ]
  },
  {
   "cell_type": "code",
   "execution_count": null,
   "id": "74eb980d",
   "metadata": {},
   "outputs": [],
   "source": []
  },
  {
   "cell_type": "code",
   "execution_count": null,
   "id": "67e24c88",
   "metadata": {},
   "outputs": [],
   "source": []
  },
  {
   "cell_type": "code",
   "execution_count": null,
   "id": "ba194cd9",
   "metadata": {},
   "outputs": [],
   "source": []
  },
  {
   "cell_type": "code",
   "execution_count": null,
   "id": "49903bac",
   "metadata": {},
   "outputs": [],
   "source": [
    "df_test_my.to_parquet('./feature_data_f32/df_test_my.parquet')\n",
    "df_test_zxy.to_parquet('./feature_data_f32/df_test_zxy.parquet')\n",
    "df_test_cyx.to_parquet('./feature_data_f32/df_test_cyx.parquet')"
   ]
  },
  {
   "cell_type": "code",
   "execution_count": null,
   "id": "0edd08d2",
   "metadata": {},
   "outputs": [],
   "source": []
  },
  {
   "cell_type": "code",
   "execution_count": null,
   "id": "1cf12e1c",
   "metadata": {},
   "outputs": [],
   "source": []
  },
  {
   "cell_type": "code",
   "execution_count": null,
   "id": "c3ed96f4",
   "metadata": {},
   "outputs": [],
   "source": []
  }
 ],
 "metadata": {
  "kernelspec": {
   "display_name": "Python 3 (ipykernel)",
   "language": "python",
   "name": "python3"
  },
  "language_info": {
   "codemirror_mode": {
    "name": "ipython",
    "version": 3
   },
   "file_extension": ".py",
   "mimetype": "text/x-python",
   "name": "python",
   "nbconvert_exporter": "python",
   "pygments_lexer": "ipython3",
   "version": "3.9.13"
  },
  "toc": {
   "base_numbering": 1,
   "nav_menu": {},
   "number_sections": true,
   "sideBar": true,
   "skip_h1_title": false,
   "title_cell": "Table of Contents",
   "title_sidebar": "Contents",
   "toc_cell": false,
   "toc_position": {
    "height": "calc(100% - 180px)",
    "left": "10px",
    "top": "150px",
    "width": "164.997px"
   },
   "toc_section_display": true,
   "toc_window_display": true
  }
 },
 "nbformat": 4,
 "nbformat_minor": 5
}
